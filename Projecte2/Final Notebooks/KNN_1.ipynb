{
  "cells": [
    {
      "cell_type": "markdown",
      "metadata": {
        "id": "f0YfZ8_mMEkc"
      },
      "source": [
        "# KNN"
      ]
    },
    {
      "cell_type": "code",
      "execution_count": 1,
      "metadata": {
        "ExecuteTime": {
          "end_time": "2024-05-22T14:32:37.716993Z",
          "start_time": "2024-05-22T14:32:36.034482800Z"
        },
        "id": "CR6RzyEhMEkd"
      },
      "outputs": [],
      "source": [
        "#librerias\n",
        "import sklearn\n",
        "import numpy as np\n",
        "import pandas as pd\n",
        "from sklearn import metrics\n",
        "import sklearn.neighbors as nb\n",
        "import matplotlib.pyplot as plt\n",
        "from sklearn.metrics import confusion_matrix\n",
        "from sklearn.preprocessing import StandardScaler\n",
        "from sklearn.model_selection import GridSearchCV\n",
        "from sklearn.model_selection import learning_curve\n",
        "from sklearn.neighbors import KNeighborsClassifier\n",
        "from sklearn.model_selection import cross_val_score\n",
        "from imblearn.over_sampling import RandomOverSampler\n",
        "from sklearn.model_selection import train_test_split\n",
        "from sklearn.model_selection import cross_val_predict\n",
        "from sklearn.model_selection import cross_val_predict\n",
        "from statsmodels.stats.proportion import proportion_confint\n",
        "from imblearn.over_sampling import SMOTE\n",
        "from sklearn.model_selection import train_test_split\n",
        "from sklearn.neighbors import KNeighborsClassifier\n",
        "from sklearn.metrics import accuracy_score"
      ]
    },
    {
      "cell_type": "markdown",
      "metadata": {},
      "source": [
        "Proceso General y Preparación de Datos"
      ]
    },
    {
      "cell_type": "code",
      "execution_count": 2,
      "metadata": {
        "ExecuteTime": {
          "end_time": "2024-05-22T14:32:38.291674400Z",
          "start_time": "2024-05-22T14:32:37.718229200Z"
        },
        "id": "XQvcNYeOMEkf"
      },
      "outputs": [],
      "source": [
        "x = pd.read_csv('preprocessed_encoded.csv')\n",
        "df_match = pd.read_csv('preprocessed.csv')\n",
        "y = df_match['match']"
      ]
    },
    {
      "cell_type": "code",
      "execution_count": 3,
      "metadata": {
        "colab": {
          "base_uri": "https://localhost:8080/",
          "height": 273
        },
        "id": "0VsGcIGQMEkf",
        "outputId": "42fa1e93-37c2-4378-f4d3-cd061826038a"
      },
      "outputs": [
        {
          "data": {
            "text/html": [
              "<div>\n",
              "<style scoped>\n",
              "    .dataframe tbody tr th:only-of-type {\n",
              "        vertical-align: middle;\n",
              "    }\n",
              "\n",
              "    .dataframe tbody tr th {\n",
              "        vertical-align: top;\n",
              "    }\n",
              "\n",
              "    .dataframe thead th {\n",
              "        text-align: right;\n",
              "    }\n",
              "</style>\n",
              "<table border=\"1\" class=\"dataframe\">\n",
              "  <thead>\n",
              "    <tr style=\"text-align: right;\">\n",
              "      <th></th>\n",
              "      <th>wave</th>\n",
              "      <th>age</th>\n",
              "      <th>age_o</th>\n",
              "      <th>d_age</th>\n",
              "      <th>importance_same_race</th>\n",
              "      <th>importance_same_religion</th>\n",
              "      <th>pref_o_attractive</th>\n",
              "      <th>pref_o_sincere</th>\n",
              "      <th>pref_o_intelligence</th>\n",
              "      <th>pref_o_funny</th>\n",
              "      <th>...</th>\n",
              "      <th>field_physics [astrophysics]</th>\n",
              "      <th>field_political science</th>\n",
              "      <th>field_psychology</th>\n",
              "      <th>field_psychology and english</th>\n",
              "      <th>field_social work</th>\n",
              "      <th>field_sociology</th>\n",
              "      <th>field_speech pathology</th>\n",
              "      <th>field_teaching of English</th>\n",
              "      <th>field_theory</th>\n",
              "      <th>field_working</th>\n",
              "    </tr>\n",
              "  </thead>\n",
              "  <tbody>\n",
              "    <tr>\n",
              "      <th>0</th>\n",
              "      <td>1.0</td>\n",
              "      <td>21.0</td>\n",
              "      <td>27.0</td>\n",
              "      <td>6.0</td>\n",
              "      <td>2.0</td>\n",
              "      <td>4.0</td>\n",
              "      <td>35.0</td>\n",
              "      <td>20.0</td>\n",
              "      <td>20.0</td>\n",
              "      <td>20.0</td>\n",
              "      <td>...</td>\n",
              "      <td>0</td>\n",
              "      <td>0</td>\n",
              "      <td>0</td>\n",
              "      <td>0</td>\n",
              "      <td>0</td>\n",
              "      <td>0</td>\n",
              "      <td>0</td>\n",
              "      <td>0</td>\n",
              "      <td>0</td>\n",
              "      <td>0</td>\n",
              "    </tr>\n",
              "    <tr>\n",
              "      <th>1</th>\n",
              "      <td>1.0</td>\n",
              "      <td>21.0</td>\n",
              "      <td>22.0</td>\n",
              "      <td>1.0</td>\n",
              "      <td>2.0</td>\n",
              "      <td>4.0</td>\n",
              "      <td>60.0</td>\n",
              "      <td>0.0</td>\n",
              "      <td>0.0</td>\n",
              "      <td>40.0</td>\n",
              "      <td>...</td>\n",
              "      <td>0</td>\n",
              "      <td>0</td>\n",
              "      <td>0</td>\n",
              "      <td>0</td>\n",
              "      <td>0</td>\n",
              "      <td>0</td>\n",
              "      <td>0</td>\n",
              "      <td>0</td>\n",
              "      <td>0</td>\n",
              "      <td>0</td>\n",
              "    </tr>\n",
              "    <tr>\n",
              "      <th>2</th>\n",
              "      <td>1.0</td>\n",
              "      <td>21.0</td>\n",
              "      <td>22.0</td>\n",
              "      <td>1.0</td>\n",
              "      <td>2.0</td>\n",
              "      <td>4.0</td>\n",
              "      <td>19.0</td>\n",
              "      <td>18.0</td>\n",
              "      <td>19.0</td>\n",
              "      <td>18.0</td>\n",
              "      <td>...</td>\n",
              "      <td>0</td>\n",
              "      <td>0</td>\n",
              "      <td>0</td>\n",
              "      <td>0</td>\n",
              "      <td>0</td>\n",
              "      <td>0</td>\n",
              "      <td>0</td>\n",
              "      <td>0</td>\n",
              "      <td>0</td>\n",
              "      <td>0</td>\n",
              "    </tr>\n",
              "    <tr>\n",
              "      <th>3</th>\n",
              "      <td>1.0</td>\n",
              "      <td>21.0</td>\n",
              "      <td>23.0</td>\n",
              "      <td>2.0</td>\n",
              "      <td>2.0</td>\n",
              "      <td>4.0</td>\n",
              "      <td>30.0</td>\n",
              "      <td>5.0</td>\n",
              "      <td>15.0</td>\n",
              "      <td>40.0</td>\n",
              "      <td>...</td>\n",
              "      <td>0</td>\n",
              "      <td>0</td>\n",
              "      <td>0</td>\n",
              "      <td>0</td>\n",
              "      <td>0</td>\n",
              "      <td>0</td>\n",
              "      <td>0</td>\n",
              "      <td>0</td>\n",
              "      <td>0</td>\n",
              "      <td>0</td>\n",
              "    </tr>\n",
              "    <tr>\n",
              "      <th>4</th>\n",
              "      <td>1.0</td>\n",
              "      <td>21.0</td>\n",
              "      <td>24.0</td>\n",
              "      <td>3.0</td>\n",
              "      <td>2.0</td>\n",
              "      <td>4.0</td>\n",
              "      <td>30.0</td>\n",
              "      <td>10.0</td>\n",
              "      <td>20.0</td>\n",
              "      <td>10.0</td>\n",
              "      <td>...</td>\n",
              "      <td>0</td>\n",
              "      <td>0</td>\n",
              "      <td>0</td>\n",
              "      <td>0</td>\n",
              "      <td>0</td>\n",
              "      <td>0</td>\n",
              "      <td>0</td>\n",
              "      <td>0</td>\n",
              "      <td>0</td>\n",
              "      <td>0</td>\n",
              "    </tr>\n",
              "  </tbody>\n",
              "</table>\n",
              "<p>5 rows × 332 columns</p>\n",
              "</div>"
            ],
            "text/plain": [
              "   wave   age  age_o  d_age  importance_same_race  importance_same_religion  \\\n",
              "0   1.0  21.0   27.0    6.0                   2.0                       4.0   \n",
              "1   1.0  21.0   22.0    1.0                   2.0                       4.0   \n",
              "2   1.0  21.0   22.0    1.0                   2.0                       4.0   \n",
              "3   1.0  21.0   23.0    2.0                   2.0                       4.0   \n",
              "4   1.0  21.0   24.0    3.0                   2.0                       4.0   \n",
              "\n",
              "   pref_o_attractive  pref_o_sincere  pref_o_intelligence  pref_o_funny  ...  \\\n",
              "0               35.0            20.0                 20.0          20.0  ...   \n",
              "1               60.0             0.0                  0.0          40.0  ...   \n",
              "2               19.0            18.0                 19.0          18.0  ...   \n",
              "3               30.0             5.0                 15.0          40.0  ...   \n",
              "4               30.0            10.0                 20.0          10.0  ...   \n",
              "\n",
              "   field_physics [astrophysics]  field_political science  field_psychology  \\\n",
              "0                             0                        0                 0   \n",
              "1                             0                        0                 0   \n",
              "2                             0                        0                 0   \n",
              "3                             0                        0                 0   \n",
              "4                             0                        0                 0   \n",
              "\n",
              "   field_psychology and english  field_social work  field_sociology  \\\n",
              "0                             0                  0                0   \n",
              "1                             0                  0                0   \n",
              "2                             0                  0                0   \n",
              "3                             0                  0                0   \n",
              "4                             0                  0                0   \n",
              "\n",
              "   field_speech pathology  field_teaching of English  field_theory  \\\n",
              "0                       0                          0             0   \n",
              "1                       0                          0             0   \n",
              "2                       0                          0             0   \n",
              "3                       0                          0             0   \n",
              "4                       0                          0             0   \n",
              "\n",
              "   field_working  \n",
              "0              0  \n",
              "1              0  \n",
              "2              0  \n",
              "3              0  \n",
              "4              0  \n",
              "\n",
              "[5 rows x 332 columns]"
            ]
          },
          "execution_count": 3,
          "metadata": {},
          "output_type": "execute_result"
        }
      ],
      "source": [
        "x.head()"
      ]
    },
    {
      "cell_type": "code",
      "execution_count": 4,
      "metadata": {
        "colab": {
          "base_uri": "https://localhost:8080/"
        },
        "id": "Ycve0nOcMEkg",
        "outputId": "6c7b980f-2d20-4a5a-e27b-1bb711d008a3"
      },
      "outputs": [
        {
          "name": "stdout",
          "output_type": "stream",
          "text": [
            "(8378, 332)\n",
            "(8378,)\n"
          ]
        }
      ],
      "source": [
        "print(x.shape)\n",
        "print(y.shape)"
      ]
    },
    {
      "cell_type": "code",
      "execution_count": 5,
      "metadata": {
        "ExecuteTime": {
          "end_time": "2024-05-22T14:32:38.718858500Z",
          "start_time": "2024-05-22T14:32:38.295260500Z"
        },
        "id": "sUlccHi7MEkg"
      },
      "outputs": [],
      "source": [
        "# Dividir los datos en conjunto de entrenamiento y prueba con un 20% de los datos para prueba\n",
        "X_train, X_test, y_train1, y_test1 = train_test_split(x, y,  test_size=0.3, random_state=1, stratify=y)"
      ]
    },
    {
      "cell_type": "code",
      "execution_count": 6,
      "metadata": {
        "id": "jZslVCIvMEkg"
      },
      "outputs": [],
      "source": [
        "# Normalization\n",
        "scaler = StandardScaler()\n",
        "X_train1 = scaler.fit_transform(X_train)\n",
        "X_test1 = scaler.transform(X_test)"
      ]
    },
    {
      "cell_type": "code",
      "execution_count": 7,
      "metadata": {
        "id": "9nhlJrV4MEkg"
      },
      "outputs": [],
      "source": [
        "# Balancear el conjunto de datos\n",
        "ros = RandomOverSampler(random_state=42)\n",
        "X_train, y_train = ros.fit_resample(X_train1, y_train1)\n",
        "X_test, y_test = ros.fit_resample(X_test1, y_test1)"
      ]
    },
    {
      "cell_type": "code",
      "execution_count": 8,
      "metadata": {
        "colab": {
          "base_uri": "https://localhost:8080/",
          "height": 710
        },
        "id": "1IX2nstUMEkg",
        "outputId": "078cd36c-03b6-42bf-9b71-271708929e76"
      },
      "outputs": [
        {
          "data": {
            "image/png": "[encoded data removed]",
            "text/plain": [
              "<Figure size 1000x500 with 2 Axes>"
            ]
          },
          "metadata": {},
          "output_type": "display_data"
        },
        {
          "name": "stdout",
          "output_type": "stream",
          "text": [
            "Proporción de clases antes del sobremuestreo:\n",
            "match\n",
            "0    0.835266\n",
            "1    0.164734\n",
            "Name: count, dtype: float64\n",
            "\n",
            "Proporción de clases después del sobremuestreo:\n",
            "match\n",
            "0    0.5\n",
            "1    0.5\n",
            "Name: count, dtype: float64\n"
          ]
        }
      ],
      "source": [
        "# Contar las clases en los conjuntos de datos originales\n",
        "original_class_counts = pd.Series(y_train1).value_counts()\n",
        "\n",
        "# Contar las clases en los conjuntos de datos sobremuestreados\n",
        "resampled_class_counts = pd.Series(y_train).value_counts()\n",
        "\n",
        "# Visualizar la distribución de clases antes y después del sobremuestreo\n",
        "plt.figure(figsize=(10, 5))\n",
        "plt.subplot(1, 2, 1)\n",
        "plt.bar(original_class_counts.index, original_class_counts.values)\n",
        "plt.title('Distribución de Clases (Antes del Sobremuestreo)')\n",
        "plt.xlabel('Clase')\n",
        "plt.ylabel('Número de Muestras')\n",
        "\n",
        "plt.subplot(1, 2, 2)\n",
        "plt.bar(resampled_class_counts.index, resampled_class_counts.values)\n",
        "plt.title('Distribución de Clases (Después del Sobremuestreo)')\n",
        "plt.xlabel('Clase')\n",
        "plt.ylabel('Número de Muestras')\n",
        "\n",
        "plt.tight_layout()\n",
        "plt.show()\n",
        "\n",
        "# Imprimir la proporción de clases antes y después del sobremuestreo\n",
        "print(\"Proporción de clases antes del sobremuestreo:\")\n",
        "print(original_class_counts / len(y_train1))\n",
        "print(\"\\nProporción de clases después del sobremuestreo:\")\n",
        "print(resampled_class_counts / len(y_train))\n"
      ]
    },
    {
      "cell_type": "markdown",
      "metadata": {},
      "source": [
        "**EVALUACIÓN SIMLE**"
      ]
    },
    {
      "cell_type": "code",
      "execution_count": 9,
      "metadata": {
        "colab": {
          "base_uri": "https://localhost:8080/"
        },
        "id": "DUhIDUIOMEkh",
        "outputId": "e3468072-8e59-4df6-a3fc-859cab0db832"
      },
      "outputs": [
        {
          "name": "stdout",
          "output_type": "stream",
          "text": [
            "0.6645238095238095\n"
          ]
        }
      ],
      "source": [
        "# Create a kNN classifier object\n",
        "knc = KNeighborsClassifier()\n",
        "\n",
        "# Entrenar el clasificador kNN\n",
        "knc.fit(X_train, y_train)\n",
        "\n",
        "print(knc.score(X_test, y_test))"
      ]
    },
    {
      "cell_type": "code",
      "execution_count": 10,
      "metadata": {
        "ExecuteTime": {
          "end_time": "2024-05-22T14:32:39.096271100Z",
          "start_time": "2024-05-22T14:32:38.716581Z"
        },
        "colab": {
          "base_uri": "https://localhost:8080/"
        },
        "id": "IYCoK50QMEki",
        "outputId": "38049015-be1a-464c-ec5f-45b082ad50e6"
      },
      "outputs": [
        {
          "name": "stdout",
          "output_type": "stream",
          "text": [
            "[[1482  618]\n",
            " [ 791 1309]]\n"
          ]
        }
      ],
      "source": [
        "# Matriz de confusión\n",
        "y_pred = knc.predict(X_test)\n",
        "print(confusion_matrix(y_test, y_pred))"
      ]
    },
    {
      "cell_type": "code",
      "execution_count": 11,
      "metadata": {
        "ExecuteTime": {
          "end_time": "2024-05-22T14:32:39.202961400Z",
          "start_time": "2024-05-22T14:32:39.093849100Z"
        },
        "colab": {
          "base_uri": "https://localhost:8080/"
        },
        "id": "MTYw407rMEki",
        "outputId": "b255acda-03fc-4a46-edd9-67ff2f7fd5f8"
      },
      "outputs": [
        {
          "name": "stdout",
          "output_type": "stream",
          "text": [
            "              precision    recall  f1-score   support\n",
            "\n",
            "           0       0.65      0.71      0.68      2100\n",
            "           1       0.68      0.62      0.65      2100\n",
            "\n",
            "    accuracy                           0.66      4200\n",
            "   macro avg       0.67      0.66      0.66      4200\n",
            "weighted avg       0.67      0.66      0.66      4200\n",
            "\n"
          ]
        }
      ],
      "source": [
        "# se imprime el reporte de clasificación\n",
        "print(metrics.classification_report(y_test, y_pred))"
      ]
    },
    {
      "cell_type": "code",
      "execution_count": 12,
      "metadata": {},
      "outputs": [
        {
          "data": {
            "image/png": "[encoded data removed]",
            "text/plain": [
              "<Figure size 250x250 with 1 Axes>"
            ]
          },
          "metadata": {},
          "output_type": "display_data"
        }
      ],
      "source": [
        "confmat = sklearn.metrics.confusion_matrix(y_test, y_pred)\n",
        "\n",
        "fig, ax = plt.subplots(figsize=(2.5, 2.5))\n",
        "ax.matshow(confmat, cmap=plt.cm.Blues, alpha=0.3)\n",
        "for i in range(confmat.shape[0]):\n",
        "    for j in range(confmat.shape[1]):\n",
        "        ax.text(x=j, y=i, s=confmat[i, j], va='center', ha='center',fontsize=7)\n",
        "\n",
        "plt.xlabel('Predicted label')\n",
        "plt.ylabel('True label')\n",
        "\n",
        "plt.tight_layout()\n",
        "plt.show()"
      ]
    },
    {
      "cell_type": "code",
      "execution_count": 13,
      "metadata": {},
      "outputs": [],
      "source": [
        "train_sizes = np.linspace(0.1, 1.0, 10)  # Desde 10% hasta 100% del conjunto de entrenamiento\n",
        "train_scores = []\n",
        "test_scores = []\n"
      ]
    },
    {
      "cell_type": "code",
      "execution_count": 14,
      "metadata": {},
      "outputs": [],
      "source": [
        "for train_size in train_sizes:\n",
        "    if train_size < 1.0:\n",
        "        X_train_subset, _, y_train_subset, _ = train_test_split(X_train, y_train, train_size=train_size, random_state=1, stratify=y_train)\n",
        "    else:\n",
        "        X_train_subset, y_train_subset = X_train, y_train  # Usa todo el conjunto de entrenamiento\n",
        "\n",
        "    knc = KNeighborsClassifier(n_neighbors=3)\n",
        "    knc.fit(X_train_subset, y_train_subset)\n",
        "    train_scores.append([knc.score(X_train_subset, y_train_subset)])\n",
        "    test_scores.append([knc.score(X_test, y_test)])"
      ]
    },
    {
      "cell_type": "code",
      "execution_count": 15,
      "metadata": {},
      "outputs": [],
      "source": [
        "# Convertir listas a arrays de NumPy y garantizar que son 2D\n",
        "train_scores = np.array(train_scores)\n",
        "test_scores = np.array(test_scores)"
      ]
    },
    {
      "cell_type": "code",
      "execution_count": 16,
      "metadata": {},
      "outputs": [
        {
          "data": {
            "image/png": "[encoded data removed]",
            "text/plain": [
              "<Figure size 1000x600 with 1 Axes>"
            ]
          },
          "metadata": {},
          "output_type": "display_data"
        }
      ],
      "source": [
        "# Graficar la curva de aprendizaje\n",
        "plt.figure(figsize=(10, 6))\n",
        "plt.plot(train_sizes, np.mean(train_scores, axis=1), 'o-', color=\"r\", label=\"Training accuracy\")\n",
        "plt.fill_between(train_sizes, np.mean(train_scores, axis=1) - np.std(train_scores, axis=1), \n",
        "                 np.mean(train_scores, axis=1) + np.std(train_scores, axis=1), color=\"r\", alpha=0.1)\n",
        "plt.plot(train_sizes, np.mean(test_scores, axis=1), 'o-', color=\"g\", label=\"Validation accuracy\")\n",
        "plt.fill_between(train_sizes, np.mean(test_scores, axis=1) - np.std(test_scores, axis=1),\n",
        "                 np.mean(test_scores, axis=1) + np.std(test_scores, axis=1), color=\"g\", alpha=0.1)\n",
        "plt.title('Learning Curve for k-NN')\n",
        "plt.xlabel('Proportion of Training Data Used')\n",
        "plt.ylabel('Accuracy')\n",
        "plt.legend(loc='best')\n",
        "plt.grid(True)\n",
        "plt.show()"
      ]
    },
    {
      "cell_type": "markdown",
      "metadata": {},
      "source": [
        "**VALIDACIÓN CRUZADA**"
      ]
    },
    {
      "cell_type": "code",
      "execution_count": 17,
      "metadata": {
        "ExecuteTime": {
          "end_time": "2024-05-22T14:32:41.484537800Z",
          "start_time": "2024-05-22T14:32:39.110486500Z"
        },
        "colab": {
          "base_uri": "https://localhost:8080/"
        },
        "id": "pYjkoF4hMEkj",
        "outputId": "64b3f364-0add-491f-edab-b6eb13291bfb"
      },
      "outputs": [
        {
          "name": "stdout",
          "output_type": "stream",
          "text": [
            "[0.79489796 0.80918367 0.83469388 0.81122449 0.79285714 0.8377551\n",
            " 0.79877426 0.83043922 0.81613892 0.83861083]\n"
          ]
        }
      ],
      "source": [
        "cv_scores = cross_val_score(nb.KNeighborsClassifier(), X=X_train, y=y_train, cv=10, scoring='accuracy')\n",
        "\n",
        "print(cv_scores)"
      ]
    },
    {
      "cell_type": "code",
      "execution_count": 18,
      "metadata": {
        "ExecuteTime": {
          "end_time": "2024-05-22T14:32:41.633302500Z",
          "start_time": "2024-05-22T14:32:41.478782700Z"
        },
        "colab": {
          "base_uri": "https://localhost:8080/"
        },
        "id": "USPmQGLLMEkj",
        "outputId": "117418ee-93cb-4ec2-bd8e-daa9c44f61ca"
      },
      "outputs": [
        {
          "name": "stdout",
          "output_type": "stream",
          "text": [
            "0.8164575472681411\n",
            "0.016992039098431434\n"
          ]
        }
      ],
      "source": [
        "print(np.mean(cv_scores))\n",
        "print(np.std(cv_scores))"
      ]
    },
    {
      "cell_type": "code",
      "execution_count": 19,
      "metadata": {},
      "outputs": [
        {
          "name": "stdout",
          "output_type": "stream",
          "text": [
            "[[3365 1533]\n",
            " [ 265 4633]]\n"
          ]
        }
      ],
      "source": [
        "from sklearn.model_selection import cross_val_predict\n",
        "from sklearn.neighbors import KNeighborsClassifier\n",
        "from sklearn.metrics import accuracy_score\n",
        "\n",
        "# Asegúrate de que estás utilizando KNeighborsClassifier directamente sin el prefijo 'nb'\n",
        "predicted = cross_val_predict(KNeighborsClassifier(), X=X_train, y=y_train, cv=10)\n",
        "\n",
        "# Usa y_train en lugar de y para asegurar que estás comparando las predicciones con el conjunto correcto\n",
        "print(confusion_matrix(y_train, predicted))\n",
        "\n"
      ]
    },
    {
      "cell_type": "code",
      "execution_count": 20,
      "metadata": {},
      "outputs": [
        {
          "name": "stdout",
          "output_type": "stream",
          "text": [
            "0.8164556962025317\n"
          ]
        }
      ],
      "source": [
        "print(accuracy_score(y_train, predicted))"
      ]
    },
    {
      "cell_type": "code",
      "execution_count": 21,
      "metadata": {},
      "outputs": [
        {
          "name": "stdout",
          "output_type": "stream",
          "text": [
            "              precision    recall  f1-score   support\n",
            "\n",
            "           0       0.93      0.69      0.79      4898\n",
            "           1       0.75      0.95      0.84      4898\n",
            "\n",
            "    accuracy                           0.82      9796\n",
            "   macro avg       0.84      0.82      0.81      9796\n",
            "weighted avg       0.84      0.82      0.81      9796\n",
            "\n"
          ]
        }
      ],
      "source": [
        "print(metrics.classification_report(y_train, predicted))"
      ]
    },
    {
      "cell_type": "code",
      "execution_count": 22,
      "metadata": {
        "ExecuteTime": {
          "end_time": "2024-05-22T14:32:44.067298500Z",
          "start_time": "2024-05-22T14:32:43.830491100Z"
        },
        "colab": {
          "base_uri": "https://localhost:8080/",
          "height": 257
        },
        "id": "5ZmP4c8-MEkj",
        "outputId": "fa051ace-5a48-48a1-cae5-36e4869a4c56"
      },
      "outputs": [
        {
          "data": {
            "image/png": "[encoded data removed]",
            "text/plain": [
              "<Figure size 250x250 with 1 Axes>"
            ]
          },
          "metadata": {},
          "output_type": "display_data"
        }
      ],
      "source": [
        "confmat = sklearn.metrics.confusion_matrix(y_train, predicted)\n",
        "\n",
        "fig, ax = plt.subplots(figsize=(2.5, 2.5))\n",
        "ax.matshow(confmat, cmap=plt.cm.Blues, alpha=0.3)\n",
        "for i in range(confmat.shape[0]):\n",
        "    for j in range(confmat.shape[1]):\n",
        "        ax.text(x=j, y=i, s=confmat[i, j], va='center', ha='center',fontsize=7)\n",
        "\n",
        "plt.xlabel('Predicted label')\n",
        "plt.ylabel('True label')\n",
        "\n",
        "plt.tight_layout()\n",
        "plt.show()"
      ]
    },
    {
      "cell_type": "code",
      "execution_count": 23,
      "metadata": {},
      "outputs": [
        {
          "name": "stdout",
          "output_type": "stream",
          "text": [
            "              precision    recall  f1-score   support\n",
            "\n",
            "           0       0.65      0.71      0.68      2100\n",
            "           1       0.68      0.62      0.65      2100\n",
            "\n",
            "    accuracy                           0.66      4200\n",
            "   macro avg       0.67      0.66      0.66      4200\n",
            "weighted avg       0.67      0.66      0.66      4200\n",
            "\n"
          ]
        }
      ],
      "source": [
        "print(metrics.classification_report(y_test, y_pred))"
      ]
    },
    {
      "cell_type": "markdown",
      "metadata": {},
      "source": [
        "**Evaluación de k-NN con diferentes números de vecinos (k)**\n",
        "\n",
        "validación cruzada para evaluar el rendimiento de k-NN con distintos valores de \n",
        "𝑘\n",
        "k (número de vecinos)."
      ]
    },
    {
      "cell_type": "code",
      "execution_count": 24,
      "metadata": {
        "ExecuteTime": {
          "end_time": "2024-05-22T14:34:20.492573800Z",
          "start_time": "2024-05-22T14:34:12.505546100Z"
        },
        "colab": {
          "base_uri": "https://localhost:8080/"
        },
        "id": "LzuVK9jdMEkl",
        "outputId": "d8d67fff-106f-4bf9-db5c-2f65e40cd4eb"
      },
      "outputs": [
        {
          "name": "stdout",
          "output_type": "stream",
          "text": [
            "Accuracy 1 neighbour: 0.9258903295741178\n",
            "Accuracy 3 neighbours: 0.870459548477205\n",
            "Accuracy 5 neighbours: 0.8164575472681411\n",
            "Accuracy 7 neighbours: 0.7802163807300244\n",
            "Accuracy 9 neighbours: 0.7568376727606262\n"
          ]
        }
      ],
      "source": [
        "cv_scores = cross_val_score(nb.KNeighborsClassifier(n_neighbors=1), X=X_train, y=y_train,  cv=10)\n",
        "print(\"Accuracy 1 neighbour:\", np.mean(cv_scores))\n",
        "\n",
        "cv_scores = cross_val_score(nb.KNeighborsClassifier(n_neighbors=3), X=X_train, y=y_train,  cv=10)\n",
        "print(\"Accuracy 3 neighbours:\",  np.mean(cv_scores))\n",
        "\n",
        "cv_scores = cross_val_score(nb.KNeighborsClassifier(n_neighbors=5), X=X_train, y=y_train,  cv=10)\n",
        "print(\"Accuracy 5 neighbours:\",  np.mean(cv_scores))\n",
        "\n",
        "cv_scores = cross_val_score(nb.KNeighborsClassifier(n_neighbors=7), X=X_train, y=y_train,  cv=10)\n",
        "print(\"Accuracy 7 neighbours:\",  np.mean(cv_scores))\n",
        "\n",
        "cv_scores = cross_val_score(nb.KNeighborsClassifier(n_neighbors=9), X=X_train, y=y_train,  cv=10)\n",
        "print(\"Accuracy 9 neighbours:\",  np.mean(cv_scores))"
      ]
    },
    {
      "cell_type": "code",
      "execution_count": 25,
      "metadata": {
        "ExecuteTime": {
          "end_time": "2024-05-22T14:34:36.798624900Z",
          "start_time": "2024-05-22T14:34:20.493926800Z"
        },
        "colab": {
          "base_uri": "https://localhost:8080/"
        },
        "id": "x_CN56jDMEkm",
        "outputId": "0680ca26-4aad-4fc6-928e-2fbedabf0923"
      },
      "outputs": [
        {
          "name": "stdout",
          "output_type": "stream",
          "text": [
            "Accuracy 1 neighbour: 0.9258903295741178\n",
            "Accuracy 2 neighbour: 0.9159895561901983\n",
            "Accuracy 3 neighbour: 0.870459548477205\n",
            "Accuracy 4 neighbour: 0.8529011277646912\n",
            "Accuracy 5 neighbour: 0.8164575472681411\n",
            "Accuracy 6 neighbour: 0.799817910821121\n",
            "Accuracy 7 neighbour: 0.7802163807300244\n",
            "Accuracy 8 neighbour: 0.775316753872131\n",
            "Accuracy 9 neighbour: 0.7568376727606262\n",
            "Accuracy 10 neighbour: 0.7502031435659043\n",
            "\n",
            "Accuracy 1 neighbour: 0.9258903295741178\n"
          ]
        }
      ],
      "source": [
        "lista=[]\n",
        "for i in range(1, 11):\n",
        "    cv_scores = cross_val_score(nb.KNeighborsClassifier(n_neighbors=i), X=X_train, y=y_train,  cv=10)\n",
        "    lista.append(np.mean(cv_scores))\n",
        "    print(\"Accuracy\", i ,\"neighbour:\", np.mean(cv_scores))\n",
        "\n",
        "print()\n",
        "print(\"Accuracy\", lista.index((max(lista))) + 1, \"neighbour:\", max(lista))\n"
      ]
    },
    {
      "cell_type": "code",
      "execution_count": 26,
      "metadata": {
        "ExecuteTime": {
          "end_time": "2024-05-22T14:34:50.275410300Z",
          "start_time": "2024-05-22T14:34:36.798465500Z"
        },
        "colab": {
          "base_uri": "https://localhost:8080/"
        },
        "id": "cwsSk0xfMEkm",
        "outputId": "fd78a7de-b884-447a-dfa6-64cfb7d962b9"
      },
      "outputs": [
        {
          "name": "stdout",
          "output_type": "stream",
          "text": [
            "Accuracy 1 neighbour: and distance weighting: 0.9258903295741178\n",
            "Accuracy 2 neighbour: and distance weighting: 0.9258903295741178\n",
            "Accuracy 3 neighbour: and distance weighting: 0.8809731921369159\n",
            "Accuracy 4 neighbour: and distance weighting: 0.8818918721727712\n",
            "Accuracy 5 neighbour: and distance weighting: 0.8434061203643868\n",
            "Accuracy 6 neighbour: and distance weighting: 0.8473868587271477\n",
            "Accuracy 7 neighbour: and distance weighting: 0.8294200662900503\n",
            "Accuracy 8 neighbour: and distance weighting: 0.83574951533218\n",
            "Accuracy 9 neighbour: and distance weighting: 0.8238056325696774\n",
            "Accuracy 10 neighbour: and distance weighting: 0.8253367659627692\n",
            "\n",
            "Accuracy 1 neighbour: and distance weighting: 0.9258903295741178\n"
          ]
        }
      ],
      "source": [
        "lista=[]\n",
        "for i in range(1, 11):\n",
        "    cv_scores = cross_val_score(nb.KNeighborsClassifier(n_neighbors= i,weights='distance'), X=X_train, y=y_train,  cv=10)\n",
        "    lista.append(np.mean(cv_scores))\n",
        "    print(\"Accuracy\", i ,\"neighbour: and distance weighting:\", np.mean(cv_scores))\n",
        "\n",
        "print()\n",
        "print(\"Accuracy\", lista.index((max(lista))) + 1,\"neighbour: and distance weighting:\", max(lista))\n"
      ]
    },
    {
      "cell_type": "markdown",
      "metadata": {},
      "source": [
        "    Validación Cruzada en GridSearchCV"
      ]
    },
    {
      "cell_type": "code",
      "execution_count": 27,
      "metadata": {
        "ExecuteTime": {
          "end_time": "2024-05-22T14:36:15.316149500Z",
          "start_time": "2024-05-22T14:35:35.719964900Z"
        },
        "colab": {
          "base_uri": "https://localhost:8080/"
        },
        "id": "hNjG9rd4MEkn",
        "outputId": "aa49369c-3684-471c-a198-25ce59c2061a"
      },
      "outputs": [
        {
          "name": "stdout",
          "output_type": "stream",
          "text": [
            "Best Params= {'n_neighbors': 1, 'weights': 'distance'} Accuracy= 0.9258903295741178\n"
          ]
        }
      ],
      "source": [
        "params = {'n_neighbors':list(range(1,30)), 'weights':('distance','uniform')}\n",
        "knc = nb.KNeighborsClassifier()\n",
        "clf = GridSearchCV(knc, param_grid=params,cv=10,n_jobs=-1)  # If cv is integer, by default is Stratifyed\n",
        "clf.fit(X_train, y_train)\n",
        "print(\"Best Params=\",clf.best_params_, \"Accuracy=\", clf.best_score_)"
      ]
    },
    {
      "cell_type": "code",
      "execution_count": 28,
      "metadata": {},
      "outputs": [
        {
          "data": {
            "image/png": "[encoded data removed]",
            "text/plain": [
              "<Figure size 640x480 with 1 Axes>"
            ]
          },
          "metadata": {},
          "output_type": "display_data"
        }
      ],
      "source": [
        "lr = []\n",
        "for ki in range(1,30,2):\n",
        "    cv_scores = cross_val_score(nb.KNeighborsClassifier(n_neighbors=ki), X=X_train, y=y_train, cv=10)\n",
        "    lr.append(np.mean(cv_scores))\n",
        "plt.plot(range(1,30,2),lr,'b',label='No weighting')\n",
        "\n",
        "lr = []\n",
        "for ki in range(1,30,2):\n",
        "    cv_scores = cross_val_score(nb.KNeighborsClassifier(n_neighbors=ki,weights='distance'), X=X_train, y=y_train, cv=10)\n",
        "    lr.append(np.mean(cv_scores))\n",
        "plt.plot(range(1,30,2),lr,'r',label='Weighting')\n",
        "plt.xlabel('k')\n",
        "plt.ylabel('Accuracy')\n",
        "plt.legend(loc='upper right')\n",
        "plt.grid()\n",
        "plt.tight_layout()\n",
        "\n",
        "plt.show()"
      ]
    },
    {
      "cell_type": "code",
      "execution_count": 29,
      "metadata": {},
      "outputs": [],
      "source": [
        "# Define el clasificador\n",
        "knc = KNeighborsClassifier(n_neighbors=1)"
      ]
    },
    {
      "cell_type": "code",
      "execution_count": 30,
      "metadata": {},
      "outputs": [],
      "source": [
        "# Configura los tamaños de entrenamiento y realiza la curva de aprendizaje\n",
        "train_sizes, train_scores, test_scores = learning_curve(\n",
        "    estimator=knc,\n",
        "    X=X_train,\n",
        "    y=y_train,\n",
        "    train_sizes=np.linspace(0.1, 1.0, 10),\n",
        "    cv=10,\n",
        "    n_jobs=-1\n",
        ")"
      ]
    },
    {
      "cell_type": "code",
      "execution_count": 31,
      "metadata": {},
      "outputs": [],
      "source": [
        "# Calcular la media y la desviación estándar del score de entrenamiento y prueba para cada cantidad de datos\n",
        "train_mean = np.mean(train_scores, axis=1)\n",
        "train_std = np.std(train_scores, axis=1)\n",
        "test_mean = np.mean(test_scores, axis=1)\n",
        "test_std = np.std(test_scores, axis=1)"
      ]
    },
    {
      "cell_type": "code",
      "execution_count": 32,
      "metadata": {},
      "outputs": [
        {
          "data": {
            "text/plain": [
              "<matplotlib.collections.PolyCollection at 0x2282fadf770>"
            ]
          },
          "execution_count": 32,
          "metadata": {},
          "output_type": "execute_result"
        },
        {
          "data": {
            "image/png": "[encoded data removed]",
            "text/plain": [
              "<Figure size 1000x600 with 1 Axes>"
            ]
          },
          "metadata": {},
          "output_type": "display_data"
        }
      ],
      "source": [
        "# Graficar los resultados\n",
        "plt.figure(figsize=(10, 6))\n",
        "plt.plot(train_sizes, train_mean, 'o-', color='r', label='Training score')\n",
        "plt.fill_between(train_sizes, train_mean - train_std, train_mean + train_std, color='r', alpha=0.1)\n",
        "plt.plot(train_sizes, test_mean, 'o-', color='g', label='Validation score')\n",
        "plt.fill_between(train_sizes, test_mean - test_std, test_mean + test_std, color='g', alpha=0.1)"
      ]
    },
    {
      "cell_type": "code",
      "execution_count": 33,
      "metadata": {},
      "outputs": [
        {
          "name": "stdout",
          "output_type": "stream",
          "text": [
            "[[1842  258]\n",
            " [1379  721]]\n",
            "0.6102380952380952\n",
            "              precision    recall  f1-score   support\n",
            "\n",
            "           0       0.57      0.88      0.69      2100\n",
            "           1       0.74      0.34      0.47      2100\n",
            "\n",
            "    accuracy                           0.61      4200\n",
            "   macro avg       0.65      0.61      0.58      4200\n",
            "weighted avg       0.65      0.61      0.58      4200\n",
            "\n"
          ]
        }
      ],
      "source": [
        "parval=clf.best_params_\n",
        "knc = nb.KNeighborsClassifier(n_neighbors=parval['n_neighbors'],weights=parval['weights'])\n",
        "knc.fit(X_train, y_train)\n",
        "pred=knc.predict(X_test)\n",
        "print(sklearn.metrics.confusion_matrix(y_test, pred))\n",
        "print(sklearn.metrics.accuracy_score(y_test, pred))\n",
        "print(metrics.classification_report(y_test,pred))"
      ]
    },
    {
      "cell_type": "code",
      "execution_count": 34,
      "metadata": {},
      "outputs": [
        {
          "data": {
            "image/png": "[encoded data removed]",
            "text/plain": [
              "<Figure size 250x250 with 1 Axes>"
            ]
          },
          "metadata": {},
          "output_type": "display_data"
        }
      ],
      "source": [
        "confmat = sklearn.metrics.confusion_matrix(y_test, pred)\n",
        "\n",
        "fig, ax = plt.subplots(figsize=(2.5, 2.5))\n",
        "ax.matshow(confmat, cmap=plt.cm.Blues, alpha=0.3)\n",
        "for i in range(confmat.shape[0]):\n",
        "    for j in range(confmat.shape[1]):\n",
        "        ax.text(x=j, y=i, s=confmat[i, j], va='center', ha='center',fontsize=7)\n",
        "\n",
        "plt.xlabel('Predicted label')\n",
        "plt.ylabel('True label')\n",
        "\n",
        "plt.tight_layout()\n",
        "plt.show()"
      ]
    },
    {
      "cell_type": "code",
      "execution_count": 35,
      "metadata": {
        "ExecuteTime": {
          "end_time": "2024-05-22T14:36:15.840126500Z",
          "start_time": "2024-05-22T14:36:15.751815800Z"
        },
        "colab": {
          "base_uri": "https://localhost:8080/"
        },
        "id": "GZhJWoqHMEko",
        "outputId": "c864acf4-bcea-4288-cd24-a101e4f9dc47"
      },
      "outputs": [
        {
          "name": "stdout",
          "output_type": "stream",
          "text": [
            "Can approximate by Normal Distribution?:  True\n",
            "Interval 95% confidence: 0.610 +/- 0.015\n"
          ]
        },
        {
          "data": {
            "text/plain": [
              "(0.595488748066087, 0.6249874424101035)"
            ]
          },
          "execution_count": 35,
          "metadata": {},
          "output_type": "execute_result"
        }
      ],
      "source": [
        "# interval confidence\n",
        "epsilon = sklearn.metrics.accuracy_score(y_test, pred)\n",
        "print(\"Can approximate by Normal Distribution?: \",X_test.shape[0]*epsilon*(1-epsilon)>5)\n",
        "print(\"Interval 95% confidence:\", \"{0:.3f}\".format(epsilon), \"+/-\", \"{0:.3f}\".format(1.96*np.sqrt(epsilon*(1-epsilon)/X_test.shape[0])))\n",
        "# or equivalent\n",
        "proportion_confint(count=epsilon*X_test.shape[0], nobs=X_test.shape[0], alpha=0.05, method='normal')"
      ]
    },
    {
      "cell_type": "code",
      "execution_count": 36,
      "metadata": {
        "ExecuteTime": {
          "end_time": "2024-05-22T14:36:16.239404900Z",
          "start_time": "2024-05-22T14:36:15.792478800Z"
        },
        "colab": {
          "base_uri": "https://localhost:8080/"
        },
        "id": "vrvg0BKOMEkp",
        "outputId": "e7431c1c-1875-4174-d55e-e8216d0617fa"
      },
      "outputs": [
        {
          "data": {
            "text/plain": [
              "(0.5953636552769737, 0.6248943796057854)"
            ]
          },
          "execution_count": 36,
          "metadata": {},
          "output_type": "execute_result"
        }
      ],
      "source": [
        "#Using Binomial distribution\n",
        "proportion_confint(count=epsilon*X_test.shape[0], nobs=X_test.shape[0], alpha=0.05, method='binom_test')"
      ]
    },
    {
      "cell_type": "code",
      "execution_count": 37,
      "metadata": {
        "ExecuteTime": {
          "start_time": "2024-05-22T14:36:16.238255700Z"
        },
        "colab": {
          "base_uri": "https://localhost:8080/"
        },
        "id": "KNRZ1ej2MEkp",
        "outputId": "d6ce845d-68d6-4d53-adc3-15b654f41732"
      },
      "outputs": [
        {
          "name": "stdout",
          "output_type": "stream",
          "text": [
            "Have the classifiers significant different accuracy?: True\n"
          ]
        }
      ],
      "source": [
        "# Build two classifiers\n",
        "# Classifier 1 (3 Neighbours) successes\n",
        "y_pred = cross_val_predict(nb.KNeighborsClassifier(n_neighbors=3), X=x, y=y,  cv=10)\n",
        "res1=np.zeros(y.shape)\n",
        "res1[y_pred==y]=1\n",
        "\n",
        "# Classifier 2 (7 Neighbours) 2 successes\n",
        "y_pred = cross_val_predict(nb.KNeighborsClassifier(n_neighbors=7), X=x, y=y,  cv=10)\n",
        "res2=np.zeros(y.shape)\n",
        "res2[y_pred==y]=1\n",
        "\n",
        "# Build contingency matrix\n",
        "n00 = np.sum([res1[res2==1]==1])\n",
        "n11 = np.sum([res1[res2==0]==0])\n",
        "n10 = np.sum([res1[res2==1]==0])\n",
        "n01 = np.sum([res1[res2==0]==1])\n",
        "\n",
        "# Chi -square test\n",
        "print(\"Have the classifiers significant different accuracy?:\",(np.abs(n01-n10)-1)**2/(n01+n10)>3.84)"
      ]
    }
  ],
  "metadata": {
    "colab": {
      "provenance": []
    },
    "kernelspec": {
      "display_name": "Python 3",
      "language": "python",
      "name": "python3"
    },
    "language_info": {
      "codemirror_mode": {
        "name": "ipython",
        "version": 3
      },
      "file_extension": ".py",
      "mimetype": "text/x-python",
      "name": "python",
      "nbconvert_exporter": "python",
      "pygments_lexer": "ipython3",
      "version": "3.12.2"
    }
  },
  "nbformat": 4,
  "nbformat_minor": 0
}
