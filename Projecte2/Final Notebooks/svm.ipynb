{
 "cells": [
  {
   "cell_type": "markdown",
   "metadata": {
    "pycharm": {
     "name": "#%% md\n"
    }
   },
   "source": [
    "# Support Vector Machines on the ionosphere dataset\n",
    "#### Mario Martin (updated by Manuel Gijón on May 24)\n",
    "\n",
    "We used this dataset in the Meta-methods notebook, so open it in another window to compare results with other methods."
   ]
  },
  {
   "cell_type": "code",
   "execution_count": 1,
   "metadata": {
    "pycharm": {
     "name": "#%%\n"
    },
    "ExecuteTime": {
     "end_time": "2024-05-29T07:59:26.640904800Z",
     "start_time": "2024-05-29T07:59:25.347641400Z"
    }
   },
   "outputs": [],
   "source": [
    "import numpy as np\n",
    "import pandas as pd\n",
    "\n",
    "import sklearn\n",
    "import sklearn.datasets as ds\n",
    "import sklearn.model_selection as cv\n",
    "\n",
    "import sklearn.neighbors as nb\n",
    "from sklearn.model_selection import (\n",
    "    cross_val_score, \n",
    "    GridSearchCV, \n",
    "    validation_curve,\n",
    ")\n",
    "from sklearn.preprocessing import (\n",
    "    StandardScaler, \n",
    "    MinMaxScaler,\n",
    ")\n",
    "from sklearn.svm import (\n",
    "    LinearSVC, \n",
    "    SVC,\n",
    ")\n",
    "from sklearn.ensemble import (\n",
    "    ExtraTreesClassifier, \n",
    "    AdaBoostClassifier, \n",
    "    BaggingClassifier,\n",
    ")\n",
    "from imblearn.over_sampling import RandomOverSampler\n",
    "\n",
    "import matplotlib.pyplot as plt\n",
    "\n",
    "%matplotlib inline              "
   ]
  },
  {
   "cell_type": "code",
   "execution_count": 2,
   "metadata": {
    "pycharm": {
     "name": "#%%\n"
    },
    "ExecuteTime": {
     "end_time": "2024-05-29T07:59:26.920902500Z",
     "start_time": "2024-05-29T07:59:26.645667300Z"
    }
   },
   "outputs": [],
   "source": [
    "csv = \"preprocessed_encoded.csv\"\n",
    "df = pd.read_csv(csv)\n",
    "\n",
    "\n",
    "old_df = pd.read_csv('preprocessed.csv')\n",
    "\n",
    "y = old_df['match']\n",
    "\n",
    "X = df\n",
    "\n",
    "\n",
    "# X = df.values[:,0:34].astype(\"float32\")"
   ]
  },
  {
   "cell_type": "markdown",
   "metadata": {
    "pycharm": {
     "name": "#%% md\n"
    }
   },
   "source": [
    "Let's separate the data into training (for adjusting parameters), and validation. "
   ]
  },
  {
   "cell_type": "code",
   "execution_count": 3,
   "metadata": {
    "pycharm": {
     "name": "#%%\n"
    },
    "ExecuteTime": {
     "end_time": "2024-05-29T07:59:27.157300700Z",
     "start_time": "2024-05-29T07:59:26.924511100Z"
    }
   },
   "outputs": [],
   "source": [
    "(X_train, X_test,  y_train, y_test) = cv.train_test_split(X, y, test_size = .3, stratify = y, random_state = 1)\n",
    "\n",
    "# Normalization of the data starting from information of just the training set\n",
    "scaler = StandardScaler()\n",
    "X_train = scaler.fit_transform(X_train)\n",
    "\n",
    "# Apply the scaler to the test set\n",
    "X_test = scaler.transform(X_test)\n",
    "\n",
    "# Oversample the data to have a more balanced dataset\n",
    "ros = RandomOverSampler(random_state=42)\n",
    "X_train, y_train = ros.fit_resample(X_train, y_train)"
   ]
  },
  {
   "cell_type": "markdown",
   "metadata": {
    "pycharm": {
     "name": "#%% md\n"
    }
   },
   "source": [
    "Notice the stratification according to labels *y* that we demand in the spliting of data. The ionosphere dataset is small and with strarification we ensure we obtain the same proportion of examples of each class in training and test sets.\n",
    "\n",
    "#### **Remember**: Data should be numerical and normalized or standarized before using an SVM. "
   ]
  },
  {
   "cell_type": "code",
   "execution_count": 4,
   "metadata": {
    "pycharm": {
     "name": "#%%\n"
    },
    "ExecuteTime": {
     "end_time": "2024-05-29T07:59:28.006677600Z",
     "start_time": "2024-05-29T07:59:27.152309100Z"
    }
   },
   "outputs": [
    {
     "data": {
      "text/plain": "              wave          age        age_o        d_age  \\\ncount  8378.000000  8378.000000  8378.000000  8378.000000   \nmean     11.350919    26.354858    26.360468     4.185605   \nstd       5.995903     3.546684     3.541689     4.596171   \nmin       1.000000    18.000000    18.000000     0.000000   \n25%       7.000000    24.000000    24.000000     1.000000   \n50%      11.000000    26.000000    26.000000     3.000000   \n75%      15.000000    28.000000    28.000000     5.000000   \nmax      21.000000    55.000000    55.000000    37.000000   \n\n       importance_same_race  importance_same_religion  pref_o_attractive  \\\ncount           8378.000000               8378.000000        8378.000000   \nmean               3.777393                  3.645500          22.468839   \nstd                2.833273                  2.792688          12.505468   \nmin                0.000000                  1.000000           0.000000   \n25%                1.000000                  1.000000          15.000000   \n50%                3.000000                  3.000000          20.000000   \n75%                6.000000                  6.000000          25.000000   \nmax               10.000000                 10.000000         100.000000   \n\n       pref_o_sincere  pref_o_intelligence  pref_o_funny  ...  \\\ncount     8378.000000          8378.000000   8378.000000  ...   \nmean        17.407205            20.267883     17.466034  ...   \nstd          7.007194             6.746824      6.050104  ...   \nmin          0.000000             0.000000      0.000000  ...   \n25%         15.000000            17.650000     15.000000  ...   \n50%         18.370000            20.000000     18.000000  ...   \n75%         20.000000            23.260000     20.000000  ...   \nmax         60.000000            50.000000     50.000000  ...   \n\n       field_physics [astrophysics]  field_political science  \\\ncount                   8378.000000              8378.000000   \nmean                       0.001910                 0.004297   \nstd                        0.043662                 0.065414   \nmin                        0.000000                 0.000000   \n25%                        0.000000                 0.000000   \n50%                        0.000000                 0.000000   \n75%                        0.000000                 0.000000   \nmax                        1.000000                 1.000000   \n\n       field_psychology  field_psychology and english  field_social work  \\\ncount       8378.000000                   8378.000000        8378.000000   \nmean           0.004536                      0.001194           0.003103   \nstd            0.067199                      0.034530           0.055625   \nmin            0.000000                      0.000000           0.000000   \n25%            0.000000                      0.000000           0.000000   \n50%            0.000000                      0.000000           0.000000   \n75%            0.000000                      0.000000           0.000000   \nmax            1.000000                      1.000000           1.000000   \n\n       field_sociology  field_speech pathology  field_teaching of English  \\\ncount      8378.000000             8378.000000                8378.000000   \nmean          0.006207                0.001671                   0.001790   \nstd           0.078543                0.040847                   0.042278   \nmin           0.000000                0.000000                   0.000000   \n25%           0.000000                0.000000                   0.000000   \n50%           0.000000                0.000000                   0.000000   \n75%           0.000000                0.000000                   0.000000   \nmax           1.000000                1.000000                   1.000000   \n\n       field_theory  field_working  \ncount   8378.000000    8378.000000  \nmean       0.000597       0.001790  \nstd        0.024424       0.042278  \nmin        0.000000       0.000000  \n25%        0.000000       0.000000  \n50%        0.000000       0.000000  \n75%        0.000000       0.000000  \nmax        1.000000       1.000000  \n\n[8 rows x 332 columns]",
      "text/html": "<div>\n<style scoped>\n    .dataframe tbody tr th:only-of-type {\n        vertical-align: middle;\n    }\n\n    .dataframe tbody tr th {\n        vertical-align: top;\n    }\n\n    .dataframe thead th {\n        text-align: right;\n    }\n</style>\n<table border=\"1\" class=\"dataframe\">\n  <thead>\n    <tr style=\"text-align: right;\">\n      <th></th>\n      <th>wave</th>\n      <th>age</th>\n      <th>age_o</th>\n      <th>d_age</th>\n      <th>importance_same_race</th>\n      <th>importance_same_religion</th>\n      <th>pref_o_attractive</th>\n      <th>pref_o_sincere</th>\n      <th>pref_o_intelligence</th>\n      <th>pref_o_funny</th>\n      <th>...</th>\n      <th>field_physics [astrophysics]</th>\n      <th>field_political science</th>\n      <th>field_psychology</th>\n      <th>field_psychology and english</th>\n      <th>field_social work</th>\n      <th>field_sociology</th>\n      <th>field_speech pathology</th>\n      <th>field_teaching of English</th>\n      <th>field_theory</th>\n      <th>field_working</th>\n    </tr>\n  </thead>\n  <tbody>\n    <tr>\n      <th>count</th>\n      <td>8378.000000</td>\n      <td>8378.000000</td>\n      <td>8378.000000</td>\n      <td>8378.000000</td>\n      <td>8378.000000</td>\n      <td>8378.000000</td>\n      <td>8378.000000</td>\n      <td>8378.000000</td>\n      <td>8378.000000</td>\n      <td>8378.000000</td>\n      <td>...</td>\n      <td>8378.000000</td>\n      <td>8378.000000</td>\n      <td>8378.000000</td>\n      <td>8378.000000</td>\n      <td>8378.000000</td>\n      <td>8378.000000</td>\n      <td>8378.000000</td>\n      <td>8378.000000</td>\n      <td>8378.000000</td>\n      <td>8378.000000</td>\n    </tr>\n    <tr>\n      <th>mean</th>\n      <td>11.350919</td>\n      <td>26.354858</td>\n      <td>26.360468</td>\n      <td>4.185605</td>\n      <td>3.777393</td>\n      <td>3.645500</td>\n      <td>22.468839</td>\n      <td>17.407205</td>\n      <td>20.267883</td>\n      <td>17.466034</td>\n      <td>...</td>\n      <td>0.001910</td>\n      <td>0.004297</td>\n      <td>0.004536</td>\n      <td>0.001194</td>\n      <td>0.003103</td>\n      <td>0.006207</td>\n      <td>0.001671</td>\n      <td>0.001790</td>\n      <td>0.000597</td>\n      <td>0.001790</td>\n    </tr>\n    <tr>\n      <th>std</th>\n      <td>5.995903</td>\n      <td>3.546684</td>\n      <td>3.541689</td>\n      <td>4.596171</td>\n      <td>2.833273</td>\n      <td>2.792688</td>\n      <td>12.505468</td>\n      <td>7.007194</td>\n      <td>6.746824</td>\n      <td>6.050104</td>\n      <td>...</td>\n      <td>0.043662</td>\n      <td>0.065414</td>\n      <td>0.067199</td>\n      <td>0.034530</td>\n      <td>0.055625</td>\n      <td>0.078543</td>\n      <td>0.040847</td>\n      <td>0.042278</td>\n      <td>0.024424</td>\n      <td>0.042278</td>\n    </tr>\n    <tr>\n      <th>min</th>\n      <td>1.000000</td>\n      <td>18.000000</td>\n      <td>18.000000</td>\n      <td>0.000000</td>\n      <td>0.000000</td>\n      <td>1.000000</td>\n      <td>0.000000</td>\n      <td>0.000000</td>\n      <td>0.000000</td>\n      <td>0.000000</td>\n      <td>...</td>\n      <td>0.000000</td>\n      <td>0.000000</td>\n      <td>0.000000</td>\n      <td>0.000000</td>\n      <td>0.000000</td>\n      <td>0.000000</td>\n      <td>0.000000</td>\n      <td>0.000000</td>\n      <td>0.000000</td>\n      <td>0.000000</td>\n    </tr>\n    <tr>\n      <th>25%</th>\n      <td>7.000000</td>\n      <td>24.000000</td>\n      <td>24.000000</td>\n      <td>1.000000</td>\n      <td>1.000000</td>\n      <td>1.000000</td>\n      <td>15.000000</td>\n      <td>15.000000</td>\n      <td>17.650000</td>\n      <td>15.000000</td>\n      <td>...</td>\n      <td>0.000000</td>\n      <td>0.000000</td>\n      <td>0.000000</td>\n      <td>0.000000</td>\n      <td>0.000000</td>\n      <td>0.000000</td>\n      <td>0.000000</td>\n      <td>0.000000</td>\n      <td>0.000000</td>\n      <td>0.000000</td>\n    </tr>\n    <tr>\n      <th>50%</th>\n      <td>11.000000</td>\n      <td>26.000000</td>\n      <td>26.000000</td>\n      <td>3.000000</td>\n      <td>3.000000</td>\n      <td>3.000000</td>\n      <td>20.000000</td>\n      <td>18.370000</td>\n      <td>20.000000</td>\n      <td>18.000000</td>\n      <td>...</td>\n      <td>0.000000</td>\n      <td>0.000000</td>\n      <td>0.000000</td>\n      <td>0.000000</td>\n      <td>0.000000</td>\n      <td>0.000000</td>\n      <td>0.000000</td>\n      <td>0.000000</td>\n      <td>0.000000</td>\n      <td>0.000000</td>\n    </tr>\n    <tr>\n      <th>75%</th>\n      <td>15.000000</td>\n      <td>28.000000</td>\n      <td>28.000000</td>\n      <td>5.000000</td>\n      <td>6.000000</td>\n      <td>6.000000</td>\n      <td>25.000000</td>\n      <td>20.000000</td>\n      <td>23.260000</td>\n      <td>20.000000</td>\n      <td>...</td>\n      <td>0.000000</td>\n      <td>0.000000</td>\n      <td>0.000000</td>\n      <td>0.000000</td>\n      <td>0.000000</td>\n      <td>0.000000</td>\n      <td>0.000000</td>\n      <td>0.000000</td>\n      <td>0.000000</td>\n      <td>0.000000</td>\n    </tr>\n    <tr>\n      <th>max</th>\n      <td>21.000000</td>\n      <td>55.000000</td>\n      <td>55.000000</td>\n      <td>37.000000</td>\n      <td>10.000000</td>\n      <td>10.000000</td>\n      <td>100.000000</td>\n      <td>60.000000</td>\n      <td>50.000000</td>\n      <td>50.000000</td>\n      <td>...</td>\n      <td>1.000000</td>\n      <td>1.000000</td>\n      <td>1.000000</td>\n      <td>1.000000</td>\n      <td>1.000000</td>\n      <td>1.000000</td>\n      <td>1.000000</td>\n      <td>1.000000</td>\n      <td>1.000000</td>\n      <td>1.000000</td>\n    </tr>\n  </tbody>\n</table>\n<p>8 rows × 332 columns</p>\n</div>"
     },
     "execution_count": 4,
     "metadata": {},
     "output_type": "execute_result"
    }
   ],
   "source": [
    "df.describe()"
   ]
  },
  {
   "cell_type": "markdown",
   "metadata": {
    "pycharm": {
     "name": "#%% md\n"
    }
   },
   "source": [
    "However, let's see how to do that properly:"
   ]
  },
  {
   "cell_type": "code",
   "execution_count": 5,
   "metadata": {
    "pycharm": {
     "name": "#%%\n"
    },
    "ExecuteTime": {
     "end_time": "2024-05-29T07:59:28.146145700Z",
     "start_time": "2024-05-29T07:59:28.007845Z"
    }
   },
   "outputs": [],
   "source": [
    "#scaler = StandardScaler().fit(X_train)\n",
    "scaler = MinMaxScaler(feature_range = (-1, 1)).fit(X_train)\n",
    "\n",
    "# Apply the normalization trained in training data in both training and test sets\n",
    "X_train = scaler.transform(X_train)\n",
    "X_test = scaler.transform(X_test)"
   ]
  },
  {
   "cell_type": "markdown",
   "metadata": {
    "pycharm": {
     "name": "#%% md\n"
    }
   },
   "source": [
    "## Linear SVM\n",
    "\n",
    "Let's try an SVM with default parameters. Linear means that we are not using any kernel to move the data to a higher dimensional space."
   ]
  },
  {
   "cell_type": "code",
   "execution_count": 6,
   "metadata": {
    "pycharm": {
     "name": "#%%\n"
    },
    "ExecuteTime": {
     "end_time": "2024-05-29T07:59:51.663105100Z",
     "start_time": "2024-05-29T07:59:28.069963600Z"
    }
   },
   "outputs": [
    {
     "name": "stdout",
     "output_type": "stream",
     "text": [
      "Confusion matrix on test set: \n",
      "[[1624  476]\n",
      " [  98  316]]\n",
      "Accuracy on test set: 0.771678599840891\n"
     ]
    }
   ],
   "source": [
    "#knc = LinearSVC() \n",
    "knc = SVC(kernel = \"linear\")\n",
    "knc.fit(X_train, y_train)\n",
    "prediction = knc.predict(X_test)\n",
    "\n",
    "print(f\"Confusion matrix on test set: \\n{sklearn.metrics.confusion_matrix(y_test, prediction)}\")\n",
    "print(f\"Accuracy on test set: {sklearn.metrics.accuracy_score(y_test, prediction)}\")"
   ]
  },
  {
   "cell_type": "markdown",
   "metadata": {
    "pycharm": {
     "name": "#%% md\n"
    }
   },
   "source": [
    "Not bad results. However, the linear SVM has parameter C that has to be adjusted. We will use **GridSearch** method to find the optimal value of C like we did in a previous notebook with the k value of the KNN algorithm.  "
   ]
  },
  {
   "cell_type": "code",
   "execution_count": 7,
   "metadata": {
    "ExecuteTime": {
     "end_time": "2024-05-29T08:03:19.080920700Z",
     "start_time": "2024-05-29T07:59:51.668517100Z"
    }
   },
   "outputs": [
    {
     "name": "stdout",
     "output_type": "stream",
     "text": [
      "Millor resultat cerca logarítmica: {'C': 0.1} 0.8096143503366617\n"
     ]
    },
    {
     "data": {
      "text/plain": "<Figure size 640x480 with 1 Axes>",
      "image/png": "[encoded data removed]"
     },
     "metadata": {},
     "output_type": "display_data"
    },
    {
     "name": "stdout",
     "output_type": "stream",
     "text": [
      "Acc. 10-fold cross on train data = 0.810224927560401\n"
     ]
    }
   ],
   "source": [
    "# List of C values to test. We usualy test diverse orders of magnitude\n",
    "#Cs = np.logspace(-3, 11, num=9, base=10.0)\n",
    "Cs = np.logspace(-2, -0, num=5, base = 10.0)\n",
    "\n",
    "param_grid = {\"C\": Cs}\n",
    "#grid_search = GridSearchCV(LinearSVC(), param_grid, cv=10)\n",
    "grid_search = GridSearchCV(\n",
    "    # SVC(kernel = \"linear\"), \n",
    "    LinearSVC(),\n",
    "    param_grid, \n",
    "    cv = 10,\n",
    "    n_jobs = -1\n",
    ")\n",
    "grid_search.fit(X_train, y_train)\n",
    "print(\"Millor resultat cerca logarítmica:\", grid_search.best_params_, grid_search.best_score_)\n",
    "\n",
    "\n",
    "# Let's plot the 10-fold cross.validation accuracy deppending on C\n",
    "scores = grid_search.cv_results_[\"mean_test_score\"]\n",
    "plt.title(\"Mean score value depending on hyperparameter C\")\n",
    "plt.xlabel(\"C\")\n",
    "plt.ylabel(\"Mean score\")\n",
    "plt.semilogx(Cs,scores)\n",
    "plt.show()\n",
    "\n",
    "parval=grid_search.best_params_\n",
    "cvacc = cross_val_score(\n",
    "    SVC(C = parval[\"C\"], kernel = \"linear\"), \n",
    "    X = X_train,\n",
    "    y = y_train, \n",
    "    cv = 10, \n",
    "    scoring = \"accuracy\"\n",
    ")\n",
    "print(f\"Acc. 10-fold cross on train data = {cvacc.mean()}\")\n"
   ]
  },
  {
   "cell_type": "code",
   "execution_count": 8,
   "metadata": {
    "ExecuteTime": {
     "end_time": "2024-05-29T08:03:36.155286800Z",
     "start_time": "2024-05-29T08:03:19.077616500Z"
    }
   },
   "outputs": [
    {
     "name": "stdout",
     "output_type": "stream",
     "text": [
      "\n",
      "Confusion matrix on test set:\n",
      " [[1611  489]\n",
      " [  92  322]]\n",
      "\n",
      "Accuracy on test set: 0.7688941925218775\n",
      "\n",
      "Best value of parameter C found: {'C': 0.1}\n",
      "\n",
      "Number of supports: 4980 (4506 of them have slacks)\n",
      "Prop. of supports: 0.5083707635769702\n"
     ]
    }
   ],
   "source": [
    "\n",
    "# Let's apply the best C parameter found to the test set\n",
    "#knc = LinearSVC(C=parval['C']) \n",
    "knc = SVC(\n",
    "    C = parval[\"C\"],\n",
    "    kernel = \"linear\"\n",
    ")\n",
    "knc.fit(X_train, y_train)\n",
    "prediction = knc.predict(X_test)\n",
    "\n",
    "print(f\"\\nConfusion matrix on test set:\\n {sklearn.metrics.confusion_matrix(y_test, prediction)}\")\n",
    "print(f\"\\nAccuracy on test set: {sklearn.metrics.accuracy_score(y_test, prediction)}\")\n",
    "print(f\"\\nBest value of parameter C found: {parval}\")\n",
    "print(f\"\\nNumber of supports: {np.sum(knc.n_support_)} ({np.sum(np.abs(knc.dual_coef_)==parval['C'])} of them have slacks)\")\n",
    "print(f\"Prop. of supports: {np.sum(knc.n_support_)/X_train.shape[0]}\")"
   ]
  },
  {
   "cell_type": "markdown",
   "metadata": {
    "pycharm": {
     "name": "#%% md\n"
    }
   },
   "source": [
    "On this dataset, the best C for a linear SVM is 1 (that casually is also the default value for parameter C) so we don't obtain any improvement tuning the C parameter. However, in other datasets we could obtain a dramatic increase of accuracy. \n",
    "\n",
    "Let's see (just for fun) how the C parameter affects performance on training and test sets. "
   ]
  },
  {
   "cell_type": "code",
   "execution_count": 9,
   "metadata": {
    "pycharm": {
     "name": "#%%\n"
    },
    "ExecuteTime": {
     "end_time": "2024-05-29T08:03:36.207513200Z",
     "start_time": "2024-05-29T08:03:36.164622100Z"
    }
   },
   "outputs": [],
   "source": [
    "def plot_validation_curve(parameter_values, train_scores, validation_scores):\n",
    "    \"\"\"Plot validation curve.\n",
    "    Parameters: \n",
    "    parameter_values (List[float])  : x-axis values. Paramether that change during execution.\n",
    "    train_scores     (List[float])  : results on train set.\n",
    "    test_scores      (List[float])  : results on test set.\n",
    "    \n",
    "    Returns:\n",
    "    None\n",
    "    \"\"\"\n",
    "    train_scores_mean = np.mean(train_scores, axis = 1)\n",
    "    train_scores_std = np.std(train_scores, axis = 1)\n",
    "    validation_scores_mean = np.mean(validation_scores, axis = 1)\n",
    "    validation_scores_std = np.std(validation_scores, axis = 1)\n",
    "\n",
    "    plt.fill_between(\n",
    "        x = parameter_values, \n",
    "        y1 = train_scores_mean - train_scores_std,\n",
    "        y2 = train_scores_mean + train_scores_std, \n",
    "        alpha = 0.1,\n",
    "        color = \"r\"\n",
    "    )\n",
    "    plt.fill_between(\n",
    "        x = parameter_values,\n",
    "        y1 = validation_scores_mean - validation_scores_std,\n",
    "        y2 = validation_scores_mean + validation_scores_std, \n",
    "        alpha = 0.1, \n",
    "        color = \"g\"\n",
    "    )\n",
    "    plt.plot(\n",
    "        parameter_values, \n",
    "        train_scores_mean, \n",
    "        \"o-\", \n",
    "        color = \"r\",\n",
    "        label = \"Training score\"\n",
    "    )\n",
    "    plt.plot(\n",
    "        parameter_values, \n",
    "        validation_scores_mean, \n",
    "        \"o-\", \n",
    "        color = \"g\",\n",
    "        label = \"Cross-validation score\"\n",
    "    )\n",
    "    plt.ylim(\n",
    "        validation_scores_mean.min() - .1, \n",
    "        train_scores_mean.max() + .1\n",
    "    )\n",
    "    plt.legend(loc = 4)"
   ]
  },
  {
   "cell_type": "code",
   "execution_count": 10,
   "metadata": {
    "ExecuteTime": {
     "end_time": "2024-05-29T08:05:11.256927300Z",
     "start_time": "2024-05-29T08:03:36.177991700Z"
    }
   },
   "outputs": [
    {
     "name": "stderr",
     "output_type": "stream",
     "text": [
      "C:\\ProgramData\\Anaconda3\\lib\\site-packages\\sklearn\\svm\\_base.py:1206: ConvergenceWarning: Liblinear failed to converge, increase the number of iterations.\n",
      "  warnings.warn(\n",
      "C:\\ProgramData\\Anaconda3\\lib\\site-packages\\sklearn\\svm\\_base.py:1206: ConvergenceWarning: Liblinear failed to converge, increase the number of iterations.\n",
      "  warnings.warn(\n",
      "C:\\ProgramData\\Anaconda3\\lib\\site-packages\\sklearn\\svm\\_base.py:1206: ConvergenceWarning: Liblinear failed to converge, increase the number of iterations.\n",
      "  warnings.warn(\n",
      "C:\\ProgramData\\Anaconda3\\lib\\site-packages\\sklearn\\svm\\_base.py:1206: ConvergenceWarning: Liblinear failed to converge, increase the number of iterations.\n",
      "  warnings.warn(\n",
      "C:\\ProgramData\\Anaconda3\\lib\\site-packages\\sklearn\\svm\\_base.py:1206: ConvergenceWarning: Liblinear failed to converge, increase the number of iterations.\n",
      "  warnings.warn(\n",
      "C:\\ProgramData\\Anaconda3\\lib\\site-packages\\sklearn\\svm\\_base.py:1206: ConvergenceWarning: Liblinear failed to converge, increase the number of iterations.\n",
      "  warnings.warn(\n",
      "C:\\ProgramData\\Anaconda3\\lib\\site-packages\\sklearn\\svm\\_base.py:1206: ConvergenceWarning: Liblinear failed to converge, increase the number of iterations.\n",
      "  warnings.warn(\n",
      "C:\\ProgramData\\Anaconda3\\lib\\site-packages\\sklearn\\svm\\_base.py:1206: ConvergenceWarning: Liblinear failed to converge, increase the number of iterations.\n",
      "  warnings.warn(\n",
      "C:\\ProgramData\\Anaconda3\\lib\\site-packages\\sklearn\\svm\\_base.py:1206: ConvergenceWarning: Liblinear failed to converge, increase the number of iterations.\n",
      "  warnings.warn(\n",
      "C:\\ProgramData\\Anaconda3\\lib\\site-packages\\sklearn\\svm\\_base.py:1206: ConvergenceWarning: Liblinear failed to converge, increase the number of iterations.\n",
      "  warnings.warn(\n",
      "C:\\ProgramData\\Anaconda3\\lib\\site-packages\\sklearn\\svm\\_base.py:1206: ConvergenceWarning: Liblinear failed to converge, increase the number of iterations.\n",
      "  warnings.warn(\n"
     ]
    },
    {
     "data": {
      "text/plain": "<Figure size 640x480 with 1 Axes>",
      "image/png": "[encoded data removed]"
     },
     "metadata": {},
     "output_type": "display_data"
    }
   ],
   "source": [
    "training_scores, test_scores = validation_curve(\n",
    "    LinearSVC(), \n",
    "    X_train, \n",
    "    y_train, \n",
    "    param_name = \"C\", \n",
    "    param_range = Cs,\n",
    "    cv = 5\n",
    ")\n",
    "# Create the plot\n",
    "plot_validation_curve(\n",
    "    range(len(Cs)), \n",
    "    training_scores, \n",
    "    test_scores\n",
    ")\n",
    "plt.xticks(\n",
    "    range(len(Cs)), \n",
    "    Cs,\n",
    "    rotation = \"vertical\"\n",
    ");\n",
    "plt.ylim([0.6, 1])\n",
    "plt.title(\"Scores against value of C\")\n",
    "plt.ylabel(\"Score\")\n",
    "plt.xlabel(\"C\")\n",
    "plt.show()"
   ]
  },
  {
   "cell_type": "markdown",
   "metadata": {
    "pycharm": {
     "name": "#%% md\n"
    }
   },
   "source": [
    "Notice that from value of C=1, increasing C results in better accuracy on the training set but worse performance on the test set. This is because being too demanding on the separation of data in the training dataset, we are overfitting to it and we decrease performance in the test set. A nice picture of typical overfitting."
   ]
  },
  {
   "cell_type": "markdown",
   "metadata": {
    "pycharm": {
     "name": "#%% md\n"
    }
   },
   "source": [
    "## Polynomial kernels\n",
    "\n",
    "We have seen that performance with a linear SVM is Ok but not competitive with Metamethods. However, it could happen that using kernels we could even improve accuracy. We'll try first ploynomial kernel with degree 2 with default parameters."
   ]
  },
  {
   "cell_type": "code",
   "execution_count": 11,
   "metadata": {
    "pycharm": {
     "name": "#%%\n"
    },
    "ExecuteTime": {
     "end_time": "2024-05-29T08:05:30.419863400Z",
     "start_time": "2024-05-29T08:05:11.262910300Z"
    }
   },
   "outputs": [
    {
     "name": "stdout",
     "output_type": "stream",
     "text": [
      "Confusion matrix on test set:\n",
      " [[1695  405]\n",
      " [ 119  295]]\n",
      "\n",
      "Accuracy on test set: 0.7915672235481305\n"
     ]
    }
   ],
   "source": [
    "knc = SVC(\n",
    "    kernel = \"poly\",\n",
    "    degree = 2,\n",
    "    C = 10\n",
    ") \n",
    "knc.fit(X_train, y_train)\n",
    "prediction = knc.predict(X_test)\n",
    "\n",
    "print(f\"Confusion matrix on test set:\\n {sklearn.metrics.confusion_matrix(y_test, prediction)}\")\n",
    "print(f\"\\nAccuracy on test set: {sklearn.metrics.accuracy_score(y_test, prediction)}\")"
   ]
  },
  {
   "cell_type": "markdown",
   "metadata": {
    "pycharm": {
     "name": "#%% md\n"
    }
   },
   "source": [
    "Better performance than the obtained with a linear SVM... It could even be increased because we didn't tune the C parameter for the polynomial kernel. Let's do that now."
   ]
  },
  {
   "cell_type": "code",
   "execution_count": 12,
   "metadata": {
    "pycharm": {
     "name": "#%%\n"
    },
    "ExecuteTime": {
     "end_time": "2024-05-29T08:08:02.923993Z",
     "start_time": "2024-05-29T08:05:30.423071Z"
    }
   },
   "outputs": [
    {
     "data": {
      "text/plain": "<Figure size 640x480 with 1 Axes>",
      "image/png": "[encoded data removed]"
     },
     "metadata": {},
     "output_type": "display_data"
    }
   ],
   "source": [
    "Cs = np.logspace(2, 4, num = 3, base = 10.0)\n",
    "\n",
    "param_grid = {\"C\": Cs}\n",
    "grid_search = GridSearchCV(\n",
    "    SVC(kernel = \"poly\",degree = 2) , \n",
    "    param_grid, \n",
    "    # cv = 10,\n",
    "    cv = 5,\n",
    "    n_jobs = -1\n",
    ")\n",
    "grid_search.fit(X_train,y_train)\n",
    "\n",
    "scores = grid_search.cv_results_['mean_test_score']\n",
    "\n",
    "plt.semilogx(Cs, scores)\n",
    "plt.title(\"C against scores\")\n",
    "plt.xlabel(\"C\")\n",
    "plt.ylabel(\"Score\")\n",
    "plt.show()\n",
    "\n",
    "parval = grid_search.best_params_"
   ]
  },
  {
   "cell_type": "code",
   "execution_count": 13,
   "metadata": {
    "ExecuteTime": {
     "end_time": "2024-05-29T08:09:26.630584700Z",
     "start_time": "2024-05-29T08:08:02.921990800Z"
    }
   },
   "outputs": [
    {
     "name": "stdout",
     "output_type": "stream",
     "text": [
      "Acc. 10-fold cross on train data=  0.9304808113235079\n"
     ]
    }
   ],
   "source": [
    "\n",
    "cvacc = cross_val_score(SVC(kernel='poly',degree =2,C=parval['C']) , X=X_train,  y=y_train, cv=10, scoring='accuracy', n_jobs = -1)\n",
    "print('Acc. 10-fold cross on train data= ', cvacc.mean())\n"
   ]
  },
  {
   "cell_type": "code",
   "execution_count": 14,
   "metadata": {
    "ExecuteTime": {
     "end_time": "2024-05-29T08:10:05.050162600Z",
     "start_time": "2024-05-29T08:09:26.615095Z"
    }
   },
   "outputs": [
    {
     "name": "stdout",
     "output_type": "stream",
     "text": [
      "\n",
      "Confusion matrix on test set:\n",
      " [[1848  252]\n",
      " [ 219  195]]\n",
      "\n",
      "Accuracy on test set: 0.8126491646778043\n",
      "\n",
      "Best combination of parameters found: {'C': 1000.0}\n",
      "\n",
      "Number of supports: 4112 (117 of them have slacks)\n",
      "Prop. of supports: 0.4197631686402613\n"
     ]
    }
   ],
   "source": [
    "\n",
    "knc = SVC(kernel='poly',degree =2, C=parval['C']) \n",
    "knc.fit(X_train, y_train)\n",
    "prediction =knc.predict(X_test)\n",
    "print(f\"\\nConfusion matrix on test set:\\n {sklearn.metrics.confusion_matrix(y_test, prediction)}\")\n",
    "print(f\"\\nAccuracy on test set: {sklearn.metrics.accuracy_score(y_test, prediction)}\")\n",
    "print(f\"\\nBest combination of parameters found: {parval}\")\n",
    "print(f\"\\nNumber of supports: {np.sum(knc.n_support_)} ({np.sum(np.abs(knc.dual_coef_)==parval['C'])} of them have slacks)\")\n",
    "print(f\"Prop. of supports: {np.sum(knc.n_support_)/X_train.shape[0]}\")"
   ]
  },
  {
   "cell_type": "markdown",
   "metadata": {
    "pycharm": {
     "name": "#%% md\n"
    }
   },
   "source": [
    "Best result so far. Competitive with meta-methods. Now the best C value found is 100 and accuracy is a lot higher than with default parameters. It's always important when working with SVMs to find best parameters. \n",
    "\n",
    "For this C value we have a nice accuracy on the test set. Let's try what happens now with a polynomial kernel of degree 3."
   ]
  },
  {
   "cell_type": "code",
   "execution_count": 15,
   "metadata": {
    "ExecuteTime": {
     "end_time": "2024-05-29T08:10:43.432481500Z",
     "start_time": "2024-05-29T08:10:05.044324300Z"
    }
   },
   "outputs": [
    {
     "name": "stdout",
     "output_type": "stream",
     "text": [
      "Test score with best C: 0.8126491646778043\n"
     ]
    }
   ],
   "source": [
    "# Utilitzar el millor valor de C trobat per entrenar el model final\n",
    "best_C = 1000.0\n",
    "final_model = SVC(kernel=\"poly\", degree=2, C=best_C)\n",
    "final_model.fit(X_train, y_train)\n",
    "\n",
    "test_score = final_model.score(X_test, y_test)\n",
    "print(\"Test score with best C:\", test_score)"
   ]
  },
  {
   "cell_type": "markdown",
   "metadata": {
    "pycharm": {
     "name": "#%% md\n"
    }
   },
   "source": [
    " Confusion matrix shows only 1 more error than the confusion matrix obtained with the quadratic kernel. Given the low number of cases we have in the test set, we cannot conclude that polynomial kernel with degree 2 is better than with degree 3. But remember that when there are several classifiers with a similar performance, we should always choose the simpler one! So we will choose the quadratic polynomial kernel as best polynomial kernel, not because of performance only but because is the better combination of performance and simplicity.\n",
    "\n",
    "## RBF Kernel\n",
    "\n",
    "There's another possibility for the kernel: The RBF kernel. This is the default kernel in the implementation of SVMs in sklearn, so we don't need to explicitely say the kernel used. Let's try it with default parameters."
   ]
  },
  {
   "cell_type": "code",
   "execution_count": 16,
   "metadata": {
    "pycharm": {
     "name": "#%%\n"
    },
    "ExecuteTime": {
     "end_time": "2024-05-29T08:11:07.715249Z",
     "start_time": "2024-05-29T08:10:43.433761500Z"
    }
   },
   "outputs": [
    {
     "name": "stdout",
     "output_type": "stream",
     "text": [
      "Confusion matrix on test set:\n",
      "[[1618  482]\n",
      " [  92  322]]\n",
      "\n",
      "Accuracy on test set: 0.771678599840891\n"
     ]
    }
   ],
   "source": [
    "knc = SVC() \n",
    "knc.fit(X_train, y_train)\n",
    "prediction = knc.predict(X_test)\n",
    "print(f\"Confusion matrix on test set:\\n{sklearn.metrics.confusion_matrix(y_test, prediction)}\")\n",
    "print(f\"\\nAccuracy on test set: {sklearn.metrics.accuracy_score(y_test, prediction)}\")"
   ]
  },
  {
   "cell_type": "markdown",
   "metadata": {
    "pycharm": {
     "name": "#%% md\n"
    }
   },
   "source": [
    "Promising performance for default parameters. But we have to search for the best parameters. In this case we have two parameters to adjust: the C parameter and the gamma parameter. We will find the best combination using the *GridSearch* method."
   ]
  },
  {
   "cell_type": "code",
   "execution_count": 17,
   "metadata": {
    "pycharm": {
     "name": "#%%\n"
    },
    "ExecuteTime": {
     "end_time": "2024-05-29T08:20:23.266137Z",
     "start_time": "2024-05-29T08:11:07.756680400Z"
    }
   },
   "outputs": [
    {
     "data": {
      "text/plain": "<Figure size 400x500 with 2 Axes>",
      "image/png": "[encoded data removed]"
     },
     "metadata": {},
     "output_type": "display_data"
    },
    {
     "name": "stdout",
     "output_type": "stream",
     "text": [
      "\n",
      "Best combination of parameters found: {'C': 1.0, 'gamma': 10}\n"
     ]
    }
   ],
   "source": [
    "# Values we will test for each parameter. When observin results, consider the limits of the \n",
    "# values tested and increase them if necessary \n",
    "gammas = [0.01, 0.1, 1, 10]\n",
    "Cs = np.logspace(0, 4, num = 5, base = 10.0)\n",
    "\n",
    "param_grid = {\n",
    "    \"C\": Cs, \n",
    "    \"gamma\" : gammas\n",
    "}\n",
    "grid_search = GridSearchCV(\n",
    "    SVC(), \n",
    "    param_grid, \n",
    "    # cv = 10\n",
    "    cv = 5,\n",
    "    n_jobs = -1\n",
    ")\n",
    "grid_search.fit(X_train,y_train)\n",
    "parval = grid_search.best_params_\n",
    "\n",
    "# We'll show in a grid, the accuracy for each combination of parameters tester\n",
    "scores = grid_search.cv_results_[\"mean_test_score\"]\n",
    "scores = np.array(scores).reshape(  # In order to have it \"grid-shaped\"\n",
    "    len(param_grid['C']), \n",
    "    len(param_grid['gamma'])\n",
    ")\n",
    "\n",
    "plt.matshow(scores)\n",
    "plt.title(\"Score against different values of C and Gamma\")\n",
    "plt.xlabel(\"Gamma\")\n",
    "plt.ylabel(\"C\")\n",
    "plt.colorbar()\n",
    "plt.xticks(\n",
    "    np.arange(len(param_grid[\"gamma\"])), \n",
    "    param_grid[\"gamma\"],\n",
    "    rotation = \"vertical\"\n",
    ")\n",
    "plt.yticks(\n",
    "    np.arange(len(param_grid[\"C\"])), \n",
    "    param_grid[\"C\"]\n",
    ")\n",
    "plt.show()\n",
    "parval = grid_search.best_params_\n",
    "print(f\"\\nBest combination of parameters found: {parval}\")\n"
   ]
  },
  {
   "cell_type": "code",
   "execution_count": 18,
   "metadata": {
    "ExecuteTime": {
     "end_time": "2024-05-29T08:20:56.938928800Z",
     "start_time": "2024-05-29T08:20:23.264980900Z"
    }
   },
   "outputs": [
    {
     "name": "stdout",
     "output_type": "stream",
     "text": [
      "\n",
      "Acc. 5-fold cross on train data = 0.9972448979591837\n"
     ]
    }
   ],
   "source": [
    "cvacc = cross_val_score(\n",
    "    SVC(\n",
    "        C = parval[\"C\"], \n",
    "        gamma = parval[\"gamma\"]\n",
    "    ), \n",
    "    X = X_train,  \n",
    "    y = y_train, \n",
    "    cv = 5, \n",
    "    scoring = \"accuracy\",\n",
    "    n_jobs = -1\n",
    ")\n",
    "print(f'\\nAcc. 5-fold cross on train data = {cvacc.mean()}')"
   ]
  },
  {
   "cell_type": "markdown",
   "metadata": {
    "pycharm": {
     "name": "#%% md\n"
    }
   },
   "source": [
    "This picture show for each combination of parameters the accuracy obtained in a 10-fold cross-validation. Notice the relation between C and gamma. \n",
    "\n",
    "Let's see the performance of the best parameters found on the test set."
   ]
  },
  {
   "cell_type": "code",
   "execution_count": 19,
   "metadata": {
    "pycharm": {
     "name": "#%%\n"
    },
    "ExecuteTime": {
     "end_time": "2024-05-29T08:21:53.851606900Z",
     "start_time": "2024-05-29T08:20:56.949119600Z"
    }
   },
   "outputs": [
    {
     "name": "stdout",
     "output_type": "stream",
     "text": [
      "Confusion matrix on test set:\n",
      "[[2100    0]\n",
      " [ 414    0]]\n",
      "\n",
      "Accuracy on test set: 0.8353221957040573\n",
      "\n",
      "Number of supports: 6803 (150 of them have slacks)\n",
      "Prop. of supports: 0.694467129440588\n"
     ]
    }
   ],
   "source": [
    "# Let's apply the best combination of parameters found to the test set\n",
    "knc = SVC(\n",
    "    C = parval[\"C\"], \n",
    "    gamma = parval[\"gamma\"]\n",
    ") \n",
    "knc.fit(X_train, y_train)\n",
    "prediction = knc.predict(X_test)\n",
    "\n",
    "print(f\"Confusion matrix on test set:\\n{sklearn.metrics.confusion_matrix(y_test, prediction)}\")\n",
    "print(f\"\\nAccuracy on test set: {sklearn.metrics.accuracy_score(y_test, prediction)}\")\n",
    "print(f\"\\nNumber of supports: {np.sum(knc.n_support_)} ({np.sum(np.abs(knc.dual_coef_)==parval['C'])} of them have slacks)\")\n",
    "print(f\"Prop. of supports: {np.sum(knc.n_support_)/X_train.shape[0]}\")"
   ]
  },
  {
   "cell_type": "markdown",
   "metadata": {
    "pycharm": {
     "name": "#%% md\n"
    }
   },
   "source": [
    "Wow. Best performance obtained so far using any method, even better than results obtained with meta-methods. \n",
    "\n",
    "**Observations about number and percentage of supports vectors:** \n",
    "It is know that percentage of supports of an SVM is a lower bound for the leave-one-out error. In general, an SVM with a lot of supports will be an overfitted SVM. A percentage of supports higher than 50% should be considered suspicious. If this happens, try to use other kernels. As a rule of thumb, a good SVM has a percentatge of supports vectors about 20-40% of the data (but that depends on a lot of things).\n",
    "\n",
    "In our case all SVM have a low number of supports. And notice that the machine with a higher performance is the one with a lower number of supports (24.9%). That's not a coincidence but something common in SVMs."
   ]
  },
  {
   "cell_type": "code",
   "outputs": [
    {
     "name": "stdout",
     "output_type": "stream",
     "text": [
      "(0.8208241321593941, 0.8498202592487205)\n",
      "Interval 95% confidence: 0.835 +/- 0.014\n"
     ]
    }
   ],
   "source": [
    "from statsmodels.stats.proportion import proportion_confint\n",
    "\n",
    "accuracy = sklearn.metrics.accuracy_score(y_test, prediction)\n",
    "\n",
    "print(proportion_confint(accuracy * X_test.shape[0], X_test.shape[0], alpha=0.05, method='normal'))\n",
    "print(\"Interval 95% confidence:\", \"{0:.3f}\".format(accuracy), \"+/-\", \"{0:.3f}\".format(1.96*np.sqrt(accuracy*(1-accuracy)/X_test.shape[0])))"
   ],
   "metadata": {
    "collapsed": false,
    "ExecuteTime": {
     "end_time": "2024-05-29T08:21:54.056118400Z",
     "start_time": "2024-05-29T08:21:53.859639900Z"
    }
   },
   "execution_count": 20
  }
 ],
 "metadata": {
  "kernelspec": {
   "display_name": "Python 3 (ipykernel)",
   "language": "python",
   "name": "python3"
  },
  "language_info": {
   "codemirror_mode": {
    "name": "ipython",
    "version": 3
   },
   "file_extension": ".py",
   "mimetype": "text/x-python",
   "name": "python",
   "nbconvert_exporter": "python",
   "pygments_lexer": "ipython3",
   "version": "3.11.6"
  }
 },
 "nbformat": 4,
 "nbformat_minor": 2
}
