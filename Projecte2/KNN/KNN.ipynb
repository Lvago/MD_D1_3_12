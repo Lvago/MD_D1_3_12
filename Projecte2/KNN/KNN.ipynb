{
 "cells": [
  {
   "cell_type": "markdown",
   "metadata": {},
   "source": [
    "# KNN"
   ]
  },
  {
   "cell_type": "code",
   "execution_count": 16,
   "metadata": {},
   "outputs": [],
   "source": [
    "#librerias\n",
    "import sklearn \n",
    "import sklearn.neighbors as nb  \n",
    "from sklearn.model_selection import cross_val_predict\n",
    "from sklearn.model_selection import train_test_split\n",
    "from sklearn.neighbors import KNeighborsClassifier\n",
    "from sklearn.model_selection import cross_val_score  \n",
    "from sklearn.model_selection import cross_val_predict  \n",
    "from sklearn.metrics import confusion_matrix\n",
    "from sklearn import metrics\n",
    "from sklearn.model_selection import GridSearchCV\n",
    "from statsmodels.stats.proportion import proportion_confint\n",
    "import pandas as pd"
   ]
  },
  {
   "cell_type": "code",
   "execution_count": 17,
   "metadata": {},
   "outputs": [],
   "source": [
    "df = pd.read_csv('preprocessed.csv')\n",
    "y = df['match']\n",
    "\n",
    "x = pd.read_csv('KNN.csv')"
   ]
  },
  {
   "cell_type": "code",
   "execution_count": 25,
   "metadata": {},
   "outputs": [
    {
     "name": "stdout",
     "output_type": "stream",
     "text": [
      "0.8597852028639618\n"
     ]
    }
   ],
   "source": [
    "# Dividir los datos en conjunto de entrenamiento y prueba con un 20% de los datos para prueba\n",
    "X_train, X_test, y_train, y_test = train_test_split(x, y,  test_size=0.2, random_state=1)\n",
    "\n",
    "# Create a kNN classifier object\n",
    "knc = KNeighborsClassifier()\n",
    "\n",
    "# Entrenar el clasificador kNN\n",
    "knc.fit(X_train, y_train)\n",
    "\n",
    "print(knc.score(X_test, y_test))\n"
   ]
  },
  {
   "cell_type": "markdown",
   "metadata": {},
   "source": [
    "Se obtiene que la precisión del clasificador kNN en el conjunto de prueba es de 0.8597852028639618.\n",
    "\n",
    "Esta precisión indica la proporción de predicciones correctas que hizo el modelo sobre el conjunto de datos de prueba. En otras palabras, el 85.98% de las muestras en el conjunto de prueba fueron clasificadas correctamente por el modelo de kNN."
   ]
  },
  {
   "cell_type": "code",
   "execution_count": 26,
   "metadata": {},
   "outputs": [
    {
     "name": "stdout",
     "output_type": "stream",
     "text": [
      "[[1353   49]\n",
      " [ 186   88]]\n"
     ]
    }
   ],
   "source": [
    "# Matriz de confusión\n",
    "y_pred = knc.predict(X_test)\n",
    "print(confusion_matrix(y_test, y_pred))"
   ]
  },
  {
   "cell_type": "markdown",
   "metadata": {},
   "source": [
    "La matriz de confusión permite visualizar el desempeño de un modelo de clasificación.\n",
    "\n",
    "La matriz está organizada de la siguiente manera:\n",
    "\n",
    "Verdaderos negativos (TN): Muestras que fueron clasificadas correctamente como negativas por el modelo. -> Se clasificaron correctamente 1353 muestras como negativas.\n",
    "Falsos positivos (FP): Muestras clasificadas incorrectamente como positivas por el modelo. -> Se clasificaron incorrectamente 49 muestras como positivas cuando eran negativas.\n",
    "Falsos negativos (FN): Muestras clasificadas incorrectamente como negativas por el modelo. -> Se clasificaron incorrectamente 186 muestras como negativas cuando eran positivas.\n",
    "Verdaderos positivos (TP): Muestras que fueron clasificadas correctamente como positivas por el modelo. -> Se clasificaron correctamente 88 muestras como positivas (TP)."
   ]
  },
  {
   "cell_type": "code",
   "execution_count": 28,
   "metadata": {},
   "outputs": [
    {
     "name": "stdout",
     "output_type": "stream",
     "text": [
      "              precision    recall  f1-score   support\n",
      "\n",
      "           0       0.88      0.97      0.92      1402\n",
      "           1       0.64      0.32      0.43       274\n",
      "\n",
      "    accuracy                           0.86      1676\n",
      "   macro avg       0.76      0.64      0.67      1676\n",
      "weighted avg       0.84      0.86      0.84      1676\n",
      "\n"
     ]
    }
   ],
   "source": [
    "# se imprime el reporte de clasificación\n",
    "print(metrics.classification_report(y_test, y_pred))"
   ]
  },
  {
   "cell_type": "markdown",
   "metadata": {},
   "source": [
    "Estas métricas proporcionan una visión detallada del rendimiento del clasificador para cada clase individualmente, así como una visión general del rendimiento del clasificador en general.\n",
    "\n",
    "La información se puede interpretar de la siguiente manera:\n",
    "\n",
    "- Precision: Es la proporción de verdaderos positivos (TP) sobre el total de muestras clasificadas como positivas (TP + FP). Indica la precisión del clasificador en predecir las muestras positivas.\n",
    "\n",
    "- Recall (Sensibilidad): Es la proporción de verdaderos positivos (TP) sobre el total de muestras que son realmente positivas (TP + FN). Indica la capacidad del clasificador para encontrar todas las muestras positivas.\n",
    "\n",
    "- F1-score: Es una medida armónica entre la precisión y el recall. Proporciona un balance entre ambas métricas y es útil cuando hay un desequilibrio entre las clases en el conjunto de datos.\n",
    "\n",
    "- Support: Es el número de muestras en cada clase, es decir, la cantidad de muestras reales que pertenecen a cada clase.\n",
    "\n",
    "En resumen, el clasificador tiene una precisión general del 86%, con una precisión alta para la clase 0 y una precisión más baja para la clase 1. Esto sugiere que el clasificador es bueno para predecir la clase 0 pero menos preciso para predecir la clase 1."
   ]
  },
  {
   "cell_type": "code",
   "execution_count": null,
   "metadata": {},
   "outputs": [
    {
     "name": "stdout",
     "output_type": "stream",
     "text": [
      "[0.84009547 0.82338902 0.76491647 0.71957041 0.74224344 0.85560859\n",
      " 0.82338902 0.81980907 0.7562724  0.85424134]\n"
     ]
    }
   ],
   "source": [
    "cv_scores = cross_val_score(nb.KNeighborsClassifier(),  \n",
    "                            X=x,  \n",
    "                            y=y,  \n",
    "                            cv=10, scoring='accuracy')  \n",
    "\n",
    "print(cv_scores)"
   ]
  },
  {
   "cell_type": "markdown",
   "metadata": {},
   "source": [
    "Los resultados representan la precisión del clasificador kNN, evaluado mediante validación cruzada con 10 pliegues. Cada valor en la lista cv_scores corresponde a la precisión del clasificador en una de las 10 iteraciones de la validación cruzada.\n",
    "\n",
    "El primer valor, 0.84009547, indica que en la primera iteración de la validación cruzada, el clasificador logró una precisión del 84.01% en el conjunto de datos de prueba.\n",
    "\n",
    "El segundo valor, 0.82338902, indica que en la segunda iteración, la precisión fue del 82.34%.\n",
    "\n",
    "Los valores restantes siguen el mismo patrón, representando la precisión en las iteraciones sucesivas de la validación cruzada.\n",
    "\n",
    "La validación cruzada proporciona una estimación más confiable del rendimiento del clasificador al evaluarlo en múltiples divisiones del conjunto de datos. Los resultados muestran que la precisión del clasificador varía entre aproximadamente el 71.96% y el 85.56% en diferentes iteraciones de la validación cruzada."
   ]
  },
  {
   "cell_type": "code",
   "execution_count": null,
   "metadata": {},
   "outputs": [
    {
     "name": "stdout",
     "output_type": "stream",
     "text": [
      "0.7999535219259601\n",
      "0.04698537241680962\n"
     ]
    }
   ],
   "source": [
    "print(np.mean(cv_scores))\n",
    "print(np.std(cv_scores))"
   ]
  },
  {
   "cell_type": "code",
   "execution_count": null,
   "metadata": {},
   "outputs": [
    {
     "name": "stdout",
     "output_type": "stream",
     "text": [
      "[[6285  713]\n",
      " [ 963  417]]\n",
      "0.7999522559083313\n"
     ]
    }
   ],
   "source": [
    "# validación cruzada \n",
    "predicted = cross_val_predict(nb.KNeighborsClassifier(), X=x, y=y,  cv=10)  \n",
    "\n",
    "print(sklearn.metrics.confusion_matrix(y, predicted))\n",
    "print(sklearn.metrics.accuracy_score(y, predicted))"
   ]
  },
  {
   "cell_type": "markdown",
   "metadata": {},
   "source": [
    "La matriz de confusión muestra los siguientes resultados:\n",
    "\n",
    "- Verdaderos positivos (TP): 417 muestras fueron clasificadas correctamente como positivas.\n",
    "- Falsos positivos (FP): 713 muestras fueron clasificadas incorrectamente como positivas.\n",
    "- Verdaderos negativos (TN): 6285 muestras fueron clasificadas correctamente como negativas.\n",
    "- Falsos negativos (FN): 963 muestras fueron clasificadas incorrectamente como negativas.\n",
    "- La precisión global del clasificador, que es del 79.99%, indica qué tan bien el clasificador ha clasificado correctamente todas las muestras en general."
   ]
  },
  {
   "cell_type": "code",
   "execution_count": null,
   "metadata": {},
   "outputs": [
    {
     "data": {
      "image/png": "[encoded data removed]",
      "text/plain": [
       "<Figure size 250x250 with 1 Axes>"
      ]
     },
     "metadata": {},
     "output_type": "display_data"
    }
   ],
   "source": [
    "confmat = sklearn.metrics.confusion_matrix(y, predicted)\n",
    "\n",
    "fig, ax = plt.subplots(figsize=(2.5, 2.5))\n",
    "ax.matshow(confmat, cmap=plt.cm.Blues, alpha=0.3)\n",
    "for i in range(confmat.shape[0]):\n",
    "    for j in range(confmat.shape[1]):\n",
    "        ax.text(x=j, y=i, s=confmat[i, j], va='center', ha='center',fontsize=7)\n",
    "\n",
    "plt.xlabel('Predicted label')\n",
    "plt.ylabel('True label')\n",
    "\n",
    "plt.tight_layout()\n",
    "plt.show()"
   ]
  },
  {
   "cell_type": "code",
   "execution_count": null,
   "metadata": {},
   "outputs": [
    {
     "name": "stdout",
     "output_type": "stream",
     "text": [
      "              precision    recall  f1-score   support\n",
      "\n",
      "           0       0.88      0.97      0.92      1402\n",
      "           1       0.64      0.32      0.43       274\n",
      "\n",
      "    accuracy                           0.86      1676\n",
      "   macro avg       0.76      0.64      0.67      1676\n",
      "weighted avg       0.84      0.86      0.84      1676\n",
      "\n"
     ]
    }
   ],
   "source": [
    "print(metrics.classification_report(y_test, y_pred))"
   ]
  },
  {
   "cell_type": "markdown",
   "metadata": {},
   "source": [
    "- Precisión (Precision): \n",
    "    -> Para la clase 0, la precisión es del 88%, lo que significa que el 88% de las muestras clasificadas como positivas (0) fueron clasificadas correctamente\n",
    "    -> Para la clase 1, la precisión es del 64%, lo que indica que el 64% de las muestras clasificadas como positivas (1) fueron clasificadas correctamente.\n",
    "\n",
    "- Recall (Sensibilidad): \n",
    "    -> Para la clase 0, el recall es del 97%, lo que significa que el 97% de las muestras que realmente son positivas (0) fueron clasificadas correctamente. \n",
    "    -> Para la clase 1, el recall es del 32%, lo que indica que solo el 32% de las muestras que realmente son positivas (1) fueron clasificadas correctamente.\n",
    "\n",
    "- F1-score: Es una medida armónica entre la precisión y el recall. Para la clase 0, el F1-score es del 92%, mientras que para la clase 1 es del 43%.\n",
    "\n",
    "- Support: Es el número de muestras en cada clase.\n",
    "\n",
    "- Exactitud (Accuracy): Es del 86%, lo que indica la proporción de muestras clasificadas correctamente en general.\n",
    "\n",
    "- La media ponderada (weighted avg) y la media macro (macro avg) proporcionan promedios de las métricas para todas las clases."
   ]
  },
  {
   "cell_type": "code",
   "execution_count": null,
   "metadata": {},
   "outputs": [
    {
     "data": {
      "image/png": "[encoded data removed]",
      "text/plain": [
       "<Figure size 640x480 with 1 Axes>"
      ]
     },
     "metadata": {},
     "output_type": "display_data"
    }
   ],
   "source": [
    "import matplotlib.pyplot as plt\n",
    "from sklearn.model_selection import learning_curve\n",
    "\n",
    "train_sizes, train_scores, test_scores =\\\n",
    "                learning_curve(estimator=nb.KNeighborsClassifier(n_neighbors=3),\n",
    "                               X=x,\n",
    "                               y=y,\n",
    "                               train_sizes=np.linspace(0.05, 1.0, 10),\n",
    "                               cv=10,\n",
    "                               n_jobs=-1)\n",
    "\n",
    "train_mean = np.mean(train_scores, axis=1)\n",
    "train_std = np.std(train_scores, axis=1)\n",
    "test_mean = np.mean(test_scores, axis=1)\n",
    "test_std = np.std(test_scores, axis=1)\n",
    "\n",
    "plt.plot(train_sizes, train_mean,\n",
    "         color='blue', marker='o',\n",
    "         markersize=5, label='training accuracy')\n",
    "\n",
    "plt.fill_between(train_sizes,\n",
    "                 train_mean + train_std,\n",
    "                 train_mean - train_std,\n",
    "                 alpha=0.15, color='blue')\n",
    "\n",
    "plt.plot(train_sizes, test_mean,\n",
    "         color='green', linestyle='--',\n",
    "         marker='s', markersize=5,\n",
    "         label='validation accuracy')\n",
    "\n",
    "plt.fill_between(train_sizes,\n",
    "                 test_mean + test_std,\n",
    "                 test_mean - test_std,\n",
    "                 alpha=0.15, color='green')\n",
    "\n",
    "plt.grid(True)\n",
    "plt.xlabel('Number of training samples')\n",
    "plt.ylabel('Accuracy')\n",
    "plt.legend(loc='lower right')\n",
    "plt.ylim([0.8, 1.03])\n",
    "plt.tight_layout()\n",
    "plt.show()"
   ]
  },
  {
   "cell_type": "markdown",
   "metadata": {},
   "source": [
    "La gráfica muestra la precisión de entrenamiento y validación de un modelo de aprendizaje automático en función del número de muestras de entrenamiento utilizadas. Muy útil para entender cómo el tamaño del conjunto de entrenamiento afecta el rendimiento del modelo, tanto en el aprendizaje como en la validación.\n",
    "\n",
    "### Componentes de la Gráfica\n",
    "\n",
    "1. **Eje X (Número de Muestras de Entrenamiento):**\n",
    "   - Representa la cantidad de datos de entrenamiento utilizados para entrenar el modelo. A medida que aumenta el número de muestras, el modelo tiene más información para aprender.\n",
    "\n",
    "2. **Eje Y (Precisión):**\n",
    "   - Muestra la precisión del modelo, tanto en el conjunto de entrenamiento como en el de validación. La precisión es una medida de cuántas predicciones fueron correctas.\n",
    "\n",
    "3. **Línea Azul (Precisión de Entrenamiento):**\n",
    "   - Indica cómo el modelo se desempeña sobre el propio conjunto de entrenamiento. Esta línea es bastante plana y alta, lo que sugiere que el modelo tiene un buen desempeño consistente en el conjunto de entrenamiento a medida que aumenta el número de muestras.\n",
    "\n",
    "4. **Línea Verde (Precisión de Validación):**\n",
    "   - Muestra la precisión del modelo en un conjunto de datos que no se utilizó durante el entrenamiento (validación). Esta línea comienza más baja y aumenta, aunque parece estabilizarse y no alcanza la precisión de la línea de entrenamiento.\n",
    "\n",
    "5. **Área Sombreada (Varianza):**\n",
    "   - El sombreado alrededor de la línea de validación probablemente representa la varianza de la precisión de validación en múltiples ejecuciones o configuraciones. Una varianza más amplia indica mayor incertidumbre o inconsistencia en el rendimiento del modelo en el conjunto de validación.\n",
    "\n",
    "### Interpretación\n",
    "\n",
    "- **Alto Rendimiento en Entrenamiento:**\n",
    "  - El modelo aprende muy bien del conjunto de entrenamiento, como lo indica la alta precisión en este conjunto.\n",
    "\n",
    "- **Mejora y Estabilización en Validación:**\n",
    "  - La precisión de validación mejora con más datos, lo cual es típico, ya que más datos proporcionan una mejor generalización. Sin embargo, no alcanza la precisión del entrenamiento, lo cual es común debido a que el modelo siempre está un poco más optimizado para los datos sobre los cuales se entrenó.\n",
    "\n",
    "- **Brecha entre Entrenamiento y Validación:**\n",
    "  - La diferencia constante entre las líneas de entrenamiento y validación sugiere un sobreajuste moderado, donde el modelo se desempeña bien en los datos de entrenamiento pero un poco peor en los datos no vistos. A medida que el modelo se entrena con más datos, esta brecha no se cierra significativamente.\n",
    "\n",
    "  Si bien el modelo aprende bien, los valores que entrega no aseguran que sea un verdadero positivo o que no de falsos negativos, esto debido a la falta de datos de cuando si se hace match. \n",
    "\n"
   ]
  },
  {
   "cell_type": "code",
   "execution_count": null,
   "metadata": {},
   "outputs": [
    {
     "name": "stdout",
     "output_type": "stream",
     "text": [
      "Accuracy 1 neighbour: 0.838107080098761\n",
      "Accuracy 3 neighbours: 0.8537700469337366\n",
      "Accuracy 5 neighbours: 0.8516820517383277\n",
      "Accuracy 7 neighbours: 0.8475047267388838\n",
      "Accuracy 9 neighbours: 0.8436259092021265\n"
     ]
    }
   ],
   "source": [
    "# Results with different parameters: \n",
    "cv_scores = cross_val_score(nb.KNeighborsClassifier(n_neighbors=1), X=X_train, y=y_train,  cv=10)  \n",
    "print(\"Accuracy 1 neighbour:\", np.mean(cv_scores))\n",
    "\n",
    "cv_scores = cross_val_score(nb.KNeighborsClassifier(n_neighbors=3), X=X_train, y=y_train,  cv=10)  \n",
    "print(\"Accuracy 3 neighbours:\",  np.mean(cv_scores))\n",
    "\n",
    "cv_scores = cross_val_score(nb.KNeighborsClassifier(n_neighbors=5), X=X_train, y=y_train,  cv=10)  \n",
    "print(\"Accuracy 5 neighbours:\",  np.mean(cv_scores))\n",
    "\n",
    "cv_scores = cross_val_score(nb.KNeighborsClassifier(n_neighbors=7), X=X_train, y=y_train,  cv=10)  \n",
    "print(\"Accuracy 7 neighbours:\",  np.mean(cv_scores))\n",
    "\n",
    "cv_scores = cross_val_score(nb.KNeighborsClassifier(n_neighbors=9), X=X_train, y=y_train,  cv=10)  \n",
    "print(\"Accuracy 9 neighbours:\",  np.mean(cv_scores))"
   ]
  },
  {
   "cell_type": "markdown",
   "metadata": {},
   "source": [
    "Los resultados muestran como la precisión del clasificador K-Nearest Neighbors (KNN) varía al ajustar el número de vecinos utilizados en el modelo. Los valores de precisión se han calculado utilizando la validación cruzada de 10 pliegues (`cv=10`), método robusto para evaluar la generalización del modelo en diferentes subconjuntos del conjunto de datos de entrenamiento.\n",
    "\n",
    "### Análisis de los Resultados\n",
    "\n",
    "1. **Accuracy 1 neighbour: 0.838107080098761**\n",
    "   - Con solo 1 vecino, el modelo es altamente sensible a las peculiaridades de los datos de entrenamiento. Esto puede conducir a un modelo que sobreajusta los datos, reflejando pequeñas fluctuaciones en el conjunto de entrenamiento que no son representativas del proceso general que se está modelando.\n",
    "\n",
    "2. **Accuracy 3 neighbours: 0.8537700469337366**\n",
    "   - Al aumentar a 3 vecinos, la precisión mejora, lo que sugiere que considerar más puntos cercanos para la clasificación ayuda a reducir el ruido y el sobreajuste que ocurre con un solo vecino. Este parece ser el punto óptimo en este conjunto particular de datos y configuración.\n",
    "\n",
    "3. **Accuracy 5 neighbours: 0.8516820517383277**\n",
    "   - La precisión se mantiene bastante alta con 5 vecinos, pero hay una ligera disminución comparada con 3 vecinos. Esto puede ser una indicación de que aumentar el número de vecinos comienza a incorporar más información general pero también puede empezar a incluir datos que son menos relevantes para la clasificación.\n",
    "\n",
    "4. **Accuracy 7 neighbours: 0.8475047267388838**\n",
    "   - Continuando la tendencia, el aumento a 7 vecinos disminuye aún más la precisión. Esto puede indicar que el modelo comienza a generalizar demasiado, perdiendo detalles importantes que son necesarios para una clasificación precisa en este conjunto de datos.\n",
    "\n",
    "5. **Accuracy 9 neighbours: 0.8436259092021265**\n",
    "   - Con 9 vecinos, la precisión sigue disminuyendo. Esto puede sugerir que el modelo está incorporando demasiados puntos que no son representativos de la clase real que necesita predecir, lo que conduce a predicciones menos precisas.\n",
    "\n",
    "### Conclusiones e Implicaciones\n",
    "\n",
    "- **Elección del Número de Vecinos**: El número óptimo de vecinos depende de la naturaleza de los datos y del equilibrio entre sobreajuste y subajuste. En este caso, 3 vecinos proporcionan la mejor precisión, lo que sugiere un buen balance entre captar la estructura subyacente de los datos y evitar el ruido aleatorio.\n",
    "\n",
    "- **Efecto de la Dimensión de Vecinos en KNN**: En general, aumentar el número de vecinos en KNN hace que el algoritmo sea más robusto contra el ruido en los datos de entrenamiento, pero también puede causar un subajuste si se incluyen demasiados vecinos.\n",
    "\n",
    "- **Validación Cruzada**: Es crucial continuar usando la validación cruzada cuando se experimenta con diferentes hiperparámetros, como el número de vecinos, para asegurarse de que las mejoras en la precisión son genuinas y no el resultado de peculiaridades específicas de una división particular de los datos."
   ]
  },
  {
   "cell_type": "code",
   "execution_count": null,
   "metadata": {},
   "outputs": [
    {
     "name": "stdout",
     "output_type": "stream",
     "text": [
      "Accuracy 1 neighbour: 0.838107080098761\n",
      "Accuracy 2 neighbour: 0.8582492159174322\n",
      "Accuracy 3 neighbour: 0.8537700469337366\n",
      "Accuracy 4 neighbour: 0.8521307026714415\n",
      "Accuracy 5 neighbour: 0.8516820517383277\n",
      "Accuracy 6 neighbour: 0.8482507729608292\n",
      "Accuracy 7 neighbour: 0.8475047267388838\n",
      "Accuracy 8 neighbour: 0.8458651600418177\n",
      "Accuracy 9 neighbour: 0.8436259092021265\n",
      "Accuracy 10 neighbour: 0.8449689703494452\n",
      "\n",
      "Accuracy 2 neighbour: 0.8582492159174322\n"
     ]
    }
   ],
   "source": [
    "lista=[]    \n",
    "for i in range(1, 11):\n",
    "    cv_scores = cross_val_score(nb.KNeighborsClassifier(n_neighbors=i), X=X_train, y=y_train,  cv=10)  \n",
    "    lista.append(np.mean(cv_scores))\n",
    "    print(\"Accuracy\", i ,\"neighbour:\", np.mean(cv_scores))\n",
    "\n",
    "print()\n",
    "print(\"Accuracy\", lista.index((max(lista))) + 1, \"neighbour:\", max(lista))\n"
   ]
  },
  {
   "cell_type": "markdown",
   "metadata": {},
   "source": [
    "Se realiza una evaluación sistemática de la precisión del modelo K-Nearest Neighbors (KNN) variando el número de vecinos desde 1 hasta 10, utilizando una validación cruzada de 10 pliegues para cada configuración. A continuación, almacena cada resultado de precisión en una lista y finalmente imprime la configuración que alcanza la máxima precisión. Analicemos los resultados:\n",
    "\n",
    "### Resumen de Resultados:\n",
    "- **Mayor Precisión Obtenida:** La mayor precisión se obtuvo con 2 vecinos, con un valor de aproximadamente 0.8582.\n",
    "- **Tendencia General:** \n",
    "  - La precisión es máxima en 2 vecinos y disminuye a medida que el número de vecinos aumenta.\n",
    "  - La precisión disminuye de manera más notoria después de 2 vecinos, indicando que agregar más vecinos diluye la capacidad del modelo para hacer predicciones precisas en este conjunto de datos.\n",
    "\n",
    "### Análisis Detallado:\n",
    "\n",
    "1. **Mejor Configuración (2 Vecinos)**:\n",
    "   - Con 2 vecinos, el modelo alcanza su máxima precisión. Esto sugiere que el modelo puede capturar adecuadamente la estructura de los datos con un número muy pequeño de vecinos más cercanos, lo que indica una alta similitud local entre los puntos de datos de la misma clase.\n",
    "\n",
    "2. **Disminución en la Precisión con Más Vecinos**:\n",
    "   - A medida que aumenta el número de vecinos, la precisión tiende a disminuir. Esto puede ser indicativo de que al considerar más vecinos, se están incluyendo datos de otras clases que confunden al modelo, especialmente en un espacio de características donde las clases pueden no estar claramente separadas o pueden solaparse.\n",
    "   - Con más vecinos, el modelo empieza a generalizar más, lo que podría ser útil en un contexto con datos muy ruidosos o con clases que no están bien definidas, pero en este caso parece perjudicar la precisión.\n",
    "\n",
    "3. **Comportamiento a Mayor Número de Vecinos**:\n",
    "   - Los resultados muestran cierta variabilidad y fluctuación en la precisión a medida que el número de vecinos aumenta más allá de 2, pero la tendencia general es de descenso, lo que sugiere que los beneficios de incluir más vecinos decrecen.\n"
   ]
  },
  {
   "cell_type": "code",
   "execution_count": null,
   "metadata": {},
   "outputs": [
    {
     "name": "stdout",
     "output_type": "stream",
     "text": [
      "Accuracy 1 neighbour: and distance weighting: 0.838107080098761\n",
      "Accuracy 2 neighbour: and distance weighting: 0.838107080098761\n",
      "Accuracy 3 neighbour: and distance weighting: 0.8534715394710501\n",
      "Accuracy 4 neighbour: and distance weighting: 0.8548168249660787\n",
      "Accuracy 5 neighbour: and distance weighting: 0.8528756367195319\n",
      "Accuracy 6 neighbour: and distance weighting: 0.8522797339680137\n",
      "Accuracy 7 neighbour: and distance weighting: 0.8498921191360633\n",
      "Accuracy 8 neighbour: and distance weighting: 0.8488473430166603\n",
      "Accuracy 9 neighbour: and distance weighting: 0.8463106968881376\n",
      "Accuracy 10 neighbour: and distance weighting: 0.8475045043041127\n",
      "\n",
      "Accuracy 4 neighbour: and distance weighting: 0.8548168249660787\n"
     ]
    }
   ],
   "source": [
    "lista=[]    \n",
    "for i in range(1, 11):\n",
    "    cv_scores = cross_val_score(nb.KNeighborsClassifier(n_neighbors= i,weights='distance'), X=X_train, y=y_train,  cv=10)  \n",
    "    lista.append(np.mean(cv_scores))\n",
    "    print(\"Accuracy\", i ,\"neighbour: and distance weighting:\", np.mean(cv_scores)) \n",
    "\n",
    "print()\n",
    "print(\"Accuracy\", lista.index((max(lista))) + 1,\"neighbour: and distance weighting:\", max(lista)) \n"
   ]
  },
  {
   "cell_type": "markdown",
   "metadata": {},
   "source": [
    "En esta serie de pruebas, se ha aplicado el algoritmo K-Nearest Neighbors (KNN) utilizando la opción de ponderación por distancia (`weights='distance'`) durante la validación cruzada de 10 pliegues. La ponderación por distancia es una técnica donde la influencia de cada vecino en la clasificación es proporcional a la inversa de su distancia al punto de consulta. Esto significa que los vecinos más cercanos tienen más influencia en la decisión final que los más lejanos.\n",
    "\n",
    "### Resultados Obtenidos:\n",
    "  \n",
    "- **Resultados de Precisión**:\n",
    "  - Con **1 y 2 vecinos**, la precisión es idéntica y relativamente baja comparada con configuraciones de más vecinos. Esto sugiere que con muy pocos vecinos, incluso la ponderación por distancia no puede compensar el ruido y la variabilidad en los datos.\n",
    "  - A medida que **incrementas el número de vecinos hasta 4**, la precisión mejora, alcanzando un pico con **4 vecinos** (0.8548). Esto indica que un mayor número de vecinos, combinado con la ponderación por distancia, permite un mejor equilibrio entre sesgo y varianza, mejorando la generalización del modelo.\n",
    "  - A partir de **5 vecinos en adelante**, la precisión comienza a disminuir gradualmente. Esto puede deberse a que al aumentar el número de vecinos, la influencia de los puntos más distantes (aunque ponderada) empieza a diluir la importancia de los más cercanos, posiblemente introduciendo ruido o desviaciones basadas en características menos relevantes.\n",
    "\n",
    "### Conclusiones e Implicaciones:\n",
    "\n",
    "1. **Ponderación por Distancia Efectiva**:\n",
    "   - La ponderación por distancia parece ser efectiva hasta cierto punto, optimizando la precisión con 4 vecinos. Esto subraya la importancia de los vecinos más cercanos en la decisión de clasificación.\n",
    "\n",
    "2. **Optimización del Número de Vecinos**:\n",
    "   - Con 4 vecinos se obtiene la mejor precisión. Este es un hallazgo clave para configurar tu modelo KNN cuando se usa ponderación por distancia.\n",
    "\n",
    "\n",
    "La elección de 4 vecinos con ponderación por distancia parece ser la más adecuada para este conjunto de datos particular, lo que proporciona una buena combinación de sensibilidad a los datos locales y resistencia al ruido."
   ]
  },
  {
   "cell_type": "code",
   "execution_count": null,
   "metadata": {},
   "outputs": [
    {
     "data": {
      "image/png": "[encoded data removed]",
      "text/plain": [
       "<Figure size 640x480 with 1 Axes>"
      ]
     },
     "metadata": {},
     "output_type": "display_data"
    }
   ],
   "source": [
    "lr = []\n",
    "for ki in range(1,30,2):\n",
    "    cv_scores = cross_val_score(nb.KNeighborsClassifier(n_neighbors=ki), X=X_train, y=y_train, cv=10)\n",
    "    lr.append(np.mean(cv_scores))\n",
    "plt.plot(range(1,30,2),lr,'b',label='No weighting')\n",
    "\n",
    "lr = []\n",
    "for ki in range(1,30,2):\n",
    "    cv_scores = cross_val_score(nb.KNeighborsClassifier(n_neighbors=ki,weights='distance'), X=X_train, y=y_train, cv=10)\n",
    "    lr.append(np.mean(cv_scores))\n",
    "plt.plot(range(1,30,2),lr,'r',label='Weighting')\n",
    "plt.xlabel('k')\n",
    "plt.ylabel('Accuracy')\n",
    "plt.legend(loc='upper right')\n",
    "plt.grid()\n",
    "plt.tight_layout()\n",
    "\n",
    "plt.show()"
   ]
  },
  {
   "cell_type": "markdown",
   "metadata": {},
   "source": [
    "El gráfico compara el desempeño de un modelo K-Nearest Neighbors (KNN) con dos configuraciones distintas: una utilizando el método de clasificación sin ponderación de distancias entre los vecinos y otra aplicando una ponderación por distancia. Las líneas representan la precisión del modelo evaluada mediante validación cruzada de 10 pliegues para diferentes números de vecinos \\( k \\) desde 1 hasta 29, en incrementos de 2. Aquí te explico la interpretación de los resultados mostrados en el gráfico:\n",
    "\n",
    "### Interpretación del Gráfico\n",
    "\n",
    "1. **Eje X - Número de Vecinos (k):**\n",
    "   - Representa el número de vecinos \\( k \\) que el clasificador KNN considera para hacer una predicción. Los valores están incrementados de dos en dos desde 1 hasta 29.\n",
    "\n",
    "2. **Eje Y - Precisión (Accuracy):**\n",
    "   - Indica la precisión promedio obtenida a través de la validación cruzada de 10 pliegues para cada configuración de vecinos \\( k \\).\n",
    "\n",
    "3. **Línea Azul (No Weighting):**\n",
    "   - Muestra la precisión del modelo KNN cuando no se utiliza ponderación por distancia. Se observa que la precisión alcanza su máximo alrededor de \\( k = 5 \\) y luego tiende a disminuir a medida que \\( k \\) aumenta, aunque hay algunos picos menores de precisión a medida que \\( k \\) sigue incrementando.\n",
    "\n",
    "4. **Línea Roja (Weighting):**\n",
    "   - Representa la precisión del modelo KNN cuando se utiliza la ponderación por distancia. Este enfoque asigna una mayor influencia a los vecinos más cercanos en comparación con los más alejados. La línea roja muestra una tendencia similar a la azul en cuanto a la disminución general de la precisión a medida que \\( k \\) aumenta, pero con un patrón menos volátil.\n",
    "\n",
    "### Observaciones Clave\n",
    "\n",
    "- **Pico de Precisión en Pequeños k:**\n",
    "   - Tanto la ponderación por distancia como sin ponderación muestran mayores niveles de precisión con un número pequeño de vecinos. Esto sugiere que un menor \\( k \\) es más efectivo para este conjunto de datos, lo cual es común en conjuntos donde las clases están bien definidas o menos superpuestas.\n",
    "\n",
    "- **Comportamiento a Mayor \\( k \\):**\n",
    "   - La precisión tiende a disminuir a medida que \\( k \\) aumenta, lo cual puede indicar que al incorporar más vecinos, el ruido o la diversidad de las clases dentro del radio de vecinos aumenta, lo que podría confundir al modelo.\n",
    "\n",
    "- **Comparación de Ponderación vs No Ponderación:**\n",
    "   - La línea roja (con ponderación) generalmente muestra menos variabilidad en la precisión que la línea azul (sin ponderación), sugiriendo que la ponderación por distancia puede ayudar a estabilizar el desempeño del modelo ante variaciones en \\( k \\).\n",
    "\n",
    "### Conclusión y Recomendaciones\n",
    "\n",
    "El gráfico muestra que, para este conjunto de datos y configuración del modelo KNN, un número pequeño de vecinos es preferible. Además, la ponderación por distancia parece ofrecer un rendimiento ligeramente más estable a medida que el número de vecinos aumenta. Sería prudente elegir un \\( k \\) en el rango de 3 a 7 basándose en estos datos, con una inclinación hacia el uso de ponderación por distancia si el modelo necesita ser más robusto frente a variaciones en el número de vecinos. Además, realizar pruebas adicionales con un conjunto de datos de prueba independiente puede ayudar a confirmar estos resultados y garantizar que el modelo generalice bien."
   ]
  },
  {
   "cell_type": "code",
   "execution_count": null,
   "metadata": {},
   "outputs": [
    {
     "name": "stdout",
     "output_type": "stream",
     "text": [
      "Best Params= {'n_neighbors': 2, 'weights': 'uniform'} Accuracy= 0.8582492159174322\n"
     ]
    }
   ],
   "source": [
    "params = {'n_neighbors':list(range(1,30)), 'weights':('distance','uniform')}\n",
    "knc = nb.KNeighborsClassifier()\n",
    "clf = GridSearchCV(knc, param_grid=params,cv=10,n_jobs=-1)  # If cv is integer, by default is Stratifyed \n",
    "clf.fit(X_train, y_train)\n",
    "print(\"Best Params=\",clf.best_params_, \"Accuracy=\", clf.best_score_)"
   ]
  },
  {
   "cell_type": "markdown",
   "metadata": {},
   "source": [
    "El resultado con `GridSearchCV` muestra cómo optimizar los hiperparámetros de un modelo K-Nearest Neighbors (KNN) utilizando una búsqueda exhaustiva a través de un rango de valores posibles para cada parámetro clave. Se ha evaluado el modelo con combinaciones de diferentes números de vecinos (`n_neighbors` de 1 a 29) y dos métodos de ponderación (`weights`: 'distance' y 'uniform').\n",
    "\n",
    "### Descripción del Proceso:\n",
    "\n",
    "- **GridSearchCV**: Este es un método que realiza una búsqueda exhaustiva sobre los parámetros especificados de un modelo. Para cada combinación de parámetros, ejecuta una validación cruzada (`cv=10`) y determina qué conjunto de parámetros produce la mejor precisión media en las validaciones cruzadas.\n",
    "- **Parámetros**:\n",
    "  - `n_neighbors`: Es el número de vecinos a considerar. Varía de 1 a 29.\n",
    "  - `weights`: Dos opciones han sido consideradas:\n",
    "    - 'uniform' - Todos los vecinos tienen el mismo peso.\n",
    "    - 'distance' - Los vecinos son ponderados por el inverso de su distancia. Los más cercanos tienen una influencia mayor.\n",
    "- **n_jobs=-1**: Permite que el proceso utilice todos los procesadores disponibles para acelerar la ejecución.\n",
    "  \n",
    "### Resultados Obtenidos:\n",
    "\n",
    "- **Mejores Parámetros**:\n",
    "  - `{'n_neighbors': 2, 'weights': 'uniform'}`: Esta combinación de parámetros fue la que obtuvo la mayor precisión. Significa que el modelo con 2 vecinos y ponderación uniforme fue el más eficaz para tu conjunto de datos.\n",
    "- **Mejor Precisión**:\n",
    "  - `Accuracy= 0.8582492159174322`: Este es el valor más alto de precisión alcanzado con la combinación de parámetros antes mencionada, obtenido a través de validación cruzada. Indica una alta capacidad de generalización bajo esta configuración.\n",
    "\n",
    "### Implicaciones de los Resultados:\n",
    "\n",
    "- **Optimización de Hiperparámetros**: El resultado sugiere que para este conjunto de datos, un pequeño número de vecinos es preferible, y que, contrario a lo que podrías esperar, la ponderación uniforme supera al modelo que pondera por distancia. Esto podría indicar que las distancias no difieren significativamente entre los vecinos más cercanos en tu conjunto de datos o que la distribución de clases es tal que los vecinos adicionales no introducen ruido significativo.\n",
    "- **Evaluación del Modelo**: Aunque la validación cruzada con `GridSearchCV` proporciona una robusta estimación del desempeño del modelo.\n",
    "\n",
    "En resumen, los resultados de tu `GridSearchCV` ofrecen una visión valiosa y una base sólida para tomar decisiones informadas sobre cómo configurar el modelo KNN para obtener el mejor rendimiento posible."
   ]
  },
  {
   "cell_type": "code",
   "execution_count": null,
   "metadata": {},
   "outputs": [
    {
     "name": "stdout",
     "output_type": "stream",
     "text": [
      "[[1373   29]\n",
      " [ 200   74]]\n",
      "0.8633651551312649\n"
     ]
    }
   ],
   "source": [
    "parval=clf.best_params_\n",
    "knc = nb.KNeighborsClassifier(n_neighbors=parval['n_neighbors'],weights=parval['weights'])\n",
    "knc.fit(X_train, y_train)\n",
    "pred=knc.predict(X_test)\n",
    "print(sklearn.metrics.confusion_matrix(y_test, pred))\n",
    "print(sklearn.metrics.accuracy_score(y_test, pred))"
   ]
  },
  {
   "cell_type": "markdown",
   "metadata": {},
   "source": [
    "Los resultados obtenidos representan la evaluación del modelo K-Nearest Neighbors (KNN) ajustado con los mejores parámetros encontrados a través de `GridSearchCV` sobre un conjunto de prueba. Vamos a analizar los dos resultados clave: la matriz de confusión y la precisión del modelo.\n",
    "\n",
    "### Matriz de Confusión\n",
    "La matriz de confusión muestra la distribución de las predicciones en comparación con los verdaderos valores objetivo:\n",
    "- **[[1373, 29] [200, 74]]**\n",
    "\n",
    "**Interpretación:**\n",
    "- **1373 (Verdaderos Positivos, VP)**: El número de predicciones correctas donde el modelo predijo la clase positiva (asumiendo que la primera clase es la positiva) y esta era realmente la clase correcta.\n",
    "- **29 (Falsos Negativos, FN)**: El número de veces que el modelo predijo incorrectamente la clase negativa cuando la verdadera clase era positiva.\n",
    "- **200 (Falsos Positivos, FP)**: El número de veces que el modelo predijo incorrectamente la clase positiva cuando la verdadera clase era negativa.\n",
    "- **74 (Verdaderos Negativos, VN)**: El número de predicciones correctas donde el modelo predijo la clase negativa y esta era realmente la clase correcta.\n",
    "\n",
    "### Precisión del Modelo\n",
    "- **0.8633651551312649 (86.34%)**\n",
    "\n",
    "**Interpretación:**\n",
    "La precisión general del modelo es del 86.34%. Esto significa que el 86.34% de las veces, el modelo hizo la predicción correcta, ya sea como positivo o como negativo. Esta es una medida útil para obtener una idea rápida de la efectividad general del modelo, pero debe considerarse junto con otras métricas para obtener una imagen completa.\n",
    "\n",
    "### Análisis Adicional\n",
    "1. **Sensibilidad y Especificidad**: \n",
    "   - **Sensibilidad (recall de la clase positiva)**: ¿Qué tan bueno es el modelo para detectar los positivos? En este caso es VP / (VP + FN) (1373 / (1373 + 29)).\n",
    "   - **Especificidad**: ¿Qué tan bueno es el modelo para detectar los negativos? Esto es VN / (VN + FP) (74 / (74 + 200)).\n",
    "\n",
    "2. **F1-Score**:\n",
    "   - Podría ser útil calcular el F1-score, especialmente si las clases están desbalanceadas. El F1-score es la media armónica de la precisión y la sensibilidad y da una mejor medida del rendimiento incorrecto tanto de FP como de FN.\n",
    "\n",
    "3. **Consideraciones de Desbalance de Clases**:\n",
    "   - La matriz de confusión sugiere un posible desbalance de clases (muchos más verdaderos positivos que verdaderos negativos). Esto podría afectar la interpretación de la precisión y podría requerir un ajuste en el modelo o en la forma en que se manejan las clases durante el entrenamiento.\n"
   ]
  },
  {
   "cell_type": "code",
   "execution_count": null,
   "metadata": {},
   "outputs": [
    {
     "name": "stdout",
     "output_type": "stream",
     "text": [
      "Can approximate by Normal Distribution?:  True\n",
      "Interval 95% confidence: 0.863 +/- 0.016\n"
     ]
    },
    {
     "data": {
      "text/plain": [
       "(0.8469218514982916, 0.8798084587642382)"
      ]
     },
     "execution_count": 43,
     "metadata": {},
     "output_type": "execute_result"
    }
   ],
   "source": [
    "# interval confidence\n",
    "epsilon = sklearn.metrics.accuracy_score(y_test, pred)\n",
    "print(\"Can approximate by Normal Distribution?: \",X_test.shape[0]*epsilon*(1-epsilon)>5)\n",
    "print(\"Interval 95% confidence:\", \"{0:.3f}\".format(epsilon), \"+/-\", \"{0:.3f}\".format(1.96*np.sqrt(epsilon*(1-epsilon)/X_test.shape[0])))\n",
    "# or equivalent \n",
    "proportion_confint(count=epsilon*X_test.shape[0], nobs=X_test.shape[0], alpha=0.05, method='normal')"
   ]
  },
  {
   "cell_type": "markdown",
   "metadata": {},
   "source": [
    "Los resultados ofrecen un análisis más profundo sobre la precisión del modelo K-Nearest Neighbors (KNN) a través del cálculo del intervalo de confianza del 95%. Esta estadística es fundamental para entender el rango en el que se espera que varíe la verdadera precisión del modelo si el experimento se repitiese muchas veces bajo las mismas condiciones.\n",
    "\n",
    "### Prueba de Aproximación por la Distribución Normal\n",
    "- **`Can approximate by Normal Distribution?: True`**\n",
    "  - Este resultado sugiere que la distribución de la precisión del modelo puede aproximarse razonablemente bien por una distribución normal. Esto se basa en la regla empírica que sugiere que la aproximación normal es adecuada si \\( n \\times p \\times (1-p) > 5 \\), donde \\( n \\) es el número de observaciones en el conjunto de prueba, y \\( p \\) es la precisión observada.\n",
    "  - Dado que el resultado es verdadero, se puede proceder con seguridad utilizando métodos basados en la distribución normal para calcular el intervalo de confianza.\n",
    "\n",
    "### Cálculo del Intervalo de Confianza del 95%\n",
    "- **`Interval 95% confidence: 0.863 +/- 0.016`**\n",
    "  - Este intervalo indica que, con un 95% de confianza, la verdadera precisión del modelo se encuentra dentro del rango de 0.863 ± 0.016. En términos prácticos, esto sugiere que si se repitiera el experimento (entrenamiento y prueba del modelo bajo las mismas condiciones) muchas veces, la precisión observada estaría entre 0.847 y 0.879 la mayoría de las veces.\n",
    "\n",
    "### Uso de `proportion_confint`\n",
    "- **`(0.8469218514982916, 0.8798084587642382)`**\n",
    "  - Esta salida es otra forma de representar el intervalo de confianza del 95%, calculado directamente utilizando la función `proportion_confint` de una biblioteca estadística. Proporciona el límite inferior y superior del intervalo de confianza para la precisión del modelo, confirmando los cálculos manuales anteriores.\n",
    "\n",
    "### Significado y Uso Práctico\n",
    "- La estimación del intervalo de confianza es esencial para la evaluación robusta de modelos de aprendizaje automático. Permite tener en cuenta la incertidumbre en la estimación de la precisión debido a la variabilidad en el conjunto de datos de prueba.\n",
    "- Saber que la precisión puede variar dentro de este rango ayudará a establecer expectativas realistas sobre el desempeño del modelo en la implementación real y evaluar el riesgo asociado con decisiones basadas en las predicciones del modelo.\n",
    "- Este análisis también puede ser útil para comparar modelos. Si el intervalo de confianza de un modelo no se superpone con el de otro, puede ser una evidencia de que un modelo es significativamente mejor que otro.\n"
   ]
  },
  {
   "cell_type": "code",
   "execution_count": null,
   "metadata": {},
   "outputs": [
    {
     "data": {
      "text/plain": [
       "(0.846120876959455, 0.8792480962125114)"
      ]
     },
     "execution_count": 44,
     "metadata": {},
     "output_type": "execute_result"
    }
   ],
   "source": [
    "#Using Binomial distribution\n",
    "proportion_confint(count=epsilon*X_test.shape[0], nobs=X_test.shape[0], alpha=0.05, method='binom_test')"
   ]
  },
  {
   "cell_type": "markdown",
   "metadata": {},
   "source": [
    "Cuando calculas el intervalo de confianza para la proporción utilizando la distribución binomial, se está aplicando un método más exacto que la aproximación normal para situaciones donde la distribución subyacente de los datos sigue un modelo binomial, como es el caso con la clasificación binaria.\n",
    "\n",
    "### Detalles del Método 'binom_test':\n",
    "\n",
    "- **`proportion_confint`**: Esta función de una biblioteca estadística calcula el intervalo de confianza para una proporción basada en el conteo de éxitos y el número total de observaciones (ensayos).\n",
    "- **`method='binom_test'`**: Especifica que el cálculo del intervalo de confianza debe realizarse utilizando el test exacto de binomial, que no asume una distribución normal y es adecuado para tamaños de muestra pequeños o cuando las proporciones son muy altas o muy bajas. Este método utiliza la prueba exacta de Fisher para determinar los límites del intervalo de confianza.\n",
    "\n",
    "### Resultados Obtenidos:\n",
    "- **Intervalo de Confianza:** `(0.846120876959455, 0.8792480962125114)`\n",
    "  - Este intervalo de confianza del 95% sugiere que, con un nivel de confianza del 95%, la verdadera precisión del modelo se encuentra entre aproximadamente 84.61% y 87.92%. Este intervalo es ligeramente más ajustado y posiblemente más preciso que el calculado mediante la aproximación normal, especialmente si el tamaño de la muestra o las proporciones están en los extremos.\n",
    "\n",
    "### Interpretación y Uso:\n",
    "- **Precisión del Modelo**: Este intervalo te ofrece una estimación robusta y posiblemente más conservadora de la precisión del modelo, basada en el rendimiento observado en el conjunto de prueba.\n",
    "- **Comparación con Aproximación Normal**: Los resultados son similares a los obtenidos con la aproximación normal, lo cual es bueno ya que proporciona coherencia en tus análisis. Sin embargo, el intervalo de confianza binomial es generalmente preferido por su precisión en casos con distribuciones no normales o tamaños de muestra pequeños.\n",
    "- **Decisiones Basadas en Datos**: Al contar con una medida exacta del intervalo de confianza,se pueden tomar decisiones más informadas sobre la implementación del modelo en entornos de producción, evaluando el riesgo y la variabilidad en el desempeño esperado."
   ]
  },
  {
   "cell_type": "code",
   "execution_count": null,
   "metadata": {},
   "outputs": [
    {
     "name": "stdout",
     "output_type": "stream",
     "text": [
      "Have the classifiers significant different accuracy?: True\n"
     ]
    }
   ],
   "source": [
    "# Build two classifiers\n",
    "# Classifier 1 (3 Neighbours) successes\n",
    "y_pred = cross_val_predict(nb.KNeighborsClassifier(n_neighbors=3), X=x, y=y,  cv=10) \n",
    "res1=np.zeros(y.shape)\n",
    "res1[y_pred==y]=1\n",
    "\n",
    "# Classifier 2 (7 Neighbours) 2 successes\n",
    "y_pred = cross_val_predict(nb.KNeighborsClassifier(n_neighbors=7), X=x, y=y,  cv=10) \n",
    "res2=np.zeros(y.shape)\n",
    "res2[y_pred==y]=1\n",
    "\n",
    "# Build contingency matrix\n",
    "n00 = np.sum([res1[res2==1]==1])\n",
    "n11 = np.sum([res1[res2==0]==0])\n",
    "n10 = np.sum([res1[res2==1]==0])\n",
    "n01 = np.sum([res1[res2==0]==1])\n",
    "\n",
    "# Chi -square test\n",
    "print(\"Have the classifiers significant different accuracy?:\",(np.abs(n01-n10)-1)**2/(n01+n10)>3.84)"
   ]
  },
  {
   "cell_type": "markdown",
   "metadata": {},
   "source": [
    "Se ha construido dos clasificadores K-Nearest Neighbors (KNN) con diferentes números de vecinos (3 y 7) y se ha evaluado sus predicciones utilizando la validación cruzada. Luego, se ha comparado el rendimiento de ambos clasificadores mediante una matriz de contingencia y un test de Chi-cuadrado para determinar si sus diferencias en precisión son estadísticamente significativas. \n",
    "\n",
    "### Construcción de los Clasificadores:\n",
    "1. **Clasificador 1 (3 Vecinos)**:\n",
    "   - Utilizas `cross_val_predict` para obtener predicciones de validación cruzada para el modelo con 3 vecinos.\n",
    "   - `res1` es un array donde asignas 1 a las predicciones correctas (donde la predicción coincide con la etiqueta verdadera).\n",
    "\n",
    "2. **Clasificador 2 (7 Vecinos)**:\n",
    "   - Repites el proceso con 7 vecinos.\n",
    "   - `res2` es similar a `res1`, pero para el clasificador con 7 vecinos.\n",
    "\n",
    "### Construcción de la Matriz de Contingencia:\n",
    "Defines los términos de la matriz de contingencia basada en cuántas veces ambos clasificadores acertaron o fallaron juntos:\n",
    "- **n00**: Número de veces que ambos clasificadores aciertan.\n",
    "- **n11**: Número de veces que ambos clasificadores fallan.\n",
    "- **n10**: Número de veces que el clasificador 1 falla pero el clasificador 2 acierta.\n",
    "- **n01**: Número de veces que el clasificador 1 acierta pero el clasificador 2 falla.\n",
    "\n",
    "### Test de Chi-cuadrado para Independencia:\n",
    "- Se utiliza una forma del test de Chi-cuadrado para verificar si las diferencias en el rendimiento de ambos clasificadores son significativas. \n",
    "\n",
    "- Este cálculo se basa en la fórmula del test de McNemar, una versión especializada del test de Chi-cuadrado diseñada para comparar dos clasificadores sobre el mismo conjunto de datos. El valor de 3.84 corresponde al valor crítico de Chi-cuadrado con un grado de libertad al nivel de significancia del 5%.\n",
    "\n",
    "### Resultado del Test:\n",
    "- **`Have the classifiers significant different accuracy?: True`**\n",
    "  - Esto indica que, según el test de McNemar, hay una diferencia estadísticamente significativa en la precisión de los dos clasificadores. La diferencia en el número de veces que un clasificador fue correcto mientras el otro no, ajustada por el tamaño de muestra de estas discrepancias, es lo suficientemente grande para considerar que no se debe al azar.\n",
    "\n",
    "### Implicaciones:\n",
    "- La significancia estadística en la diferencia de precisión sugiere que el número de vecinos en un clasificador KNN puede tener un impacto notable en su rendimiento, y que este impacto es importante de considerar al seleccionar el modelo para un problema específico.\n",
    "- Es fundamental evaluar diferentes configuraciones del mismo algoritmo, ya que cambios aparentemente menores en los parámetros pueden resultar en mejoras significativas de rendimiento.\n",
    "\n",
    "Este análisis es crucial para la selección de modelos en proyectos de ciencia de datos, asegurando que las decisiones se basen en evidencia estadística sólida y no en variaciones aleatorias del rendimiento del modelo."
   ]
  }
 ],
 "metadata": {
  "kernelspec": {
   "display_name": "Python 3",
   "language": "python",
   "name": "python3"
  },
  "language_info": {
   "codemirror_mode": {
    "name": "ipython",
    "version": 3
   },
   "file_extension": ".py",
   "mimetype": "text/x-python",
   "name": "python",
   "nbconvert_exporter": "python",
   "pygments_lexer": "ipython3",
   "version": "3.12.2"
  }
 },
 "nbformat": 4,
 "nbformat_minor": 2
}
