{
 "cells": [
  {
   "cell_type": "markdown",
   "metadata": {},
   "source": [
    "# Meta Methods applied to the ionosphere data set"
   ]
  },
  {
   "cell_type": "code",
   "metadata": {
    "ExecuteTime": {
     "end_time": "2024-05-15T13:44:35.928336Z",
     "start_time": "2024-05-15T13:44:35.804004Z"
    }
   },
   "source": [
    "# Import libraries \n",
    "\n",
    "import numpy as np    # Numeric and matrix computation\n",
    "import pandas as pd   # Optional: good package for manipulating data \n",
    "import sklearn as sk  # Package with learning algorithms implemented\n",
    "\n",
    "csv = \"preprocessed.csv\"\n",
    "\n",
    "# Read the CSV file\n",
    "df = pd.read_csv(csv, header=None, low_memory=False)\n",
    "\n",
    "# Apply the decode function to convert bytes to strings if necessary\n",
    "df = df.map(lambda x: x.decode('utf-8') if isinstance(x, bytes) else x)\n",
    "\n",
    "# Inspect the first few rows\n",
    "df.head()"
   ],
   "outputs": [
    {
     "data": {
      "text/plain": [
       "     0       1     2      3                                      4   \\\n",
       "0  wave  gender   age  age_o                                   race   \n",
       "1   1.0  female  21.0   27.0  Asian/Pacific Islander/Asian-American   \n",
       "2   1.0  female  21.0   22.0  Asian/Pacific Islander/Asian-American   \n",
       "3   1.0  female  21.0   22.0  Asian/Pacific Islander/Asian-American   \n",
       "4   1.0  female  21.0   23.0  Asian/Pacific Islander/Asian-American   \n",
       "\n",
       "                                      5                     6   \\\n",
       "0                                 race_o  importance_same_race   \n",
       "1            European/Caucasian-American                   2.0   \n",
       "2            European/Caucasian-American                   2.0   \n",
       "3  Asian/Pacific Islander/Asian-American                   2.0   \n",
       "4            European/Caucasian-American                   2.0   \n",
       "\n",
       "                         7      8                  9   ...  \\\n",
       "0  importance_same_religion  field  pref_o_attractive  ...   \n",
       "1                       4.0    Law               35.0  ...   \n",
       "2                       4.0    Law               60.0  ...   \n",
       "3                       4.0    Law               19.0  ...   \n",
       "4                       4.0    Law               30.0  ...   \n",
       "\n",
       "                    55                             56  \\\n",
       "0  interests_correlate  expected_happy_with_sd_people   \n",
       "1                 0.14                            3.0   \n",
       "2                 0.54                            3.0   \n",
       "3                 0.16                            3.0   \n",
       "4                 0.61                            3.0   \n",
       "\n",
       "                              57                    58    59  \\\n",
       "0  expected_num_interested_in_me  expected_num_matches  like   \n",
       "1                            2.0                   4.0   7.0   \n",
       "2                            2.0                   4.0   7.0   \n",
       "3                            2.0                   4.0   7.0   \n",
       "4                            2.0                   4.0   7.0   \n",
       "\n",
       "                 60   61        62          63     64  \n",
       "0  guess_prob_liked  met  decision  decision_o  match  \n",
       "1               6.0  0.0         1           0      0  \n",
       "2               5.0  1.0         1           0      0  \n",
       "3               NaN  1.0         1           1      1  \n",
       "4               6.0  0.0         1           1      1  \n",
       "\n",
       "[5 rows x 65 columns]"
      ],
      "text/html": [
       "<div>\n",
       "<style scoped>\n",
       "    .dataframe tbody tr th:only-of-type {\n",
       "        vertical-align: middle;\n",
       "    }\n",
       "\n",
       "    .dataframe tbody tr th {\n",
       "        vertical-align: top;\n",
       "    }\n",
       "\n",
       "    .dataframe thead th {\n",
       "        text-align: right;\n",
       "    }\n",
       "</style>\n",
       "<table border=\"1\" class=\"dataframe\">\n",
       "  <thead>\n",
       "    <tr style=\"text-align: right;\">\n",
       "      <th></th>\n",
       "      <th>0</th>\n",
       "      <th>1</th>\n",
       "      <th>2</th>\n",
       "      <th>3</th>\n",
       "      <th>4</th>\n",
       "      <th>5</th>\n",
       "      <th>6</th>\n",
       "      <th>7</th>\n",
       "      <th>8</th>\n",
       "      <th>9</th>\n",
       "      <th>...</th>\n",
       "      <th>55</th>\n",
       "      <th>56</th>\n",
       "      <th>57</th>\n",
       "      <th>58</th>\n",
       "      <th>59</th>\n",
       "      <th>60</th>\n",
       "      <th>61</th>\n",
       "      <th>62</th>\n",
       "      <th>63</th>\n",
       "      <th>64</th>\n",
       "    </tr>\n",
       "  </thead>\n",
       "  <tbody>\n",
       "    <tr>\n",
       "      <th>0</th>\n",
       "      <td>wave</td>\n",
       "      <td>gender</td>\n",
       "      <td>age</td>\n",
       "      <td>age_o</td>\n",
       "      <td>race</td>\n",
       "      <td>race_o</td>\n",
       "      <td>importance_same_race</td>\n",
       "      <td>importance_same_religion</td>\n",
       "      <td>field</td>\n",
       "      <td>pref_o_attractive</td>\n",
       "      <td>...</td>\n",
       "      <td>interests_correlate</td>\n",
       "      <td>expected_happy_with_sd_people</td>\n",
       "      <td>expected_num_interested_in_me</td>\n",
       "      <td>expected_num_matches</td>\n",
       "      <td>like</td>\n",
       "      <td>guess_prob_liked</td>\n",
       "      <td>met</td>\n",
       "      <td>decision</td>\n",
       "      <td>decision_o</td>\n",
       "      <td>match</td>\n",
       "    </tr>\n",
       "    <tr>\n",
       "      <th>1</th>\n",
       "      <td>1.0</td>\n",
       "      <td>female</td>\n",
       "      <td>21.0</td>\n",
       "      <td>27.0</td>\n",
       "      <td>Asian/Pacific Islander/Asian-American</td>\n",
       "      <td>European/Caucasian-American</td>\n",
       "      <td>2.0</td>\n",
       "      <td>4.0</td>\n",
       "      <td>Law</td>\n",
       "      <td>35.0</td>\n",
       "      <td>...</td>\n",
       "      <td>0.14</td>\n",
       "      <td>3.0</td>\n",
       "      <td>2.0</td>\n",
       "      <td>4.0</td>\n",
       "      <td>7.0</td>\n",
       "      <td>6.0</td>\n",
       "      <td>0.0</td>\n",
       "      <td>1</td>\n",
       "      <td>0</td>\n",
       "      <td>0</td>\n",
       "    </tr>\n",
       "    <tr>\n",
       "      <th>2</th>\n",
       "      <td>1.0</td>\n",
       "      <td>female</td>\n",
       "      <td>21.0</td>\n",
       "      <td>22.0</td>\n",
       "      <td>Asian/Pacific Islander/Asian-American</td>\n",
       "      <td>European/Caucasian-American</td>\n",
       "      <td>2.0</td>\n",
       "      <td>4.0</td>\n",
       "      <td>Law</td>\n",
       "      <td>60.0</td>\n",
       "      <td>...</td>\n",
       "      <td>0.54</td>\n",
       "      <td>3.0</td>\n",
       "      <td>2.0</td>\n",
       "      <td>4.0</td>\n",
       "      <td>7.0</td>\n",
       "      <td>5.0</td>\n",
       "      <td>1.0</td>\n",
       "      <td>1</td>\n",
       "      <td>0</td>\n",
       "      <td>0</td>\n",
       "    </tr>\n",
       "    <tr>\n",
       "      <th>3</th>\n",
       "      <td>1.0</td>\n",
       "      <td>female</td>\n",
       "      <td>21.0</td>\n",
       "      <td>22.0</td>\n",
       "      <td>Asian/Pacific Islander/Asian-American</td>\n",
       "      <td>Asian/Pacific Islander/Asian-American</td>\n",
       "      <td>2.0</td>\n",
       "      <td>4.0</td>\n",
       "      <td>Law</td>\n",
       "      <td>19.0</td>\n",
       "      <td>...</td>\n",
       "      <td>0.16</td>\n",
       "      <td>3.0</td>\n",
       "      <td>2.0</td>\n",
       "      <td>4.0</td>\n",
       "      <td>7.0</td>\n",
       "      <td>NaN</td>\n",
       "      <td>1.0</td>\n",
       "      <td>1</td>\n",
       "      <td>1</td>\n",
       "      <td>1</td>\n",
       "    </tr>\n",
       "    <tr>\n",
       "      <th>4</th>\n",
       "      <td>1.0</td>\n",
       "      <td>female</td>\n",
       "      <td>21.0</td>\n",
       "      <td>23.0</td>\n",
       "      <td>Asian/Pacific Islander/Asian-American</td>\n",
       "      <td>European/Caucasian-American</td>\n",
       "      <td>2.0</td>\n",
       "      <td>4.0</td>\n",
       "      <td>Law</td>\n",
       "      <td>30.0</td>\n",
       "      <td>...</td>\n",
       "      <td>0.61</td>\n",
       "      <td>3.0</td>\n",
       "      <td>2.0</td>\n",
       "      <td>4.0</td>\n",
       "      <td>7.0</td>\n",
       "      <td>6.0</td>\n",
       "      <td>0.0</td>\n",
       "      <td>1</td>\n",
       "      <td>1</td>\n",
       "      <td>1</td>\n",
       "    </tr>\n",
       "  </tbody>\n",
       "</table>\n",
       "<p>5 rows × 65 columns</p>\n",
       "</div>"
      ]
     },
     "execution_count": 6,
     "metadata": {},
     "output_type": "execute_result"
    }
   ],
   "execution_count": 6
  },
  {
   "cell_type": "code",
   "metadata": {
    "ExecuteTime": {
     "end_time": "2024-05-15T13:44:40.143939Z",
     "start_time": "2024-05-15T13:44:40.135330Z"
    }
   },
   "source": [
    "# No preprocessing needed. Numerical and scaled data\n",
    "# Separate data from labels\n",
    "\n",
    "y=df[34].values\n",
    "X=df.values[:,0:34]"
   ],
   "outputs": [],
   "execution_count": 7
  },
  {
   "cell_type": "markdown",
   "metadata": {},
   "source": [
    "## Voting scheme"
   ]
  },
  {
   "cell_type": "code",
   "metadata": {
    "ExecuteTime": {
     "end_time": "2024-05-15T13:44:47.134769Z",
     "start_time": "2024-05-15T13:44:47.014378Z"
    }
   },
   "source": [
    "from sklearn.model_selection import cross_val_score\n",
    "#from sklearn.linear_model import LogisticRegression\n",
    "from sklearn.naive_bayes import GaussianNB\n",
    "from sklearn.ensemble import VotingClassifier\n",
    "from sklearn.tree import DecisionTreeClassifier\n",
    "from sklearn.neighbors import KNeighborsClassifier\n",
    "from sklearn.model_selection import GridSearchCV\n",
    "\n",
    "cv=50\n",
    "\n",
    "clf1 = GaussianNB()\n",
    "\n",
    "params = {'n_neighbors':list(range(1,30,2)), 'weights':('distance','uniform')}\n",
    "knc = KNeighborsClassifier()\n",
    "clf = GridSearchCV(knc, param_grid=params,cv=cv,n_jobs=-1)  # If cv is integer, by default is Stratifyed \n",
    "clf.fit(X, y)\n",
    "print(\"Best Params fo Knn=\",clf.best_params_, \"Accuracy=\", clf.best_score_)\n",
    "parval=clf.best_params_\n",
    "clf2 = KNeighborsClassifier(n_neighbors=parval['n_neighbors'],weights=parval['weights'])\n",
    "\n",
    "clf3 = DecisionTreeClassifier(criterion='entropy')\n",
    "\n",
    "\n",
    "for clf, label in zip([clf1, clf2, clf3], ['Naive Bayes','Knn (3)', 'Dec. Tree', ]):\n",
    "    scores = cross_val_score(clf, X, y, cv=cv, scoring='accuracy')\n",
    "    print(\"Accuracy: %0.3f [%s]\" % (scores.mean(), label))\n",
    "    "
   ],
   "outputs": [
    {
     "ename": "TypeError",
     "evalue": "'<' not supported between instances of 'str' and 'float'",
     "output_type": "error",
     "traceback": [
      "\u001B[0;31m---------------------------------------------------------------------------\u001B[0m",
      "\u001B[0;31mTypeError\u001B[0m                                 Traceback (most recent call last)",
      "Cell \u001B[0;32mIn[8], line 16\u001B[0m\n\u001B[1;32m     14\u001B[0m knc \u001B[38;5;241m=\u001B[39m KNeighborsClassifier()\n\u001B[1;32m     15\u001B[0m clf \u001B[38;5;241m=\u001B[39m GridSearchCV(knc, param_grid\u001B[38;5;241m=\u001B[39mparams,cv\u001B[38;5;241m=\u001B[39mcv,n_jobs\u001B[38;5;241m=\u001B[39m\u001B[38;5;241m-\u001B[39m\u001B[38;5;241m1\u001B[39m)  \u001B[38;5;66;03m# If cv is integer, by default is Stratifyed \u001B[39;00m\n\u001B[0;32m---> 16\u001B[0m \u001B[43mclf\u001B[49m\u001B[38;5;241;43m.\u001B[39;49m\u001B[43mfit\u001B[49m\u001B[43m(\u001B[49m\u001B[43mX\u001B[49m\u001B[43m,\u001B[49m\u001B[43m \u001B[49m\u001B[43my\u001B[49m\u001B[43m)\u001B[49m\n\u001B[1;32m     17\u001B[0m \u001B[38;5;28mprint\u001B[39m(\u001B[38;5;124m\"\u001B[39m\u001B[38;5;124mBest Params fo Knn=\u001B[39m\u001B[38;5;124m\"\u001B[39m,clf\u001B[38;5;241m.\u001B[39mbest_params_, \u001B[38;5;124m\"\u001B[39m\u001B[38;5;124mAccuracy=\u001B[39m\u001B[38;5;124m\"\u001B[39m, clf\u001B[38;5;241m.\u001B[39mbest_score_)\n\u001B[1;32m     18\u001B[0m parval\u001B[38;5;241m=\u001B[39mclf\u001B[38;5;241m.\u001B[39mbest_params_\n",
      "File \u001B[0;32m~/hustlin/learn py/MD_D1_3_12/newvenv/lib/python3.12/site-packages/sklearn/base.py:1474\u001B[0m, in \u001B[0;36m_fit_context.<locals>.decorator.<locals>.wrapper\u001B[0;34m(estimator, *args, **kwargs)\u001B[0m\n\u001B[1;32m   1467\u001B[0m     estimator\u001B[38;5;241m.\u001B[39m_validate_params()\n\u001B[1;32m   1469\u001B[0m \u001B[38;5;28;01mwith\u001B[39;00m config_context(\n\u001B[1;32m   1470\u001B[0m     skip_parameter_validation\u001B[38;5;241m=\u001B[39m(\n\u001B[1;32m   1471\u001B[0m         prefer_skip_nested_validation \u001B[38;5;129;01mor\u001B[39;00m global_skip_validation\n\u001B[1;32m   1472\u001B[0m     )\n\u001B[1;32m   1473\u001B[0m ):\n\u001B[0;32m-> 1474\u001B[0m     \u001B[38;5;28;01mreturn\u001B[39;00m \u001B[43mfit_method\u001B[49m\u001B[43m(\u001B[49m\u001B[43mestimator\u001B[49m\u001B[43m,\u001B[49m\u001B[43m \u001B[49m\u001B[38;5;241;43m*\u001B[39;49m\u001B[43margs\u001B[49m\u001B[43m,\u001B[49m\u001B[43m \u001B[49m\u001B[38;5;241;43m*\u001B[39;49m\u001B[38;5;241;43m*\u001B[39;49m\u001B[43mkwargs\u001B[49m\u001B[43m)\u001B[49m\n",
      "File \u001B[0;32m~/hustlin/learn py/MD_D1_3_12/newvenv/lib/python3.12/site-packages/sklearn/model_selection/_search.py:879\u001B[0m, in \u001B[0;36mBaseSearchCV.fit\u001B[0;34m(self, X, y, **params)\u001B[0m\n\u001B[1;32m    875\u001B[0m params \u001B[38;5;241m=\u001B[39m _check_method_params(X, params\u001B[38;5;241m=\u001B[39mparams)\n\u001B[1;32m    877\u001B[0m routed_params \u001B[38;5;241m=\u001B[39m \u001B[38;5;28mself\u001B[39m\u001B[38;5;241m.\u001B[39m_get_routed_params_for_fit(params)\n\u001B[0;32m--> 879\u001B[0m cv_orig \u001B[38;5;241m=\u001B[39m \u001B[43mcheck_cv\u001B[49m\u001B[43m(\u001B[49m\u001B[38;5;28;43mself\u001B[39;49m\u001B[38;5;241;43m.\u001B[39;49m\u001B[43mcv\u001B[49m\u001B[43m,\u001B[49m\u001B[43m \u001B[49m\u001B[43my\u001B[49m\u001B[43m,\u001B[49m\u001B[43m \u001B[49m\u001B[43mclassifier\u001B[49m\u001B[38;5;241;43m=\u001B[39;49m\u001B[43mis_classifier\u001B[49m\u001B[43m(\u001B[49m\u001B[43mestimator\u001B[49m\u001B[43m)\u001B[49m\u001B[43m)\u001B[49m\n\u001B[1;32m    880\u001B[0m n_splits \u001B[38;5;241m=\u001B[39m cv_orig\u001B[38;5;241m.\u001B[39mget_n_splits(X, y, \u001B[38;5;241m*\u001B[39m\u001B[38;5;241m*\u001B[39mrouted_params\u001B[38;5;241m.\u001B[39msplitter\u001B[38;5;241m.\u001B[39msplit)\n\u001B[1;32m    882\u001B[0m base_estimator \u001B[38;5;241m=\u001B[39m clone(\u001B[38;5;28mself\u001B[39m\u001B[38;5;241m.\u001B[39mestimator)\n",
      "File \u001B[0;32m~/hustlin/learn py/MD_D1_3_12/newvenv/lib/python3.12/site-packages/sklearn/model_selection/_split.py:2525\u001B[0m, in \u001B[0;36mcheck_cv\u001B[0;34m(cv, y, classifier)\u001B[0m\n\u001B[1;32m   2520\u001B[0m cv \u001B[38;5;241m=\u001B[39m \u001B[38;5;241m5\u001B[39m \u001B[38;5;28;01mif\u001B[39;00m cv \u001B[38;5;129;01mis\u001B[39;00m \u001B[38;5;28;01mNone\u001B[39;00m \u001B[38;5;28;01melse\u001B[39;00m cv\n\u001B[1;32m   2521\u001B[0m \u001B[38;5;28;01mif\u001B[39;00m \u001B[38;5;28misinstance\u001B[39m(cv, numbers\u001B[38;5;241m.\u001B[39mIntegral):\n\u001B[1;32m   2522\u001B[0m     \u001B[38;5;28;01mif\u001B[39;00m (\n\u001B[1;32m   2523\u001B[0m         classifier\n\u001B[1;32m   2524\u001B[0m         \u001B[38;5;129;01mand\u001B[39;00m (y \u001B[38;5;129;01mis\u001B[39;00m \u001B[38;5;129;01mnot\u001B[39;00m \u001B[38;5;28;01mNone\u001B[39;00m)\n\u001B[0;32m-> 2525\u001B[0m         \u001B[38;5;129;01mand\u001B[39;00m (\u001B[43mtype_of_target\u001B[49m\u001B[43m(\u001B[49m\u001B[43my\u001B[49m\u001B[43m,\u001B[49m\u001B[43m \u001B[49m\u001B[43minput_name\u001B[49m\u001B[38;5;241;43m=\u001B[39;49m\u001B[38;5;124;43m\"\u001B[39;49m\u001B[38;5;124;43my\u001B[39;49m\u001B[38;5;124;43m\"\u001B[39;49m\u001B[43m)\u001B[49m \u001B[38;5;129;01min\u001B[39;00m (\u001B[38;5;124m\"\u001B[39m\u001B[38;5;124mbinary\u001B[39m\u001B[38;5;124m\"\u001B[39m, \u001B[38;5;124m\"\u001B[39m\u001B[38;5;124mmulticlass\u001B[39m\u001B[38;5;124m\"\u001B[39m))\n\u001B[1;32m   2526\u001B[0m     ):\n\u001B[1;32m   2527\u001B[0m         \u001B[38;5;28;01mreturn\u001B[39;00m StratifiedKFold(cv)\n\u001B[1;32m   2528\u001B[0m     \u001B[38;5;28;01melse\u001B[39;00m:\n",
      "File \u001B[0;32m~/hustlin/learn py/MD_D1_3_12/newvenv/lib/python3.12/site-packages/sklearn/utils/multiclass.py:395\u001B[0m, in \u001B[0;36mtype_of_target\u001B[0;34m(y, input_name)\u001B[0m\n\u001B[1;32m    393\u001B[0m \u001B[38;5;28;01mif\u001B[39;00m issparse(first_row):\n\u001B[1;32m    394\u001B[0m     first_row \u001B[38;5;241m=\u001B[39m first_row\u001B[38;5;241m.\u001B[39mdata\n\u001B[0;32m--> 395\u001B[0m \u001B[38;5;28;01mif\u001B[39;00m \u001B[43mxp\u001B[49m\u001B[38;5;241;43m.\u001B[39;49m\u001B[43munique_values\u001B[49m\u001B[43m(\u001B[49m\u001B[43my\u001B[49m\u001B[43m)\u001B[49m\u001B[38;5;241m.\u001B[39mshape[\u001B[38;5;241m0\u001B[39m] \u001B[38;5;241m>\u001B[39m \u001B[38;5;241m2\u001B[39m \u001B[38;5;129;01mor\u001B[39;00m (y\u001B[38;5;241m.\u001B[39mndim \u001B[38;5;241m==\u001B[39m \u001B[38;5;241m2\u001B[39m \u001B[38;5;129;01mand\u001B[39;00m \u001B[38;5;28mlen\u001B[39m(first_row) \u001B[38;5;241m>\u001B[39m \u001B[38;5;241m1\u001B[39m):\n\u001B[1;32m    396\u001B[0m     \u001B[38;5;66;03m# [1, 2, 3] or [[1., 2., 3]] or [[1, 2]]\u001B[39;00m\n\u001B[1;32m    397\u001B[0m     \u001B[38;5;28;01mreturn\u001B[39;00m \u001B[38;5;124m\"\u001B[39m\u001B[38;5;124mmulticlass\u001B[39m\u001B[38;5;124m\"\u001B[39m \u001B[38;5;241m+\u001B[39m suffix\n\u001B[1;32m    398\u001B[0m \u001B[38;5;28;01melse\u001B[39;00m:\n",
      "File \u001B[0;32m~/hustlin/learn py/MD_D1_3_12/newvenv/lib/python3.12/site-packages/sklearn/utils/_array_api.py:307\u001B[0m, in \u001B[0;36m_NumPyAPIWrapper.unique_values\u001B[0;34m(self, x)\u001B[0m\n\u001B[1;32m    306\u001B[0m \u001B[38;5;28;01mdef\u001B[39;00m \u001B[38;5;21munique_values\u001B[39m(\u001B[38;5;28mself\u001B[39m, x):\n\u001B[0;32m--> 307\u001B[0m     \u001B[38;5;28;01mreturn\u001B[39;00m \u001B[43mnumpy\u001B[49m\u001B[38;5;241;43m.\u001B[39;49m\u001B[43munique\u001B[49m\u001B[43m(\u001B[49m\u001B[43mx\u001B[49m\u001B[43m)\u001B[49m\n",
      "File \u001B[0;32m~/hustlin/learn py/MD_D1_3_12/newvenv/lib/python3.12/site-packages/numpy/lib/arraysetops.py:274\u001B[0m, in \u001B[0;36munique\u001B[0;34m(ar, return_index, return_inverse, return_counts, axis, equal_nan)\u001B[0m\n\u001B[1;32m    272\u001B[0m ar \u001B[38;5;241m=\u001B[39m np\u001B[38;5;241m.\u001B[39masanyarray(ar)\n\u001B[1;32m    273\u001B[0m \u001B[38;5;28;01mif\u001B[39;00m axis \u001B[38;5;129;01mis\u001B[39;00m \u001B[38;5;28;01mNone\u001B[39;00m:\n\u001B[0;32m--> 274\u001B[0m     ret \u001B[38;5;241m=\u001B[39m \u001B[43m_unique1d\u001B[49m\u001B[43m(\u001B[49m\u001B[43mar\u001B[49m\u001B[43m,\u001B[49m\u001B[43m \u001B[49m\u001B[43mreturn_index\u001B[49m\u001B[43m,\u001B[49m\u001B[43m \u001B[49m\u001B[43mreturn_inverse\u001B[49m\u001B[43m,\u001B[49m\u001B[43m \u001B[49m\u001B[43mreturn_counts\u001B[49m\u001B[43m,\u001B[49m\u001B[43m \u001B[49m\n\u001B[1;32m    275\u001B[0m \u001B[43m                    \u001B[49m\u001B[43mequal_nan\u001B[49m\u001B[38;5;241;43m=\u001B[39;49m\u001B[43mequal_nan\u001B[49m\u001B[43m)\u001B[49m\n\u001B[1;32m    276\u001B[0m     \u001B[38;5;28;01mreturn\u001B[39;00m _unpack_tuple(ret)\n\u001B[1;32m    278\u001B[0m \u001B[38;5;66;03m# axis was specified and not None\u001B[39;00m\n",
      "File \u001B[0;32m~/hustlin/learn py/MD_D1_3_12/newvenv/lib/python3.12/site-packages/numpy/lib/arraysetops.py:336\u001B[0m, in \u001B[0;36m_unique1d\u001B[0;34m(ar, return_index, return_inverse, return_counts, equal_nan)\u001B[0m\n\u001B[1;32m    334\u001B[0m     aux \u001B[38;5;241m=\u001B[39m ar[perm]\n\u001B[1;32m    335\u001B[0m \u001B[38;5;28;01melse\u001B[39;00m:\n\u001B[0;32m--> 336\u001B[0m     \u001B[43mar\u001B[49m\u001B[38;5;241;43m.\u001B[39;49m\u001B[43msort\u001B[49m\u001B[43m(\u001B[49m\u001B[43m)\u001B[49m\n\u001B[1;32m    337\u001B[0m     aux \u001B[38;5;241m=\u001B[39m ar\n\u001B[1;32m    338\u001B[0m mask \u001B[38;5;241m=\u001B[39m np\u001B[38;5;241m.\u001B[39mempty(aux\u001B[38;5;241m.\u001B[39mshape, dtype\u001B[38;5;241m=\u001B[39mnp\u001B[38;5;241m.\u001B[39mbool_)\n",
      "\u001B[0;31mTypeError\u001B[0m: '<' not supported between instances of 'str' and 'float'"
     ]
    }
   ],
   "execution_count": 8
  },
  {
   "cell_type": "code",
   "execution_count": 4,
   "metadata": {},
   "outputs": [
    {
     "name": "stdout",
     "output_type": "stream",
     "text": [
      "Accuracy: 0.924 [Majority Voting]\n"
     ]
    }
   ],
   "source": [
    "import warnings\n",
    "warnings.filterwarnings(\"ignore\", category=DeprecationWarning)\n",
    "\n",
    "eclf = VotingClassifier(estimators=[('nb', clf1), ('knn3', clf2), ('dt', clf3)], voting='hard')\n",
    "scores = cross_val_score(eclf, X, y, cv=cv, scoring='accuracy')\n",
    "print(\"Accuracy: %0.3f [%s]\" % (scores.mean() , \"Majority Voting\"))\n"
   ]
  },
  {
   "cell_type": "code",
   "execution_count": 5,
   "metadata": {},
   "outputs": [
    {
     "name": "stdout",
     "output_type": "stream",
     "text": [
      "Accuracy: 0.928 [Weighted Voting]\n"
     ]
    }
   ],
   "source": [
    "eclf = VotingClassifier(estimators=[('nb', clf1), ('knn3', clf2), ('dt', clf3)],voting='soft', weights=[2,1,2])\n",
    "scores = cross_val_score(eclf, X, y, cv=cv, scoring='accuracy')\n",
    "print(\"Accuracy: %0.3f [%s]\" % (scores.mean(), \"Weighted Voting\"))"
   ]
  },
  {
   "cell_type": "markdown",
   "metadata": {},
   "source": [
    "## Bagging"
   ]
  },
  {
   "cell_type": "code",
   "execution_count": 6,
   "metadata": {},
   "outputs": [
    {
     "name": "stdout",
     "output_type": "stream",
     "text": [
      "Accuracy: 0.856 [1]\n",
      "Accuracy: 0.887 [2]\n",
      "Accuracy: 0.903 [5]\n",
      "Accuracy: 0.920 [10]\n",
      "Accuracy: 0.919 [20]\n",
      "Accuracy: 0.921 [50]\n",
      "Accuracy: 0.925 [100]\n",
      "Accuracy: 0.922 [200]\n",
      "\n",
      "Accuracy: 0.828 [1]\n",
      "Accuracy: 0.843 [2]\n",
      "Accuracy: 0.918 [5]\n",
      "Accuracy: 0.917 [10]\n",
      "Accuracy: 0.931 [20]\n",
      "Accuracy: 0.940 [50]\n",
      "Accuracy: 0.938 [100]\n",
      "Accuracy: 0.939 [200]\n"
     ]
    }
   ],
   "source": [
    "from sklearn.ensemble import BaggingClassifier\n",
    "\n",
    "lb=[]\n",
    "for nest in [1,2,5,10,20,50,100,200]:\n",
    "    scores = cross_val_score(BaggingClassifier(base_estimator=DecisionTreeClassifier(),n_estimators=nest), X, y, cv=cv, scoring='accuracy')\n",
    "    print(\"Accuracy: %0.3f [%s]\" % (scores.mean(), nest))\n",
    "    lb.append(scores.mean())\n",
    "\n",
    "lb2=[]    \n",
    "print()\n",
    "for nest in [1,2,5,10,20,50,100,200]:\n",
    "    scores = cross_val_score(BaggingClassifier(base_estimator=DecisionTreeClassifier(),n_estimators=nest,max_features=0.35), X, y, cv=cv, scoring='accuracy')\n",
    "    print(\"Accuracy: %0.3f [%s]\" % (scores.mean(), nest))\n",
    "    lb2.append(scores.mean())"
   ]
  },
  {
   "cell_type": "markdown",
   "metadata": {},
   "source": [
    "## Random Forest"
   ]
  },
  {
   "cell_type": "code",
   "execution_count": 7,
   "metadata": {},
   "outputs": [
    {
     "name": "stdout",
     "output_type": "stream",
     "text": [
      "Accuracy: 0.906 [1]\n",
      "Accuracy: 0.867 [2]\n",
      "Accuracy: 0.907 [5]\n",
      "Accuracy: 0.937 [10]\n",
      "Accuracy: 0.934 [20]\n",
      "Accuracy: 0.940 [50]\n",
      "Accuracy: 0.943 [100]\n",
      "Accuracy: 0.940 [200]\n"
     ]
    }
   ],
   "source": [
    "from sklearn.ensemble import RandomForestClassifier\n",
    "\n",
    "lrf=[]\n",
    "for nest in [1,2,5,10,20,50,100,200]:\n",
    "    scores = cross_val_score(RandomForestClassifier(n_estimators=nest), X, y, cv=cv, scoring='accuracy')\n",
    "    print(\"Accuracy: %0.3f [%s]\" % (scores.mean(), nest))\n",
    "    lrf.append(scores.mean())"
   ]
  },
  {
   "cell_type": "code",
   "execution_count": 8,
   "metadata": {},
   "outputs": [
    {
     "name": "stdout",
     "output_type": "stream",
     "text": [
      "Accuracy: 0.885 [1]\n",
      "Accuracy: 0.874 [2]\n",
      "Accuracy: 0.908 [5]\n",
      "Accuracy: 0.943 [10]\n",
      "Accuracy: 0.947 [20]\n",
      "Accuracy: 0.944 [50]\n",
      "Accuracy: 0.945 [100]\n",
      "Accuracy: 0.948 [200]\n"
     ]
    }
   ],
   "source": [
    "from sklearn.ensemble import ExtraTreesClassifier\n",
    "\n",
    "lext=[]\n",
    "for nest in [1,2,5,10,20,50,100,200]:\n",
    "    scores = cross_val_score(ExtraTreesClassifier(n_estimators=nest), X, y, cv=cv, scoring='accuracy')\n",
    "    print(\"Accuracy: %0.3f [%s]\" % (scores.mean(), nest))\n",
    "    lext.append(scores.mean())"
   ]
  },
  {
   "cell_type": "markdown",
   "metadata": {},
   "source": [
    "## Boosting"
   ]
  },
  {
   "cell_type": "code",
   "execution_count": 9,
   "metadata": {},
   "outputs": [
    {
     "name": "stdout",
     "output_type": "stream",
     "text": [
      "Accuracy: 0.821 [1]\n",
      "Accuracy: 0.896 [2]\n",
      "Accuracy: 0.906 [5]\n",
      "Accuracy: 0.911 [10]\n",
      "Accuracy: 0.917 [20]\n",
      "Accuracy: 0.947 [50]\n",
      "Accuracy: 0.942 [100]\n",
      "Accuracy: 0.937 [200]\n"
     ]
    }
   ],
   "source": [
    "from sklearn.ensemble import AdaBoostClassifier\n",
    "\n",
    "lboo=[]\n",
    "for nest in [1,2,5,10,20,50,100,200]:\n",
    "    scores = cross_val_score(AdaBoostClassifier(n_estimators=nest), X, y, cv=cv, scoring='accuracy')\n",
    "    print(\"Accuracy: %0.3f [%s]\" % (scores.mean(), nest))\n",
    "    lboo.append(scores.mean())"
   ]
  },
  {
   "cell_type": "code",
   "execution_count": 10,
   "metadata": {},
   "outputs": [
    {
     "name": "stdout",
     "output_type": "stream",
     "text": [
      "Accuracy: 0.865 [1]\n",
      "Accuracy: 0.890 [2]\n",
      "Accuracy: 0.886 [5]\n",
      "Accuracy: 0.908 [10]\n",
      "Accuracy: 0.935 [20]\n",
      "Accuracy: 0.937 [50]\n",
      "Accuracy: 0.943 [100]\n",
      "Accuracy: 0.943 [200]\n"
     ]
    }
   ],
   "source": [
    "from sklearn.ensemble import AdaBoostClassifier\n",
    "\n",
    "lboodt=[]\n",
    "for nest in [1,2,5,10,20,50,100,200]:\n",
    "    scores = cross_val_score(AdaBoostClassifier(DecisionTreeClassifier(max_depth=5),n_estimators=nest), X, y, cv=cv, scoring='accuracy')\n",
    "    print(\"Accuracy: %0.3f [%s]\" % (scores.mean(), nest))\n",
    "    lboodt.append(scores.mean())"
   ]
  },
  {
   "cell_type": "code",
   "execution_count": 11,
   "metadata": {},
   "outputs": [
    {
     "name": "stdout",
     "output_type": "stream",
     "text": [
      "Accuracy: 0.644 [1]\n",
      "Accuracy: 0.644 [2]\n",
      "Accuracy: 0.873 [5]\n",
      "Accuracy: 0.908 [10]\n",
      "Accuracy: 0.926 [20]\n",
      "Accuracy: 0.932 [50]\n",
      "Accuracy: 0.939 [100]\n",
      "Accuracy: 0.947 [200]\n"
     ]
    }
   ],
   "source": [
    "from sklearn.ensemble import GradientBoostingClassifier\n",
    "\n",
    "lgbboo=[]\n",
    "for nest in [1,2,5,10,20,50,100,200]:\n",
    "    scores = cross_val_score(GradientBoostingClassifier(n_estimators=nest), X, y, cv=cv, scoring='accuracy')\n",
    "    print(\"Accuracy: %0.3f [%s]\" % (scores.mean(), nest))\n",
    "    lgbboo.append(scores.mean())"
   ]
  },
  {
   "cell_type": "code",
   "execution_count": 12,
   "metadata": {},
   "outputs": [
    {
     "data": {
      "text/plain": [
       "<Figure size 1200x600 with 1 Axes>"
      ]
     },
     "metadata": {},
     "output_type": "display_data"
    }
   ],
   "source": [
    "import  matplotlib.pyplot as plt\n",
    "\n",
    "plt.figure(figsize=(12,6))\n",
    "plt.plot([1,2,5,10,20,50,100,200],lb,label=\"Bagging DT\")\n",
    "plt.plot([1,2,5,10,20,50,100,200],lb2,label=\"Bagging DT forced variance\")\n",
    "plt.plot([1,2,5,10,20,50,100,200],lrf,label=\"Random Forest\")\n",
    "plt.plot([1,2,5,10,20,50,100,200],lext,label=\"Extra Trees\")\n",
    "plt.plot([1,2,5,10,20,50,100,200],lboo,label=\"AdaBoost Dec.Stumps\")\n",
    "plt.plot([1,2,5,10,20,50,100,200],lboodt,label=\"AdaBoost DT\")\n",
    "plt.plot([1,2,5,10,20,50,100,200],lgbboo,label=\"Gradient Boosting\")\n",
    "plt.legend(loc='lower right')\n",
    "\n",
    "plt.show()"
   ]
  },
  {
   "cell_type": "code",
   "execution_count": 13,
   "metadata": {},
   "outputs": [
    {
     "data": {
      "image/png": "[encoded data removed]",
      "text/plain": [
       "<Figure size 864x432 with 1 Axes>"
      ]
     },
     "metadata": {},
     "output_type": "display_data"
    }
   ],
   "source": [
    "plt.figure(figsize=(12,6))\n",
    "plt.plot([1,2,5,10,20,50,100,200],lb,label=\"Bagging DT\")\n",
    "plt.plot([1,2,5,10,20,50,100,200],lb2,label=\"Bagging DT forced variance\")\n",
    "plt.plot([1,2,5,10,20,50,100,200],lrf,label=\"Random Forest\")\n",
    "plt.plot([1,2,5,10,20,50,100,200],lext,label=\"Extra Trees\")\n",
    "plt.plot([1,2,5,10,20,50,100,200],lboo,label=\"AdaBoost Dec.Stumps\")\n",
    "plt.plot([1,2,5,10,20,50,100,200],lboodt,label=\"AdaBoost DT\")\n",
    "plt.plot([1,2,5,10,20,50,100,200],lgbboo,label=\"Gradient Boosting\")\n",
    "plt.legend(loc='lower right')\n",
    "plt.xlim(10,200)\n",
    "plt.ylim(0.90,0.96)\n",
    "plt.show()"
   ]
  },
  {
   "cell_type": "markdown",
   "metadata": {},
   "source": [
    "## Feature Selection with Forests of trees"
   ]
  },
  {
   "cell_type": "code",
   "execution_count": 26,
   "metadata": {},
   "outputs": [
    {
     "name": "stdout",
     "output_type": "stream",
     "text": [
      "[0.04422916 0.         0.10285554 0.03938437 0.13854779 0.03438844\n",
      " 0.07349033 0.04057574 0.01605075 0.02358326 0.00710961 0.02016928\n",
      " 0.01164509 0.03679133 0.01039527 0.0259479  0.01059528 0.02249814\n",
      " 0.00921494 0.01098243 0.01117065 0.02225948 0.0118677  0.02795004\n",
      " 0.01172796 0.0104431  0.07498322 0.02083322 0.03011737 0.01092428\n",
      " 0.02508491 0.01125834 0.03057428 0.02235078]\n"
     ]
    }
   ],
   "source": [
    "clf = RandomForestClassifier(n_estimators=100)\n",
    "clf = clf.fit(X, y)\n",
    "print(clf.feature_importances_)  \n"
   ]
  },
  {
   "cell_type": "code",
   "execution_count": 27,
   "metadata": {},
   "outputs": [
    {
     "name": "stdout",
     "output_type": "stream",
     "text": [
      "(351, 4)\n",
      "0.8441666666666666\n",
      "0.8883333333333334\n"
     ]
    }
   ],
   "source": [
    "from sklearn.feature_selection import SelectFromModel\n",
    "\n",
    "model = SelectFromModel(clf, prefit=True, threshold=0.05)\n",
    "X_new = model.transform(X)\n",
    "print(X_new.shape)\n",
    "\n",
    "print(np.mean(cross_val_score(KNeighborsClassifier(), X=X, y=y, cv=cv, scoring='accuracy')))\n",
    "print(np.mean(cross_val_score(KNeighborsClassifier(), X=X_new, y=y, cv=cv, scoring='accuracy')))"
   ]
  },
  {
   "cell_type": "code",
   "execution_count": 30,
   "metadata": {},
   "outputs": [
    {
     "data": {
      "image/png": "[encoded data removed]",
      "text/plain": [
       "<Figure size 432x288 with 1 Axes>"
      ]
     },
     "metadata": {},
     "output_type": "display_data"
    },
    {
     "name": "stdout",
     "output_type": "stream",
     "text": [
      "Best threshold:  0.034388438772079095\n"
     ]
    }
   ],
   "source": [
    "thresholds=clf.feature_importances_\n",
    "\n",
    "l=[]\n",
    "lparval=[]\n",
    "for threshold in thresholds:\n",
    "    model = SelectFromModel(clf, prefit=True, threshold=threshold)\n",
    "    X_new = model.transform(X)\n",
    "    params = {'n_neighbors':list(range(1,30,2)), 'weights':('distance','uniform')}\n",
    "    knc = KNeighborsClassifier()\n",
    "    clf2 = GridSearchCV(knc, param_grid=params,cv=cv,n_jobs=-1)  # If cv is integer, by default is Stratifyed \n",
    "    clf2.fit(X, y)\n",
    "    parval=clf2.best_params_\n",
    "    clf3 = KNeighborsClassifier(n_neighbors=parval['n_neighbors'],weights=parval['weights'])\n",
    "    acc = np.mean(cross_val_score(clf3, X=X_new, y=y, cv=cv, scoring='accuracy'))\n",
    "    l.append(acc)\n",
    "    lparval.append(parval)\n",
    "    \n",
    "plt.scatter(thresholds,l)\n",
    "plt.show()\n",
    "\n",
    "print('Best threshold: ',thresholds[np.argmax(l)])"
   ]
  },
  {
   "cell_type": "code",
   "execution_count": 33,
   "metadata": {},
   "outputs": [
    {
     "name": "stdout",
     "output_type": "stream",
     "text": [
      "(351, 9)\n",
      "Original:  0.8675000000000002\n",
      "With FS:  0.9258333333333333\n"
     ]
    }
   ],
   "source": [
    "parval=lparval[np.argmax(l)]\n",
    "model = SelectFromModel(clf, prefit=True, threshold=thresholds[np.argmax(l)])\n",
    "X_new = model.transform(X)\n",
    "print(X_new.shape)\n",
    "\n",
    "print('Original: ', np.mean(cross_val_score(KNeighborsClassifier(n_neighbors=1), X=X, y=y, cv=cv, scoring='accuracy')))\n",
    "print('With FS: ', np.mean(cross_val_score(KNeighborsClassifier(n_neighbors=parval['n_neighbors'],weights=parval['weights']), X=X_new, y=y, cv=cv, scoring='accuracy')))"
   ]
  },
  {
   "cell_type": "code",
   "execution_count": null,
   "metadata": {},
   "outputs": [],
   "source": []
  }
 ],
 "metadata": {
  "kernelspec": {
   "display_name": "Python 3",
   "language": "python",
   "name": "python3"
  },
  "language_info": {
   "codemirror_mode": {
    "name": "ipython",
    "version": 3
   },
   "file_extension": ".py",
   "mimetype": "text/x-python",
   "name": "python",
   "nbconvert_exporter": "python",
   "pygments_lexer": "ipython3",
   "version": "3.6.4"
  }
 },
 "nbformat": 4,
 "nbformat_minor": 2
}
