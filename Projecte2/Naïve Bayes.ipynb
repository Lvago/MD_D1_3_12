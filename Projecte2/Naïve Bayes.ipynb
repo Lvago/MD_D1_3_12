{
 "cells": [
  {
   "cell_type": "markdown",
   "metadata": {},
   "source": [
    "# Navie-Bayes on ionosphere dataset\n",
    "\n",
    "**OBS**: [dataset information](https://archive.ics.uci.edu/dataset/52/ionosphere)\n",
    "\n",
    "***\n",
    "\n",
    "**Additional Information**\n",
    "This radar data was collected by a system in Goose Bay, Labrador.  This system consists of a phased array of 16 high-frequency antennas with a total transmitted power on the order of 6.4 kilowatts.  See the paper for more details.  The targets were free electrons in the ionosphere. \"Good\" radar returns are those showing evidence of some type of structure in the ionosphere.  \"Bad\" returns are those that do not; their signals pass through the ionosphere.  \n",
    "\n",
    "Received signals were processed using an autocorrelation function whose arguments are the time of a pulse and the pulse number.  There were 17 pulse numbers for the Goose Bay system.  Instances in this databse are described by 2 attributes per pulse number, corresponding to the complex values returned by the function resulting from the complex electromagnetic signal.\n",
    "\n",
    "**Has Missing Values?**\n",
    "No\n",
    "\n",
    "***"
   ]
  },
  {
   "cell_type": "code",
   "execution_count": 1,
   "metadata": {
    "ExecuteTime": {
     "end_time": "2023-11-19T19:11:04.286503Z",
     "start_time": "2023-11-19T19:11:03.428684Z"
    }
   },
   "outputs": [
    {
     "data": {
      "text/html": [
       "<div>\n",
       "<style scoped>\n",
       "    .dataframe tbody tr th:only-of-type {\n",
       "        vertical-align: middle;\n",
       "    }\n",
       "\n",
       "    .dataframe tbody tr th {\n",
       "        vertical-align: top;\n",
       "    }\n",
       "\n",
       "    .dataframe thead th {\n",
       "        text-align: right;\n",
       "    }\n",
       "</style>\n",
       "<table border=\"1\" class=\"dataframe\">\n",
       "  <thead>\n",
       "    <tr style=\"text-align: right;\">\n",
       "      <th></th>\n",
       "      <th>0</th>\n",
       "      <th>1</th>\n",
       "      <th>2</th>\n",
       "      <th>3</th>\n",
       "      <th>4</th>\n",
       "      <th>5</th>\n",
       "      <th>6</th>\n",
       "      <th>7</th>\n",
       "      <th>8</th>\n",
       "      <th>9</th>\n",
       "      <th>...</th>\n",
       "      <th>25</th>\n",
       "      <th>26</th>\n",
       "      <th>27</th>\n",
       "      <th>28</th>\n",
       "      <th>29</th>\n",
       "      <th>30</th>\n",
       "      <th>31</th>\n",
       "      <th>32</th>\n",
       "      <th>33</th>\n",
       "      <th>34</th>\n",
       "    </tr>\n",
       "  </thead>\n",
       "  <tbody>\n",
       "    <tr>\n",
       "      <th>0</th>\n",
       "      <td>1</td>\n",
       "      <td>0</td>\n",
       "      <td>0.99539</td>\n",
       "      <td>-0.05889</td>\n",
       "      <td>0.85243</td>\n",
       "      <td>0.02306</td>\n",
       "      <td>0.83398</td>\n",
       "      <td>-0.37708</td>\n",
       "      <td>1.00000</td>\n",
       "      <td>0.03760</td>\n",
       "      <td>...</td>\n",
       "      <td>-0.51171</td>\n",
       "      <td>0.41078</td>\n",
       "      <td>-0.46168</td>\n",
       "      <td>0.21266</td>\n",
       "      <td>-0.34090</td>\n",
       "      <td>0.42267</td>\n",
       "      <td>-0.54487</td>\n",
       "      <td>0.18641</td>\n",
       "      <td>-0.45300</td>\n",
       "      <td>g</td>\n",
       "    </tr>\n",
       "    <tr>\n",
       "      <th>1</th>\n",
       "      <td>1</td>\n",
       "      <td>0</td>\n",
       "      <td>1.00000</td>\n",
       "      <td>-0.18829</td>\n",
       "      <td>0.93035</td>\n",
       "      <td>-0.36156</td>\n",
       "      <td>-0.10868</td>\n",
       "      <td>-0.93597</td>\n",
       "      <td>1.00000</td>\n",
       "      <td>-0.04549</td>\n",
       "      <td>...</td>\n",
       "      <td>-0.26569</td>\n",
       "      <td>-0.20468</td>\n",
       "      <td>-0.18401</td>\n",
       "      <td>-0.19040</td>\n",
       "      <td>-0.11593</td>\n",
       "      <td>-0.16626</td>\n",
       "      <td>-0.06288</td>\n",
       "      <td>-0.13738</td>\n",
       "      <td>-0.02447</td>\n",
       "      <td>b</td>\n",
       "    </tr>\n",
       "    <tr>\n",
       "      <th>2</th>\n",
       "      <td>1</td>\n",
       "      <td>0</td>\n",
       "      <td>1.00000</td>\n",
       "      <td>-0.03365</td>\n",
       "      <td>1.00000</td>\n",
       "      <td>0.00485</td>\n",
       "      <td>1.00000</td>\n",
       "      <td>-0.12062</td>\n",
       "      <td>0.88965</td>\n",
       "      <td>0.01198</td>\n",
       "      <td>...</td>\n",
       "      <td>-0.40220</td>\n",
       "      <td>0.58984</td>\n",
       "      <td>-0.22145</td>\n",
       "      <td>0.43100</td>\n",
       "      <td>-0.17365</td>\n",
       "      <td>0.60436</td>\n",
       "      <td>-0.24180</td>\n",
       "      <td>0.56045</td>\n",
       "      <td>-0.38238</td>\n",
       "      <td>g</td>\n",
       "    </tr>\n",
       "    <tr>\n",
       "      <th>3</th>\n",
       "      <td>1</td>\n",
       "      <td>0</td>\n",
       "      <td>1.00000</td>\n",
       "      <td>-0.45161</td>\n",
       "      <td>1.00000</td>\n",
       "      <td>1.00000</td>\n",
       "      <td>0.71216</td>\n",
       "      <td>-1.00000</td>\n",
       "      <td>0.00000</td>\n",
       "      <td>0.00000</td>\n",
       "      <td>...</td>\n",
       "      <td>0.90695</td>\n",
       "      <td>0.51613</td>\n",
       "      <td>1.00000</td>\n",
       "      <td>1.00000</td>\n",
       "      <td>-0.20099</td>\n",
       "      <td>0.25682</td>\n",
       "      <td>1.00000</td>\n",
       "      <td>-0.32382</td>\n",
       "      <td>1.00000</td>\n",
       "      <td>b</td>\n",
       "    </tr>\n",
       "    <tr>\n",
       "      <th>4</th>\n",
       "      <td>1</td>\n",
       "      <td>0</td>\n",
       "      <td>1.00000</td>\n",
       "      <td>-0.02401</td>\n",
       "      <td>0.94140</td>\n",
       "      <td>0.06531</td>\n",
       "      <td>0.92106</td>\n",
       "      <td>-0.23255</td>\n",
       "      <td>0.77152</td>\n",
       "      <td>-0.16399</td>\n",
       "      <td>...</td>\n",
       "      <td>-0.65158</td>\n",
       "      <td>0.13290</td>\n",
       "      <td>-0.53206</td>\n",
       "      <td>0.02431</td>\n",
       "      <td>-0.62197</td>\n",
       "      <td>-0.05707</td>\n",
       "      <td>-0.59573</td>\n",
       "      <td>-0.04608</td>\n",
       "      <td>-0.65697</td>\n",
       "      <td>g</td>\n",
       "    </tr>\n",
       "  </tbody>\n",
       "</table>\n",
       "<p>5 rows × 35 columns</p>\n",
       "</div>"
      ],
      "text/plain": [
       "   0   1        2        3        4        5        6        7        8   \\\n",
       "0   1   0  0.99539 -0.05889  0.85243  0.02306  0.83398 -0.37708  1.00000   \n",
       "1   1   0  1.00000 -0.18829  0.93035 -0.36156 -0.10868 -0.93597  1.00000   \n",
       "2   1   0  1.00000 -0.03365  1.00000  0.00485  1.00000 -0.12062  0.88965   \n",
       "3   1   0  1.00000 -0.45161  1.00000  1.00000  0.71216 -1.00000  0.00000   \n",
       "4   1   0  1.00000 -0.02401  0.94140  0.06531  0.92106 -0.23255  0.77152   \n",
       "\n",
       "        9   ...       25       26       27       28       29       30  \\\n",
       "0  0.03760  ... -0.51171  0.41078 -0.46168  0.21266 -0.34090  0.42267   \n",
       "1 -0.04549  ... -0.26569 -0.20468 -0.18401 -0.19040 -0.11593 -0.16626   \n",
       "2  0.01198  ... -0.40220  0.58984 -0.22145  0.43100 -0.17365  0.60436   \n",
       "3  0.00000  ...  0.90695  0.51613  1.00000  1.00000 -0.20099  0.25682   \n",
       "4 -0.16399  ... -0.65158  0.13290 -0.53206  0.02431 -0.62197 -0.05707   \n",
       "\n",
       "        31       32       33  34  \n",
       "0 -0.54487  0.18641 -0.45300   g  \n",
       "1 -0.06288 -0.13738 -0.02447   b  \n",
       "2 -0.24180  0.56045 -0.38238   g  \n",
       "3  1.00000 -0.32382  1.00000   b  \n",
       "4 -0.59573 -0.04608 -0.65697   g  \n",
       "\n",
       "[5 rows x 35 columns]"
      ]
     },
     "execution_count": 1,
     "metadata": {},
     "output_type": "execute_result"
    }
   ],
   "source": [
    "import pandas as pd\n",
    "import numpy as np\n",
    "import matplotlib.pyplot as  plt\n",
    "\n",
    "url = \"https://archive.ics.uci.edu/ml/machine-learning-databases/ionosphere/ionosphere.data\"\n",
    "df = pd.read_csv(url, header = None)\n",
    "df.head()"
   ]
  },
  {
   "cell_type": "code",
   "execution_count": 5,
   "metadata": {
    "ExecuteTime": {
     "end_time": "2023-11-19T19:12:27.616129Z",
     "start_time": "2023-11-19T19:12:27.609037Z"
    }
   },
   "outputs": [
    {
     "name": "stdout",
     "output_type": "stream",
     "text": [
      "(351, 34)\n",
      "(351,)\n"
     ]
    }
   ],
   "source": [
    "# OBS: in the original method it was used 'as_matrix' for extracting the data, but is deprecated\n",
    "X = df.drop([34], axis = 1).values\n",
    "y = df[34].values\n",
    "\n",
    "print(X.shape)\n",
    "print(y.shape)"
   ]
  },
  {
   "cell_type": "code",
   "execution_count": 8,
   "metadata": {
    "ExecuteTime": {
     "end_time": "2023-11-19T19:19:42.958419Z",
     "start_time": "2023-11-19T19:19:42.942330Z"
    }
   },
   "outputs": [
    {
     "data": {
      "text/plain": [
       "0.8803174603174604"
      ]
     },
     "execution_count": 8,
     "metadata": {},
     "output_type": "execute_result"
    }
   ],
   "source": [
    "# Train on data. No parameters to adjust\n",
    "from sklearn.naive_bayes import GaussianNB       ### Because continuous data\n",
    "from sklearn.model_selection import (\n",
    "    StratifiedKFold, \n",
    "    cross_val_score, \n",
    "    train_test_split\n",
    ")\n",
    "import sklearn.neighbors as nb\n",
    "\n",
    "# OBS: deleted 'random_state' parameter since its use is no longer needed\n",
    "cv = StratifiedKFold(\n",
    "    n_splits = 10, \n",
    ") \n",
    "\n",
    "gnb = GaussianNB()\n",
    "cv_scores = cross_val_score(\n",
    "    gnb,\n",
    "    X = X,\n",
    "    y = y,\n",
    "    cv = cv\n",
    ")\n",
    "np.mean(cv_scores)  # Mean score of the executions"
   ]
  },
  {
   "cell_type": "code",
   "execution_count": 25,
   "metadata": {
    "ExecuteTime": {
     "end_time": "2023-11-19T19:16:01.986491Z",
     "start_time": "2023-11-19T19:16:01.973754Z"
    }
   },
   "outputs": [
    {
     "name": "stdout",
     "output_type": "stream",
     "text": [
      "[[ 92  34]\n",
      " [  8 217]]\n",
      "0.8803418803418803\n"
     ]
    }
   ],
   "source": [
    "from sklearn.model_selection import cross_val_predict  \n",
    "from sklearn.metrics import accuracy_score, confusion_matrix\n",
    "\n",
    "predicted = cross_val_predict(\n",
    "    estimator = GaussianNB(), \n",
    "    X = X,\n",
    "    y = y,  \n",
    "    cv = cv\n",
    ")  \n",
    "\n",
    "print(confusion_matrix(y, predicted))  # Confusion matrix\n",
    "print(accuracy_score(y, predicted))    # Accuracy compute using both, true value and prediction"
   ]
  },
  {
   "cell_type": "code",
   "execution_count": 10,
   "metadata": {
    "ExecuteTime": {
     "end_time": "2023-11-19T19:27:18.914929Z",
     "start_time": "2023-11-19T19:27:18.904135Z"
    }
   },
   "outputs": [
    {
     "name": "stdout",
     "output_type": "stream",
     "text": [
      "              precision    recall  f1-score   support\n",
      "\n",
      "           b       0.92      0.73      0.81       126\n",
      "           g       0.86      0.96      0.91       225\n",
      "\n",
      "    accuracy                           0.88       351\n",
      "   macro avg       0.89      0.85      0.86       351\n",
      "weighted avg       0.88      0.88      0.88       351\n",
      "\n"
     ]
    }
   ],
   "source": [
    "from sklearn.metrics import classification_report\n",
    "\n",
    "print(classification_report(y, predicted))"
   ]
  },
  {
   "cell_type": "markdown",
   "metadata": {},
   "source": [
    "***\n",
    "## Adjusting probability threshold"
   ]
  },
  {
   "cell_type": "code",
   "execution_count": 18,
   "metadata": {
    "ExecuteTime": {
     "end_time": "2023-11-19T19:21:35.035561Z",
     "start_time": "2023-11-19T19:21:35.029782Z"
    }
   },
   "outputs": [],
   "source": [
    "# Focus on predict class 1\n",
    "y2 = np.zeros((y.shape))  # Create vector of zeros (empty) and pupulate with 1s and 0s to represents\n",
    "                          # the positions where the elements of each class are, we will be focusing on class \"b\" (1)\n",
    "y2[y == \"b\"] = 1\n",
    "y2[y == \"g\"] = 0\n",
    "\n",
    "# 'Unpacking' the new variables\n",
    "(X_train, X_test,  y_train, y_test) = train_test_split(X, y2, test_size = .3, random_state = 1)"
   ]
  },
  {
   "cell_type": "code",
   "execution_count": 26,
   "metadata": {
    "ExecuteTime": {
     "end_time": "2023-11-20T09:16:05.719695Z",
     "start_time": "2023-11-20T09:16:05.636277Z"
    }
   },
   "outputs": [
    {
     "name": "stdout",
     "output_type": "stream",
     "text": [
      "Selected threshold in 10-fold cross validation: 0.244704\n"
     ]
    }
   ],
   "source": [
    "from sklearn.metrics import f1_score\n",
    "from sklearn.model_selection import StratifiedKFold\n",
    "\n",
    "def filterp(th,ProbClass1):\n",
    "    \"\"\"Given a threshold \"th\" and a set of probabilities of belonging to class 1 \"ProbClass1\", \n",
    "    return predictions.\"\"\" \n",
    "    y = np.zeros(ProbClass1.shape[0])\n",
    "    for i,v in enumerate(ProbClass1):\n",
    "        if ProbClass1[i]>th:\n",
    "            y[i]=1\n",
    "    return y  \n",
    "\n",
    "clf = GaussianNB()\n",
    "lth=[]\n",
    "\n",
    "# We do a 10-fold cross-validation with 10 iterations\n",
    "kf = StratifiedKFold(\n",
    "    n_splits = 20, \n",
    "    shuffle = True, \n",
    "    random_state = 42\n",
    ")\n",
    "\n",
    "# Now we compute the threshold by iterating the data we have\n",
    "for train_index, test_index in kf.split(X_train, y_train):\n",
    "    \n",
    "    X_train2, X_test2 = X[train_index], X[test_index]\n",
    "    y_train2, y_test2 = y2[train_index], y2[test_index]\n",
    "\n",
    "    # Train with the training data of the iteration \n",
    "    clf.fit(X_train2, y_train2)\n",
    "    # Obtaining probability predictions for test data of the iteration\n",
    "    probs = clf.predict_proba(X_test2)\n",
    "    # Collect probabilities of belonging to class 1\n",
    "    ProbClass1 = probs[:,1]\n",
    "    # Sort probabilities and generate pairs (threshold, f1-for-that-threshold) \n",
    "    res = np.array([[th,f1_score(y_test2,filterp(th,ProbClass1),pos_label=1)] for th in np.sort(ProbClass1)])\n",
    "    \n",
    "    \"\"\"\n",
    "    # Uncomment the following lines if you want to plot at each iteration how f1-score \n",
    "    # evolves increasing the threshold \n",
    "    plt.plot(res[:,0],res[:,1])\n",
    "    plt.show()\n",
    "    \"\"\"\n",
    "    \n",
    "    # Find the threshold that has maximum value of f1-score\n",
    "    maxF = np.max(res[:,1])\n",
    "    pl = np.argmax(res[:,1])\n",
    "    optimal_th = res[pl,0]\n",
    "    \n",
    "    # Store the optimal threshold found for the current iteration\n",
    "    lth.append(optimal_th)\n",
    "\n",
    "# Compute the average threshold for all 10 iterations    \n",
    "threshold = np.mean(lth)\n",
    "print(f\"Selected threshold in 10-fold cross validation: {np.round(threshold, 6)}\")"
   ]
  },
  {
   "cell_type": "code",
   "execution_count": 27,
   "metadata": {
    "ExecuteTime": {
     "end_time": "2023-11-19T19:30:12.692927Z",
     "start_time": "2023-11-19T19:30:12.688119Z"
    }
   },
   "outputs": [
    {
     "name": "stdout",
     "output_type": "stream",
     "text": [
      "              precision    recall  f1-score   support\n",
      "\n",
      "         0.0       0.83      0.96      0.89        70\n",
      "         1.0       0.88      0.61      0.72        36\n",
      "\n",
      "    accuracy                           0.84       106\n",
      "   macro avg       0.85      0.78      0.80       106\n",
      "weighted avg       0.85      0.84      0.83       106\n",
      "\n"
     ]
    }
   ],
   "source": [
    "# Train a classifier with the whole training data \n",
    "clf = GaussianNB()\n",
    "clf.fit(X_train, y_train)\n",
    "\n",
    "# Obtain probabilities for data on test set\n",
    "probs = clf.predict_proba(X_test)\n",
    "\n",
    "# Generate predictions using probabilities and threshold found on 10 folds cross-validation\n",
    "prediction = filterp(threshold,probs[:,1])\n",
    "\n",
    "print(classification_report(y_test, prediction))\n",
    "# Ignore warnings explaining that in some iterations f1 score is 0"
   ]
  },
  {
   "cell_type": "code",
   "execution_count": 17,
   "metadata": {
    "ExecuteTime": {
     "end_time": "2023-11-19T19:35:48.390186Z",
     "start_time": "2023-11-19T19:35:48.369056Z"
    }
   },
   "outputs": [
    {
     "name": "stdout",
     "output_type": "stream",
     "text": [
      "              precision    recall  f1-score   support\n",
      "\n",
      "         0.0       0.82      0.96      0.88        70\n",
      "         1.0       0.88      0.58      0.70        36\n",
      "\n",
      "    accuracy                           0.83       106\n",
      "   macro avg       0.85      0.77      0.79       106\n",
      "weighted avg       0.84      0.83      0.82       106\n",
      "\n"
     ]
    }
   ],
   "source": [
    "clf = GaussianNB()\n",
    "clf.fit(X_train, y_train)\n",
    "prediction = clf.predict(X_test)\n",
    "print(classification_report(y_test, prediction))"
   ]
  }
 ],
 "metadata": {
  "kernelspec": {
   "display_name": "Python 3 (ipykernel)",
   "language": "python",
   "name": "python3"
  },
  "language_info": {
   "codemirror_mode": {
    "name": "ipython",
    "version": 3
   },
   "file_extension": ".py",
   "mimetype": "text/x-python",
   "name": "python",
   "nbconvert_exporter": "python",
   "pygments_lexer": "ipython3",
   "version": "3.10.9"
  }
 },
 "nbformat": 4,
 "nbformat_minor": 2
}
