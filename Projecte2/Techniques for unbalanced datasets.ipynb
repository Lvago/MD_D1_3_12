{
 "cells": [
  {
   "cell_type": "markdown",
   "metadata": {
    "pycharm": {
     "name": "#%% md\n"
    }
   },
   "source": [
    "# Techniques for Unbalanced datasets\n",
    "(by Mario Martin)"
   ]
  },
  {
   "cell_type": "code",
   "execution_count": 3,
   "metadata": {
    "ExecuteTime": {
     "end_time": "2023-12-12T21:20:09.038455Z",
     "start_time": "2023-12-12T21:20:09.020745Z"
    },
    "pycharm": {
     "name": "#%%\n"
    }
   },
   "outputs": [
    {
     "name": "stdout",
     "output_type": "stream",
     "text": [
      "Percentage of examples of the smaller class (class 1): 10.00%\n"
     ]
    }
   ],
   "source": [
    "from sklearn import datasets\n",
    "from sklearn.model_selection import (\n",
    "    train_test_split, \n",
    "    GridSearchCV, \n",
    "    StratifiedKFold,\n",
    "    cross_val_score\n",
    ") \n",
    "from sklearn.metrics import (\n",
    "    confusion_matrix, \n",
    "    accuracy_score, \n",
    "    classification_report,\n",
    "    f1_score,\n",
    "    fbeta_score,\n",
    "    make_scorer\n",
    ")\n",
    "from sklearn.naive_bayes import GaussianNB\n",
    "import sklearn.model_selection as cv \n",
    "import sklearn.neighbors as nb        \n",
    "import numpy as np\n",
    "\n",
    "rng = np.random.RandomState(0)\n",
    "\n",
    "X, y = datasets.make_classification(\n",
    "    n_classes = 2, \n",
    "    class_sep = 0.1, \n",
    "    weights = [0.9, 0.1],\n",
    "    n_informative = 3, \n",
    "    n_redundant = 0, \n",
    "    flip_y = 0,\n",
    "    n_features = 5, \n",
    "    n_clusters_per_class = 2,\n",
    "    n_samples = 5000, \n",
    "    random_state = 10\n",
    ")\n",
    "\n",
    "# Let's separate data for training and testing\n",
    "X_train, X_test, y_train, y_test = train_test_split(X, y, random_state = 42, test_size = 0.5)\n",
    "\n",
    "# Proportion of examples in the smaller class (class 1) is the following\n",
    "percent_smaller_class = 100 * np.sum(y == 1)/(np.sum(y == 0) + np.sum(y == 1))\n",
    "\n",
    "print(f\"Percentage of examples of the smaller class (class 1): {percent_smaller_class:.2f}%\")"
   ]
  },
  {
   "cell_type": "code",
   "execution_count": 5,
   "metadata": {
    "ExecuteTime": {
     "end_time": "2023-12-12T21:17:17.026952Z",
     "start_time": "2023-12-12T21:17:16.801677Z"
    },
    "pycharm": {
     "name": "#%%\n"
    }
   },
   "outputs": [
    {
     "name": "stdout",
     "output_type": "stream",
     "text": [
      "Best Params = {'n_neighbors': 9, 'weights': 'distance'}\n",
      "Accuracy on 10-fold cross-validation = 0.9168\n",
      "Accuracy on test set: 0.8988\n"
     ]
    }
   ],
   "source": [
    "# Let's optimize k-nn for this dataset\n",
    "\n",
    "# Maximizing Accuracy\n",
    "params = {\n",
    "    \"n_neighbors\": list(range(1,30,2)), \n",
    "    \"weights\": ('uniform', 'distance')\n",
    "}\n",
    "knc = nb.KNeighborsClassifier()\n",
    "clf = GridSearchCV(\n",
    "    knc, \n",
    "    param_grid = params, \n",
    "    cv = 10,  # OBS: If cv is integer, by default is Stratifyed \n",
    "    n_jobs = -1\n",
    ")\n",
    "clf.fit(X_train, y_train)\n",
    "print(f\"Best Params = {clf.best_params_}\\nAccuracy on 10-fold cross-validation = {clf.best_score_}\")\n",
    "\n",
    "parval = clf.best_params_\n",
    "knc = nb.KNeighborsClassifier(\n",
    "    n_neighbors = parval[\"n_neighbors\"],\n",
    "    weights = parval[\"weights\"]\n",
    ")\n",
    "knc.fit(X_train, y_train)\n",
    "pred = knc.predict(X_test)\n",
    "print(f\"Accuracy on test set: {accuracy_score(y_test, pred)}\")"
   ]
  },
  {
   "cell_type": "markdown",
   "metadata": {
    "pycharm": {
     "name": "#%% md\n"
    }
   },
   "source": [
    "Good accuracy, but in these cases we have to observe the confusion matrix and focus not on accuracy but on recall and precision measures of the smaller class (or the f-measure that is the geometrical combination of both).\n"
   ]
  },
  {
   "cell_type": "code",
   "execution_count": 6,
   "metadata": {
    "ExecuteTime": {
     "end_time": "2023-12-12T21:14:15.682924Z",
     "start_time": "2023-12-12T21:14:15.668853Z"
    },
    "pycharm": {
     "name": "#%%\n"
    }
   },
   "outputs": [
    {
     "name": "stdout",
     "output_type": "stream",
     "text": [
      "Confusion matrix on test set: \n",
      "[[2220   10]\n",
      " [ 243   27]]\n",
      "\n",
      "              precision    recall  f1-score   support\n",
      "\n",
      "           0       0.90      1.00      0.95      2230\n",
      "           1       0.73      0.10      0.18       270\n",
      "\n",
      "    accuracy                           0.90      2500\n",
      "   macro avg       0.82      0.55      0.56      2500\n",
      "weighted avg       0.88      0.90      0.86      2500\n",
      "\n"
     ]
    }
   ],
   "source": [
    "print(f\"Confusion matrix on test set: \\n{confusion_matrix(y_test, pred)}\\n\")\n",
    "print(classification_report(y_test, pred))"
   ]
  },
  {
   "cell_type": "markdown",
   "metadata": {
    "pycharm": {
     "name": "#%% md\n"
    }
   },
   "source": [
    "Oops. f1-score of 0.18 is very low. Notice that recall for class 1 is only 0.1 (in second row of confussion matrix, we can see that we only catch 27 of 243+27 cases, that is, 0.1 of recall)... Too bad.\n",
    "\n",
    "This effect is expected In higly unbalanced datasets. In order to improve these values, there are several techniques that can be applied.\n",
    "\n",
    "\n",
    "## 1- Changing performance function\n",
    "\n",
    "When optimizing parameters, try to focus on the optimization these measures (f-score, recall or precision) instead of optimizing accuracy.\n"
   ]
  },
  {
   "cell_type": "code",
   "execution_count": 7,
   "metadata": {
    "ExecuteTime": {
     "end_time": "2023-12-12T21:18:07.237494Z",
     "start_time": "2023-12-12T21:18:06.998011Z"
    },
    "pycharm": {
     "name": "#%%\n"
    }
   },
   "outputs": [
    {
     "name": "stdout",
     "output_type": "stream",
     "text": [
      "Best Params= ({'n_neighbors': 1, 'weights': 'uniform'},)\n",
      "F-score on 10-fold cross-validation= 0.3753603804074593\n",
      "\n",
      "Confusion matrix on test set:\n",
      "[[2098  132]\n",
      " [ 176   94]]\n",
      "\n",
      "Accuracy on test set: 0.8768\n",
      "              precision    recall  f1-score   support\n",
      "\n",
      "           0       0.92      0.94      0.93      2230\n",
      "           1       0.42      0.35      0.38       270\n",
      "\n",
      "    accuracy                           0.88      2500\n",
      "   macro avg       0.67      0.64      0.66      2500\n",
      "weighted avg       0.87      0.88      0.87      2500\n",
      "\n"
     ]
    }
   ],
   "source": [
    "# Let's optimize f1_score by creationg an scoring function \"f_scorer\"\n",
    "\n",
    "# Maximizing f1_score for class 1\n",
    "f_scorer = make_scorer(f1_score,pos_label=1)\n",
    "\n",
    "params = {\n",
    "    \"n_neighbors\": list(range(1,30,2)), \n",
    "    \"weights\": ('uniform','distance')\n",
    "}\n",
    "\n",
    "knc = nb.KNeighborsClassifier()\n",
    "clf = GridSearchCV(\n",
    "    knc, \n",
    "    param_grid = params,\n",
    "    cv = 10,\n",
    "    n_jobs = -1, \n",
    "    scoring = f_scorer\n",
    ")\n",
    "clf.fit(X_train, y_train)\n",
    "\n",
    "print(f\"Best Params= {clf.best_params_,}\\nF-score on 10-fold cross-validation= {clf.best_score_}\")\n",
    "parval = clf.best_params_\n",
    "knc = nb.KNeighborsClassifier(\n",
    "    n_neighbors = parval[\"n_neighbors\"],\n",
    "    weights = parval[\"weights\"]\n",
    ")\n",
    "knc.fit(X_train, y_train)\n",
    "\n",
    "pred = knc.predict(X_test)\n",
    "print(f\"\\nConfusion matrix on test set:\\n{confusion_matrix(y_test, pred)}\")\n",
    "print(f\"\\nAccuracy on test set: {accuracy_score(y_test, pred)}\")\n",
    "print(classification_report(y_test, pred))"
   ]
  },
  {
   "cell_type": "markdown",
   "metadata": {
    "pycharm": {
     "name": "#%% md\n"
    }
   },
   "source": [
    "Now we have f1-score for class 1 of 0.38 instead of 0.18. Nice improvement.\n",
    "\n",
    "This method can be applied when we have parameters to adjust... but no in Naive Bayes, for instance, because it has no parameters to adjust. \n"
   ]
  },
  {
   "cell_type": "markdown",
   "metadata": {
    "pycharm": {
     "name": "#%% md\n"
    }
   },
   "source": [
    "## 2- Finding good threshold function (recomended approach)\n",
    "\n",
    "When running a classifier, instead of returning hard decisions about belonging to a class or the other, return the probability of belonging to the minority class. Probabilities can be estimated for most algorithms implemented in sklearn. Once we have the probabilities we will adjust the threshold on these probabilities to decide where belongs each element. The threshold will be set so it maximizes the f-measure. \n"
   ]
  },
  {
   "cell_type": "code",
   "execution_count": 8,
   "metadata": {
    "ExecuteTime": {
     "end_time": "2023-12-13T15:04:33.238445Z",
     "start_time": "2023-12-13T15:04:33.227913Z"
    },
    "pycharm": {
     "name": "#%%\n"
    }
   },
   "outputs": [
    {
     "name": "stdout",
     "output_type": "stream",
     "text": [
      "              precision    recall  f1-score   support\n",
      "\n",
      "           0       0.90      1.00      0.95      2230\n",
      "           1       0.85      0.12      0.21       270\n",
      "\n",
      "    accuracy                           0.90      2500\n",
      "   macro avg       0.87      0.56      0.58      2500\n",
      "weighted avg       0.90      0.90      0.87      2500\n",
      "\n"
     ]
    }
   ],
   "source": [
    "# Let's try Naive Bayes on hard decisions\n",
    "clf = GaussianNB()\n",
    "clf.fit(X_train, y_train)\n",
    "pred = clf.predict(X_test)\n",
    "\n",
    "print(classification_report(y_test, pred))"
   ]
  },
  {
   "cell_type": "markdown",
   "metadata": {
    "pycharm": {
     "name": "#%% md\n"
    }
   },
   "source": [
    "We have an f1-score of only 0.21. Let's try to impove it by selecting a good threshold for probability values. "
   ]
  },
  {
   "cell_type": "code",
   "execution_count": 39,
   "metadata": {
    "ExecuteTime": {
     "end_time": "2023-12-12T21:19:02.430237Z",
     "start_time": "2023-12-12T21:19:02.418327Z"
    },
    "pycharm": {
     "name": "#%%\n"
    }
   },
   "outputs": [],
   "source": [
    "def filterp(th,ProbClass,label):\n",
    "    \"\"\"Given a treshold \"th\" and a set of probabilies of belonging\n",
    "    to class label \"ProbClass\", return predictions.\"\"\" \n",
    "    if label==1:\n",
    "        y=np.zeros(ProbClass.shape[0])\n",
    "    else:\n",
    "        y=np.ones(ProbClass.shape[0])\n",
    "    y[ProbClass>th]=label\n",
    "    return y  \n",
    "\n",
    "def mid_tresholds(ProbTargetClass):\n",
    "    tresh1 = np.sort(np.array(list(set(ProbTargetClass.tolist()))))\n",
    "    tresholds_try = np.zeros((tresh1.shape[0]+1))\n",
    "    tresholds_try[1:-1] = (tresh1[1:] + tresh1[0:-1])/2\n",
    "    tresholds_try[-1]=1\n",
    "    return tresholds_try\n",
    "\n",
    "\n",
    "def best_treshold(clf,X,y,label=0):\n",
    "    kf = StratifiedKFold(n_splits=10, shuffle=True, random_state=42)\n",
    "    lth=[]\n",
    "    for train_index, test_index in kf.split(X, y):\n",
    "        X_train2, X_test2 = X[train_index], X[test_index]\n",
    "        y_train2, y_test2 = y[train_index], y[test_index]\n",
    "        clf.fit(X_train2, y_train2)\n",
    "        # Obtaining probablity predictions for test data of the iterarion\n",
    "        probs = clf.predict_proba(X_test2)\n",
    "        # Collect probabilities of belonging to class 1\n",
    "        ProbTargetClass = probs[:,label]\n",
    "        # Sort probabilities and generate pairs (threshold, f1-for-that-threshold) \n",
    "        res = np.array([[th,f1_score(y_test2,filterp(th,ProbTargetClass,label),pos_label=label)] for th in mid_tresholds(ProbTargetClass)])\n",
    "\n",
    "        # Uncomment the following lines if you want to plot at each iteration how f1-score evolves increasing the threshold \n",
    "        #plt.plot(res[:,0],res[:,1])\n",
    "        #plt.show()\n",
    "\n",
    "        # Find the threshold that has maximum value of f1-score\n",
    "        maxF = np.max(res[:,1])\n",
    "        optimal_th = res[res[:,1]==maxF,0]\n",
    "        \n",
    "        # Store the optimal threshold found for the current iteration\n",
    "        lth.append(optimal_th)\n",
    "        \n",
    "    return np.mean(lth)"
   ]
  },
  {
   "cell_type": "code",
   "execution_count": 11,
   "metadata": {
    "ExecuteTime": {
     "end_time": "2023-12-13T15:04:59.624589Z",
     "start_time": "2023-12-13T15:04:57.792553Z"
    },
    "pycharm": {
     "name": "#%%\n"
    }
   },
   "outputs": [
    {
     "name": "stdout",
     "output_type": "stream",
     "text": [
      "Selected threshold in 10-fold cross validation: 0.21638778566991684\n",
      "\n",
      "              precision    recall  f1-score   support\n",
      "\n",
      "           0       0.94      0.96      0.95      2230\n",
      "           1       0.58      0.48      0.53       270\n",
      "\n",
      "    accuracy                           0.91      2500\n",
      "   macro avg       0.76      0.72      0.74      2500\n",
      "weighted avg       0.90      0.91      0.90      2500\n",
      "\n"
     ]
    }
   ],
   "source": [
    "clf = GaussianNB()\n",
    "focuslabel = 1\n",
    "\n",
    "thdef = best_treshold(clf,X, y,label=focuslabel)\n",
    "print(f\"Selected threshold in 10-fold cross validation: {thdef}\")\n",
    "print()\n",
    "\n",
    "# Train a classifier with the whole training data \n",
    "clf.fit(X_train, y_train)\n",
    "# Obtain probabilities for data on test set\n",
    "probs = clf.predict_proba(X_test)\n",
    "# Generate predictions using probabilities and threshold found on 10 folds cross-validation\n",
    "pred = filterp(thdef,probs[:,focuslabel],focuslabel)\n",
    "# Print results with this prediction vector\n",
    "print(classification_report(y_test, pred))"
   ]
  },
  {
   "cell_type": "markdown",
   "metadata": {
    "pycharm": {
     "name": "#%% md\n"
    }
   },
   "source": [
    "We increased from an f1 of Naive Bayes of 0.21 to 0.53 by adjusting the probability threshold.\n",
    "\n",
    "The same trick can be done for any algorithm implemented in python that has method \"predict_proba\" implemented. It also can be used when the fuction you want to optimize is not f-score of one class but any other you want. the only thing you have to do is change the calls to f1_score by your function. "
   ]
  },
  {
   "cell_type": "markdown",
   "metadata": {
    "pycharm": {
     "name": "#%% md\n"
    }
   },
   "source": [
    "## 3- Sampling approach:\n",
    "\n",
    "a) Oversampling of the minority class, \n",
    "\n",
    "b) undersampling of the majority class and,\n",
    "\n",
    "c) artificial generation of examples for the minoiry class\n",
    "\n",
    "To do that, you have to previously keep a test set with the original proportion of data to obtain the performance measure (because them have to be computed on a dataset with the true distribution of examples on each class. "
   ]
  },
  {
   "cell_type": "code",
   "execution_count": 8,
   "metadata": {
    "pycharm": {
     "name": "#%%\n"
    }
   },
   "outputs": [],
   "source": [
    "# The asiest way to deal with unbalanced datasets with sampling procedures is to use the imblearn package in python\n",
    "#   http://contrib.scikit-learn.org/imbalanced-learn/stable/index.html\n",
    "# Instalation mcan be done with pip or conda (if you use conda, this is recomended). Instalation is done with one\n",
    "# of the following commands:\n",
    "#    conda install -c glemaitre imbalanced-learn\n",
    "#    pip install -U imbalanced-learn"
   ]
  },
  {
   "cell_type": "code",
   "execution_count": 38,
   "metadata": {
    "ExecuteTime": {
     "end_time": "2023-12-13T15:06:18.351492Z",
     "start_time": "2023-12-13T15:06:18.338573Z"
    },
    "pycharm": {
     "name": "#%%\n"
    }
   },
   "outputs": [
    {
     "name": "stdout",
     "output_type": "stream",
     "text": [
      "\n",
      "** Results for Naive Bayes\n",
      "              precision    recall  f1-score   support\n",
      "\n",
      "           0       0.90      1.00      0.95      2230\n",
      "           1       0.85      0.12      0.21       270\n",
      "\n",
      "    accuracy                           0.90      2500\n",
      "   macro avg       0.87      0.56      0.58      2500\n",
      "weighted avg       0.90      0.90      0.87      2500\n",
      "\n",
      "Confusion matrix on test set:\n",
      "[[2224    6]\n",
      " [ 237   33]]\n",
      "\n",
      "** Results OVERSAMPLING randomly\n",
      "              precision    recall  f1-score   support\n",
      "\n",
      "           0       0.98      0.71      0.82      2230\n",
      "           1       0.27      0.89      0.41       270\n",
      "\n",
      "    accuracy                           0.73      2500\n",
      "   macro avg       0.63      0.80      0.62      2500\n",
      "weighted avg       0.90      0.73      0.78      2500\n",
      "\n",
      "Confusion matrix on test set:\n",
      "[[1585  645]\n",
      " [  31  239]]\n"
     ]
    }
   ],
   "source": [
    "# Solution doing oversampling of the smaller class\n",
    "from imblearn.over_sampling import RandomOverSampler\n",
    "from imblearn import pipeline as pl\n",
    "\n",
    "RANDOM_STATE = 42\n",
    "\n",
    "pipeline = pl.make_pipeline(GaussianNB())\n",
    "# Train the classifier with balancing\n",
    "pipeline.fit(X_train, y_train)\n",
    "# Test the classifier and get the prediction\n",
    "y_pred_bal = pipeline.predict(X_test)\n",
    "print(\"\\n** Results for Naive Bayes\")\n",
    "print(classification_report(y_test, y_pred_bal))\n",
    "print(f\"Confusion matrix on test set:\\n{confusion_matrix(y_test, y_pred_bal)}\")\n",
    "\n",
    "pipeline = pl.make_pipeline(\n",
    "    RandomOverSampler(random_state = RANDOM_STATE), \n",
    "    GaussianNB()\n",
    ")\n",
    "# Train the classifier with balancing\n",
    "pipeline.fit(X_train, y_train)\n",
    "# Test the classifier and get the prediction\n",
    "y_pred_bal = pipeline.predict(X_test)\n",
    "print(\"\\n** Results OVERSAMPLING randomly\")\n",
    "print(classification_report(y_test, y_pred_bal))\n",
    "print(f\"Confusion matrix on test set:\\n{confusion_matrix(y_test, y_pred_bal)}\")"
   ]
  },
  {
   "cell_type": "markdown",
   "metadata": {
    "pycharm": {
     "name": "#%% md\n"
    }
   },
   "source": [
    "### Caveat: When doing k-fold cross-validation\n",
    "To find the optimal parameters for your algorithm, cross-validation has to be done realistically, that means, training has to be oversampled but test not. Notice in the following cells the differences of doing carefully cross-validation for the KNN algorithm whith oversampling.\n"
   ]
  },
  {
   "cell_type": "code",
   "execution_count": 16,
   "metadata": {
    "pycharm": {
     "name": "#%%\n"
    }
   },
   "outputs": [
    {
     "data": {
      "image/png": "[encoded data removed]",
      "text/plain": [
       "<Figure size 640x480 with 1 Axes>"
      ]
     },
     "metadata": {},
     "output_type": "display_data"
    }
   ],
   "source": [
    "from sklearn.model_selection import cross_val_score  \n",
    "import sklearn.neighbors as nb  \n",
    "import matplotlib.pyplot as plt\n",
    "from sklearn.metrics import accuracy_score, precision_score, recall_score, f1_score\n",
    "\n",
    "f_scorer = make_scorer(f1_score,pos_label=1)\n",
    "\n",
    "lr = []\n",
    "for ki in range(1,30,2):\n",
    "    cv_scores = cross_val_score(\n",
    "        nb.KNeighborsClassifier(n_neighbors = ki), \n",
    "        X = X_train, \n",
    "        y = y_train, \n",
    "        cv = 10, \n",
    "        scoring = f_scorer\n",
    "    )\n",
    "    lr.append(np.mean(cv_scores))\n",
    "plt.plot(range(1,30,2),lr,'b',label='No weighting')\n",
    "\n",
    "lr = []\n",
    "for ki in range(1,30,2):\n",
    "    cv_scores = cross_val_score(\n",
    "        nb.KNeighborsClassifier(\n",
    "            n_neighbors = ki,\n",
    "            weights = \"distance\"\n",
    "        ), \n",
    "        X = X_train, \n",
    "        y = y_train, \n",
    "        cv = 10, \n",
    "        scoring = f_scorer\n",
    "    )\n",
    "    lr.append(np.mean(cv_scores))\n",
    "\n",
    "plt.plot(range(1,30,2),lr,'r',label='Weighting')\n",
    "plt.xlabel('k')\n",
    "plt.ylabel('f1-score on class 1')\n",
    "plt.legend(loc='upper right')\n",
    "plt.grid()\n",
    "plt.tight_layout()\n",
    "\n",
    "plt.show()"
   ]
  },
  {
   "cell_type": "markdown",
   "metadata": {
    "pycharm": {
     "name": "#%% md\n"
    }
   },
   "source": [
    "Best results are for k=1. Let's train the model on over-sampled data and apply to untouched test set and see results"
   ]
  },
  {
   "cell_type": "code",
   "execution_count": 17,
   "metadata": {
    "pycharm": {
     "name": "#%%\n"
    }
   },
   "outputs": [
    {
     "name": "stdout",
     "output_type": "stream",
     "text": [
      "              precision    recall  f1-score   support\n",
      "\n",
      "           0       0.92      0.94      0.93      2230\n",
      "           1       0.42      0.35      0.38       270\n",
      "\n",
      "    accuracy                           0.88      2500\n",
      "   macro avg       0.67      0.64      0.66      2500\n",
      "weighted avg       0.87      0.88      0.87      2500\n",
      "\n",
      "Confusion matrix on test set:\n",
      " [[2098  132]\n",
      " [ 176   94]]\n"
     ]
    }
   ],
   "source": [
    "# K=1\n",
    "ros = RandomOverSampler(random_state=0)\n",
    "X_resampled, y_resampled = ros.fit_resample(X_train, y_train)\n",
    "\n",
    "clf = nb.KNeighborsClassifier(n_neighbors = 1).fit(X_resampled, y_resampled)\n",
    "y_pred_bal = clf.predict(X_test)\n",
    "print(classification_report(y_test, y_pred_bal))\n",
    "print(\"Confusion matrix on test set:\\n\",confusion_matrix(y_test, y_pred_bal))"
   ]
  },
  {
   "cell_type": "markdown",
   "metadata": {
    "pycharm": {
     "name": "#%% md\n"
    }
   },
   "source": [
    "In this cell we do cross-validation on oversampled training data to find best parameters (but we don't care about what happens inside each cross-validation)"
   ]
  },
  {
   "cell_type": "code",
   "execution_count": 23,
   "metadata": {
    "pycharm": {
     "name": "#%%\n"
    }
   },
   "outputs": [
    {
     "data": {
      "image/png": "[encoded data removed]",
      "text/plain": [
       "<Figure size 640x480 with 1 Axes>"
      ]
     },
     "metadata": {},
     "output_type": "display_data"
    }
   ],
   "source": [
    "X_resampled, y_resampled = ros.fit_resample(X_train, y_train)\n",
    "\n",
    "lr = []\n",
    "for ki in range(1,30,2):\n",
    "    cv_scores = cross_val_score(\n",
    "        nb.KNeighborsClassifier(n_neighbors = ki), \n",
    "        X = X_resampled, \n",
    "        y = y_resampled, \n",
    "        cv = 10, \n",
    "        scoring = f_scorer\n",
    "    )\n",
    "    lr.append(np.mean(cv_scores))\n",
    "    \n",
    "plt.plot(\n",
    "    range(1,30,2),\n",
    "    lr,\n",
    "    \"blue\",\n",
    "    label = \"No weighting\"\n",
    ")\n",
    "\n",
    "lr = []\n",
    "for ki in range(1,30,2):\n",
    "    cv_scores = cross_val_score(\n",
    "        nb.KNeighborsClassifier(n_neighbors = ki, weights = \"distance\"),\n",
    "        X = X_resampled, \n",
    "        y = y_resampled, \n",
    "        cv = 10, \n",
    "        scoring = f_scorer\n",
    "    )\n",
    "    lr.append(np.mean(cv_scores))\n",
    "    \n",
    "plt.plot(\n",
    "    range(1,30,2),\n",
    "    lr,\n",
    "    \"red\",\n",
    "    label = \"Weighting\"\n",
    ")\n",
    "# Adding labels and other details to the graphic\n",
    "plt.xlabel(\"k\")\n",
    "plt.ylabel(\"Accuracy\")\n",
    "plt.legend(loc = \"upper right\")\n",
    "plt.grid()\n",
    "plt.tight_layout()\n",
    "plt.show()"
   ]
  },
  {
   "cell_type": "markdown",
   "metadata": {
    "pycharm": {
     "name": "#%% md\n"
    }
   },
   "source": [
    "Best value for K=1... But don't you see something suspicious in the curve? Yes, too high! "
   ]
  },
  {
   "cell_type": "code",
   "execution_count": 19,
   "metadata": {
    "pycharm": {
     "name": "#%%\n"
    }
   },
   "outputs": [
    {
     "name": "stdout",
     "output_type": "stream",
     "text": [
      "              precision    recall  f1-score   support\n",
      "\n",
      "           0       0.92      0.94      0.93      2230\n",
      "           1       0.42      0.35      0.38       270\n",
      "\n",
      "    accuracy                           0.88      2500\n",
      "   macro avg       0.67      0.64      0.66      2500\n",
      "weighted avg       0.87      0.88      0.87      2500\n",
      "\n",
      "Confusion matrix on test set:\n",
      " [[2098  132]\n",
      " [ 176   94]]\n"
     ]
    }
   ],
   "source": [
    "# K=1\n",
    "\n",
    "clf = nb.KNeighborsClassifier(n_neighbors = 1).fit(X_resampled, y_resampled)\n",
    "y_pred_bal = clf.predict(X_test)\n",
    "print(classification_report(y_test, y_pred_bal))\n",
    "print(\"Confusion matrix on test set:\\n\",confusion_matrix(y_test, y_pred_bal))"
   ]
  },
  {
   "cell_type": "markdown",
   "metadata": {
    "pycharm": {
     "name": "#%% md\n"
    }
   },
   "source": [
    "Ooops. Nothing changed with respect to original one. Yes, because test at each cross-validation was also OVERSAMPLED... This explains the high values of the previous figure.\n",
    "\n",
    "**Lets do things as they should be done!**"
   ]
  },
  {
   "cell_type": "code",
   "execution_count": 37,
   "metadata": {
    "pycharm": {
     "name": "#%%\n"
    }
   },
   "outputs": [],
   "source": [
    "### Example of function that returns K-folds OVER-sampled. Should be done the same\n",
    "def K_foldCross_val_OVER(X_train, y_train, k = 10, random_seed = 0):\n",
    "    \"\"\"Creation of the Oversampled k sets where training is oversampled and test not.\"\"\"\n",
    "    \n",
    "    kf = StratifiedKFold(\n",
    "        n_splits = k, \n",
    "        random_state = random_seed, \n",
    "        shuffle = True\n",
    "    )\n",
    "    l_X_train=[]\n",
    "    l_y_train=[]\n",
    "    l_X_test=[]\n",
    "    l_y_test=[]\n",
    "\n",
    "    for train_index_ls, validation_index_ls in kf.split(X_train, y_train):\n",
    "        # keeping validation set apart and oversampling in each iteration using smote \n",
    "        train, validation = X_train[train_index_ls], X_train[validation_index_ls]\n",
    "        target_train, target_val = y_train[train_index_ls], y_train[validation_index_ls]\n",
    "        ros = RandomOverSampler(random_state = random_seed)  ##Thing to change!\n",
    "        X_resampled, y_resampled = ros.fit_resample(train, target_train)\n",
    "\n",
    "        l_X_train.append(X_resampled)\n",
    "        l_y_train.append(y_resampled)\n",
    "        l_X_test.append(validation)\n",
    "        l_y_test.append(target_val)  \n",
    "    \n",
    "    return l_X_train,l_y_train,l_X_test,l_y_test\n",
    "\n",
    "\n",
    "def cross_val_unb(clf, X_train, y_train, method = K_foldCross_val_OVER, score = f1_score, pos_label = 1):\n",
    "    scores = []\n",
    "    l_X_train,l_y_train,l_X_test,l_y_test = method(X_train,y_train)\n",
    "    for i in range(len(l_X_train)):\n",
    "        validation_preds =  clf.fit(l_X_train[i], l_y_train[i]).predict(l_X_test[i])\n",
    "        scores.append(score(l_y_test[i], validation_preds,pos_label=pos_label))\n",
    "\n",
    "    return scores"
   ]
  },
  {
   "cell_type": "code",
   "execution_count": 24,
   "metadata": {
    "pycharm": {
     "name": "#%%\n"
    }
   },
   "outputs": [
    {
     "data": {
      "image/png": "[encoded data removed]",
      "text/plain": [
       "<Figure size 640x480 with 1 Axes>"
      ]
     },
     "metadata": {},
     "output_type": "display_data"
    }
   ],
   "source": [
    "lr = []\n",
    "for ki in range(1,30,2):\n",
    "    cv_scores = cross_val_unb(\n",
    "        nb.KNeighborsClassifier(n_neighbors = ki), \n",
    "        X_train, \n",
    "        y_train, \n",
    "        score = f1_score, \n",
    "        pos_label = 1\n",
    "    )\n",
    "    lr.append(np.mean(cv_scores))\n",
    "plt.plot(\n",
    "    range(1, 30, 2),\n",
    "    lr,\n",
    "    \"blue\",\n",
    "    label = \"No weighting\"\n",
    ")\n",
    "\n",
    "lr = []\n",
    "for ki in range(1,30,2):\n",
    "    cv_scores = cross_val_unb(\n",
    "        nb.KNeighborsClassifier(n_neighbors = ki, weights = \"distance\"), \n",
    "        X_train, \n",
    "        y_train, \n",
    "        score = f1_score, \n",
    "        pos_label = 1\n",
    "    )\n",
    "    lr.append(np.mean(cv_scores))\n",
    "    \n",
    "plt.plot(\n",
    "    range(1,30,2),\n",
    "    lr,\n",
    "    \"red\",\n",
    "    label = \"Weighting\"\n",
    ")\n",
    "# Adding labels and other details to the graphic\n",
    "plt.xlabel(\"k\")\n",
    "plt.ylabel(\"f1-score on class 1\")\n",
    "plt.legend(loc = \"upper right\")\n",
    "plt.grid()\n",
    "plt.tight_layout()\n",
    "plt.show()"
   ]
  },
  {
   "cell_type": "code",
   "execution_count": 36,
   "metadata": {
    "pycharm": {
     "name": "#%%\n"
    }
   },
   "outputs": [
    {
     "name": "stdout",
     "output_type": "stream",
     "text": [
      "              precision    recall  f1-score   support\n",
      "\n",
      "           0       0.94      0.89      0.91      2230\n",
      "           1       0.36      0.51      0.42       270\n",
      "\n",
      "    accuracy                           0.85      2500\n",
      "   macro avg       0.65      0.70      0.67      2500\n",
      "weighted avg       0.88      0.85      0.86      2500\n",
      "\n",
      "Confusion matrix on test set:\n",
      "[[1988  242]\n",
      " [ 132  138]]\n"
     ]
    }
   ],
   "source": [
    "# K=3\n",
    "\n",
    "ros = RandomOverSampler(random_state = 0)\n",
    "X_resampled, y_resampled = ros.fit_resample(X_train, y_train)\n",
    "\n",
    "clf = nb.KNeighborsClassifier(n_neighbors = 3).fit(X_resampled, y_resampled)\n",
    "y_pred_bal = clf.predict(X_test)\n",
    "print(classification_report(y_test, y_pred_bal))\n",
    "print(f\"Confusion matrix on test set:\\n{confusion_matrix(y_test, y_pred_bal)}\")"
   ]
  },
  {
   "cell_type": "markdown",
   "metadata": {
    "pycharm": {
     "name": "#%% md\n"
    }
   },
   "source": [
    "Best results so far.\n",
    "\n",
    "### Other techniques with sampling data: Undersampling and SMOTE\n",
    "\n",
    "This is an example for Naive Bayes that does not need adjusting parameters. In case you use KNN you have to adapt the previous caveat to the technique applied."
   ]
  },
  {
   "cell_type": "code",
   "execution_count": 35,
   "metadata": {
    "pycharm": {
     "name": "#%%\n"
    }
   },
   "outputs": [
    {
     "name": "stdout",
     "output_type": "stream",
     "text": [
      "\n",
      "** Results for UNDERSAMPLING with method Random\n",
      "              precision    recall  f1-score   support\n",
      "\n",
      "           0       0.98      0.71      0.83      2230\n",
      "           1       0.27      0.89      0.42       270\n",
      "\n",
      "    accuracy                           0.73      2500\n",
      "   macro avg       0.63      0.80      0.62      2500\n",
      "weighted avg       0.91      0.73      0.78      2500\n",
      "\n",
      "Confusion matrix on test set:\n",
      "[[1592  638]\n",
      " [  30  240]]\n",
      "\n",
      "** Results for UNDERSAMPLING with method Instance Hardness threshold\n",
      "              precision    recall  f1-score   support\n",
      "\n",
      "           0       0.94      0.94      0.94      2230\n",
      "           1       0.52      0.49      0.50       270\n",
      "\n",
      "    accuracy                           0.90      2500\n",
      "   macro avg       0.73      0.72      0.72      2500\n",
      "weighted avg       0.89      0.90      0.89      2500\n",
      "\n",
      "Confusion matrix on test set:\n",
      "[[2107  123]\n",
      " [ 139  131]]\n",
      "\n",
      "** Results for UNDERSAMPLING with method Condensed Nearest Neighbour\n",
      "              precision    recall  f1-score   support\n",
      "\n",
      "           0       0.93      0.97      0.95      2230\n",
      "           1       0.66      0.40      0.49       270\n",
      "\n",
      "    accuracy                           0.91      2500\n",
      "   macro avg       0.79      0.69      0.72      2500\n",
      "weighted avg       0.90      0.91      0.90      2500\n",
      "\n",
      "Confusion matrix on test set:\n",
      "[[2174   56]\n",
      " [ 163  107]]\n"
     ]
    }
   ],
   "source": [
    "# Solution doing undersampling of the larger class. There are several method implemented. \n",
    "# I recommend any of the following ones:\n",
    "from imblearn.under_sampling import (\n",
    "    RandomUnderSampler,\n",
    "    CondensedNearestNeighbour,\n",
    "    InstanceHardnessThreshold,\n",
    ")\n",
    "\n",
    "pipeline = pl.make_pipeline(\n",
    "    RandomUnderSampler(random_state = RANDOM_STATE), \n",
    "    GaussianNB()\n",
    ")\n",
    "# Train the classifier with balancing\n",
    "pipeline.fit(X_train, y_train)\n",
    "# Test the classifier and get the prediction\n",
    "y_pred_bal = pipeline.predict(X_test)\n",
    "print(\"\\n** Results for UNDERSAMPLING with method Random\")\n",
    "print(classification_report(y_test, y_pred_bal))\n",
    "print(f\"Confusion matrix on test set:\\n{confusion_matrix(y_test, y_pred_bal)}\")\n",
    "\n",
    "pipeline = pl.make_pipeline(\n",
    "    InstanceHardnessThreshold(random_state = RANDOM_STATE), \n",
    "    GaussianNB()\n",
    ")\n",
    "# Train the classifier with balancing\n",
    "pipeline.fit(X_train, y_train)\n",
    "# Test the classifier and get the prediction\n",
    "y_pred_bal = pipeline.predict(X_test)\n",
    "print(\"\\n** Results for UNDERSAMPLING with method Instance Hardness threshold\")\n",
    "print(classification_report(y_test, y_pred_bal))\n",
    "print(f\"Confusion matrix on test set:\\n{confusion_matrix(y_test, y_pred_bal)}\")\n",
    "    \n",
    "pipeline = pl.make_pipeline(\n",
    "    CondensedNearestNeighbour(random_state = RANDOM_STATE),\n",
    "    GaussianNB()\n",
    ")\n",
    "# Train the classifier with balancing\n",
    "pipeline.fit(X_train, y_train)\n",
    "# Test the classifier and get the prediction\n",
    "y_pred_bal = pipeline.predict(X_test)\n",
    "print(\"\\n** Results for UNDERSAMPLING with method Condensed Nearest Neighbour\")\n",
    "print(classification_report(y_test, y_pred_bal))\n",
    "print(f\"Confusion matrix on test set:\\n{confusion_matrix(y_test, y_pred_bal)}\")"
   ]
  },
  {
   "cell_type": "code",
   "execution_count": 34,
   "metadata": {
    "pycharm": {
     "name": "#%%\n"
    }
   },
   "outputs": [
    {
     "name": "stdout",
     "output_type": "stream",
     "text": [
      "              precision    recall  f1-score   support\n",
      "\n",
      "           0       0.97      0.73      0.83      2230\n",
      "           1       0.27      0.83      0.41       270\n",
      "\n",
      "    accuracy                           0.74      2500\n",
      "   macro avg       0.62      0.78      0.62      2500\n",
      "weighted avg       0.90      0.74      0.79      2500\n",
      "\n",
      "\n",
      " Confusion matrix on test set:\n",
      "[[1630  600]\n",
      " [  46  224]]\n"
     ]
    }
   ],
   "source": [
    "# Solution creating artificial examples of the smaller class\n",
    "from imblearn import over_sampling as os\n",
    "\n",
    "pipeline = pl.make_pipeline(\n",
    "    os.SMOTE(random_state = RANDOM_STATE), \n",
    "    GaussianNB()\n",
    ")\n",
    "\n",
    "# Train the classifier with balancing\n",
    "pipeline.fit(X_train, y_train)\n",
    "# Test the classifier and get the prediction\n",
    "y_pred_bal = pipeline.predict(X_test)\n",
    "print(classification_report(y_test, y_pred_bal))\n",
    "print(f\"\\n Confusion matrix on test set:\\n{confusion_matrix(y_test, y_pred_bal)}\")"
   ]
  },
  {
   "cell_type": "markdown",
   "metadata": {
    "collapsed": true,
    "pycharm": {
     "name": "#%% md\n"
    }
   },
   "source": [
    "## Final notes\n",
    "There are some algorithm, for instance SVM, where you can introduce the weigth of each class in the calssification class. See the following example:"
   ]
  },
  {
   "cell_type": "code",
   "execution_count": 33,
   "metadata": {
    "pycharm": {
     "name": "#%%\n"
    }
   },
   "outputs": [
    {
     "name": "stdout",
     "output_type": "stream",
     "text": [
      "Tested Cs [1.e-02 1.e-01 1.e+00 1.e+01 1.e+02]\n",
      "Best C =10.0\n",
      "\n",
      "** Results for Plain SVM\n",
      "              precision    recall  f1-score   support\n",
      "\n",
      "           0       0.91      0.99      0.95      2230\n",
      "           1       0.82      0.23      0.36       270\n",
      "\n",
      "    accuracy                           0.91      2500\n",
      "   macro avg       0.86      0.61      0.66      2500\n",
      "weighted avg       0.90      0.91      0.89      2500\n",
      "\n",
      "Confusion matrix on test set:\n",
      "[[2216   14]\n",
      " [ 208   62]]\n",
      "Best C = 100.0\n",
      "\n",
      "** Results for Plain SVM with ratio for class 1 set to 10\n",
      "              precision    recall  f1-score   support\n",
      "\n",
      "           0       0.95      0.83      0.89      2230\n",
      "           1       0.33      0.67      0.44       270\n",
      "\n",
      "    accuracy                           0.82      2500\n",
      "   macro avg       0.64      0.75      0.66      2500\n",
      "weighted avg       0.89      0.82      0.84      2500\n",
      "\n",
      "Confusion matrix on test set:\n",
      "[[1861  369]\n",
      " [  90  180]]\n"
     ]
    }
   ],
   "source": [
    "## This technique gives more importance to one class than to another, so we can pay more attention to the \n",
    "## smaller class.\n",
    "\n",
    "## It can be applied to DecisionTreeClassifier, RandomForestClassifier, ExtraTreesClassifier and SVM\n",
    "## but not to NaiveBayes neither KNN where other techniques should be applied\n",
    "## This technique can be applier indirectly to AdaBoostClassifier, BaggingClassifier if the base classifiers are \n",
    "## DecisionTrees for wich we define the \"class_weight\"\n",
    "\n",
    "# Example for SVM\n",
    "import matplotlib.pyplot as plt\n",
    "from sklearn import svm\n",
    "\n",
    "Cs = np.logspace(-2, 2, num = 5, base = 10.0)\n",
    "print(\"Tested Cs\", Cs)\n",
    "param_grid = {'C': Cs}\n",
    "\n",
    "# fit the model and get the separating hyperplane\n",
    "grid_search = GridSearchCV(\n",
    "    svm.SVC(kernel = \"rbf\"), \n",
    "    param_grid, \n",
    "    cv = 10\n",
    ")\n",
    "grid_search.fit(X_train, y_train)\n",
    "parval = grid_search.best_params_\n",
    "print(f\"Best C = {parval['C']}\")\n",
    "\n",
    "clf = svm.SVC(\n",
    "    kernel = \"rbf\",\n",
    "    C = parval[\"C\"]\n",
    ")\n",
    "clf.fit(X_train,y_train)\n",
    "pred = clf.predict(X_test)\n",
    "print(\"\\n** Results for Plain SVM\")\n",
    "print(classification_report(y_test, pred))\n",
    "print(f\"Confusion matrix on test set:\\n{confusion_matrix(y_test, pred)}\")\n",
    " \n",
    "# fit the model and get the separating hyperplane using weighted classes\n",
    "grid_search = GridSearchCV(\n",
    "    svm.SVC(\n",
    "        kernel = \"rbf\", \n",
    "        class_weight = {1: 10}\n",
    "    ), \n",
    "    param_grid, \n",
    "    cv = 10\n",
    ")\n",
    "grid_search.fit(X_train, y_train)\n",
    "parval = grid_search.best_params_\n",
    "print(f\"Best C = {parval['C']}\")\n",
    "\n",
    "clf = svm.SVC(\n",
    "    kernel = \"rbf\",\n",
    "    C = parval['C'], \n",
    "    class_weight={1: 10}\n",
    ")\n",
    "clf.fit(X_train,y_train)\n",
    "pred = clf.predict(X_test)\n",
    "\n",
    "print(\"\\n** Results for Plain SVM with ratio for class 1 set to 10\")\n",
    "print(classification_report(y_test, pred))\n",
    "print(f\"Confusion matrix on test set:\\n{confusion_matrix(y_test, pred)}\") "
   ]
  },
  {
   "cell_type": "markdown",
   "metadata": {
    "pycharm": {
     "name": "#%% md\n"
    }
   },
   "source": [
    "Results with SVM are not very good because we haven't adjusted the gamma parameter, only C parameter is adjusted....  but the idea is there."
   ]
  }
 ],
 "metadata": {
  "kernelspec": {
   "display_name": "Python 3 (ipykernel)",
   "language": "python",
   "name": "python3"
  },
  "language_info": {
   "codemirror_mode": {
    "name": "ipython",
    "version": 3
   },
   "file_extension": ".py",
   "mimetype": "text/x-python",
   "name": "python",
   "nbconvert_exporter": "python",
   "pygments_lexer": "ipython3",
   "version": "3.10.9"
  },
  "toc": {
   "base_numbering": 1,
   "nav_menu": {},
   "number_sections": true,
   "sideBar": true,
   "skip_h1_title": false,
   "title_cell": "Table of Contents",
   "title_sidebar": "Contents",
   "toc_cell": false,
   "toc_position": {},
   "toc_section_display": true,
   "toc_window_display": false
  },
  "vscode": {
   "interpreter": {
    "hash": "522749119c733e62772fbb569c6bf17ec62bad11a9525ba3bcb6acfc33787e57"
   }
  }
 },
 "nbformat": 4,
 "nbformat_minor": 2
}
