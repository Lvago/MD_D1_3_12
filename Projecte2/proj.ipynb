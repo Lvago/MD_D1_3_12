{
 "cells": [
  {
   "cell_type": "markdown",
   "metadata": {},
   "source": [
    "IMPORTING DATASET"
   ]
  },
  {
   "cell_type": "code",
   "execution_count": 31,
   "metadata": {},
   "outputs": [],
   "source": [
    "from scipy.io import arff\n",
    "import pandas as pd\n",
    "\n",
    "arff_file = arff.loadarff('speeddating.arff')\n",
    "df = pd.DataFrame(arff_file[0])\n",
    "\n",
    "df = df.applymap(lambda x: x.decode('utf-8') if isinstance(x, bytes) else x)\n",
    "\n",
    "pd.set_option('display.max_columns', None)\n",
    "pd.set_option('display.max_rows', None)"
   ]
  },
  {
   "cell_type": "markdown",
   "metadata": {},
   "source": [
    "RENOMBRAR LES COLUMNES"
   ]
  },
  {
   "cell_type": "code",
   "execution_count": null,
   "metadata": {},
   "outputs": [],
   "source": []
  },
  {
   "cell_type": "markdown",
   "metadata": {},
   "source": [
    "DETERMINE REDUNDANT COLUMNS DATASET"
   ]
  },
  {
   "cell_type": "code",
   "execution_count": 32,
   "metadata": {},
   "outputs": [],
   "source": [
    "# COLUMN d_age AND d_d_age CAN BE REMOVED BECAUSE IS THE RESULT OF TWO OTHER COLUMNS\n",
    "df = df.drop(columns=['d_age', 'd_d_age'])\n",
    "\n",
    "# samerace CAN BE REMOVED BEACUSE IS THE RESULT OF race AND race_o\n",
    "df = df.drop(columns=['samerace'])\n",
    "\n",
    "# WE MUST CHOOSE BETWEEN importance_same_race AND d_importance_same_race (same data but different presentation)\n",
    "df = df.drop(columns=['d_importance_same_race'])\n",
    "\n",
    "# WE MUST CHOOSE BETWEEN importance_same_religion AND d_importance_same_religion (same data but different presentation)\n",
    "df = df.drop(columns=['d_importance_same_religion'])\n",
    "\n",
    "# MUST BE REMOVED BECAUSE IS REPEATED \n",
    "\n",
    "df = df.drop(columns=[\n",
    "    'd_pref_o_attractive', 'd_pref_o_sincere', 'd_pref_o_intelligence','d_pref_o_funny', 'd_pref_o_ambitious', 'd_pref_o_shared_interests',\n",
    "    'd_attractive_o', 'd_sinsere_o', 'd_intelligence_o', 'd_funny_o', 'd_ambitous_o', 'd_shared_interests_o',\n",
    "    'd_attractive_important', 'd_sincere_important', 'd_intellicence_important', 'd_funny_important', 'd_ambtition_important', 'd_shared_interests_important',\n",
    "    'd_attractive', 'd_sincere', 'd_intelligence', 'd_funny', 'd_ambition',\n",
    "    'd_attractive_partner', 'd_sincere_partner', 'd_intelligence_partner', 'd_funny_partner', 'd_ambition_partner', 'd_shared_interests_partner',\n",
    "    'd_sports', 'd_tvsports', 'd_exercise','d_dining', 'd_museums', 'd_art', 'd_hiking', 'd_gaming', 'd_clubbing', 'd_reading', 'd_tv', 'd_theater', 'd_movies', 'd_concerts', 'd_music', 'd_shopping', 'd_yoga',\n",
    "    'd_interests_correlate',\n",
    "    'd_expected_happy_with_sd_people', 'd_expected_num_interested_in_me', 'd_expected_num_matches',\n",
    "    'd_like', 'd_guess_prob_liked'])\n",
    "\n",
    "# THE COLUMN MATCH MUST BE REMOVED BECAUSE IS THE RESULT OF OThER TWO\n",
    "df = df.drop(columns=['match'])\n",
    "\n",
    "df.to_csv('preprocessed.csv', index=False)"
   ]
  },
  {
   "cell_type": "markdown",
   "metadata": {},
   "source": [
    "KNOW NUMBER OF NUMERICAL AND CATEGORIC"
   ]
  },
  {
   "cell_type": "code",
   "execution_count": 37,
   "metadata": {},
   "outputs": [
    {
     "name": "stdout",
     "output_type": "stream",
     "text": [
      "Number of categorical variables:  7\n",
      "Number of numerical variables:  58\n"
     ]
    }
   ],
   "source": [
    "types = df.dtypes\n",
    "\n",
    "num_categoricals = (types == 'object').sum()\n",
    "num_numericals = ((types == 'int64') | (types == 'float64')).sum()\n",
    "\n",
    "print (\"Number of categorical variables: \", num_categoricals)\n",
    "print (\"Number of numerical variables: \", num_numericals)"
   ]
  },
  {
   "cell_type": "markdown",
   "metadata": {},
   "source": [
    "DETECT MISSING VALUES"
   ]
  },
  {
   "cell_type": "code",
   "execution_count": 33,
   "metadata": {},
   "outputs": [
    {
     "name": "stdout",
     "output_type": "stream",
     "text": [
      "                                 Percent\n",
      "expected_num_interested_in_me  78.515159\n",
      "expected_num_matches           14.000955\n",
      "shared_interests_o             12.843161\n",
      "shared_interests_partner       12.735736\n",
      "ambitous_o                      8.617809\n",
      "ambition_partner                8.498448\n",
      "met                             4.476009\n",
      "funny_o                         4.296968\n",
      "funny_partner                   4.177608\n",
      "guess_prob_liked                3.688231\n",
      "intelligence_o                  3.652423\n",
      "intelligence_partner            3.533063\n",
      "sinsere_o                       3.425639\n",
      "sincere_partner                 3.306278\n",
      "like                            2.864646\n",
      "attractive_o                    2.530437\n",
      "attractive_partner              2.411077\n",
      "interests_correlate             1.885892\n",
      "pref_o_shared_interests         1.539747\n",
      "shared_interests_important      1.444259\n",
      "pref_o_ambitious                1.277154\n",
      "intelligence                    1.253282\n",
      "ambition                        1.253282\n",
      "funny                           1.253282\n",
      "attractive                      1.253282\n",
      "sincere                         1.253282\n",
      "age_o                           1.241346\n",
      "expected_happy_with_sd_people   1.205538\n",
      "ambtition_important             1.181666\n",
      "pref_o_funny                    1.169730\n",
      "age                             1.133922\n",
      "pref_o_intelligence             1.062306\n",
      "pref_o_sincere                  1.062306\n",
      "pref_o_attractive               1.062306\n",
      "funny_important                 1.062306\n",
      "sincere_important               0.942946\n",
      "movies                          0.942946\n",
      "reading                         0.942946\n",
      "tv                              0.942946\n",
      "theater                         0.942946\n",
      "music                           0.942946\n",
      "concerts                        0.942946\n",
      "gaming                          0.942946\n",
      "shopping                        0.942946\n",
      "yoga                            0.942946\n",
      "clubbing                        0.942946\n",
      "museums                         0.942946\n",
      "hiking                          0.942946\n",
      "art                             0.942946\n",
      "attractive_important            0.942946\n",
      "exercise                        0.942946\n",
      "tvsports                        0.942946\n",
      "sports                          0.942946\n",
      "intellicence_important          0.942946\n",
      "importance_same_race            0.942946\n",
      "importance_same_religion        0.942946\n",
      "dining                          0.942946\n",
      "decision                        0.000000\n",
      "has_null                        0.000000\n",
      "wave                            0.000000\n",
      "field                           0.000000\n",
      "race_o                          0.000000\n",
      "race                            0.000000\n",
      "gender                          0.000000\n",
      "decision_o                      0.000000\n"
     ]
    }
   ],
   "source": [
    "missing_values_percent = (df.isnull().sum() / len(df)) * 100\n",
    "\n",
    "missing_data = pd.DataFrame({'Percent': missing_values_percent})\n",
    "missing_data = missing_data.sort_values(by='Percent', ascending=False)\n",
    "\n",
    "print(missing_data)"
   ]
  },
  {
   "cell_type": "markdown",
   "metadata": {},
   "source": [
    "DETECT OUTLIERS"
   ]
  },
  {
   "cell_type": "code",
   "execution_count": null,
   "metadata": {},
   "outputs": [],
   "source": []
  }
 ],
 "metadata": {
  "kernelspec": {
   "display_name": "Python 3",
   "language": "python",
   "name": "python3"
  },
  "language_info": {
   "codemirror_mode": {
    "name": "ipython",
    "version": 3
   },
   "file_extension": ".py",
   "mimetype": "text/x-python",
   "name": "python",
   "nbconvert_exporter": "python",
   "pygments_lexer": "ipython3",
   "version": "3.8.10"
  }
 },
 "nbformat": 4,
 "nbformat_minor": 2
}
