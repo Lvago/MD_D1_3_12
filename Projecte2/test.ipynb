{
 "cells": [
  {
   "cell_type": "code",
   "outputs": [],
   "source": [
    "from scipy.io import arff\n",
    "import matplotlib.pyplot as plt\n",
    "import pandas as pd\n",
    "import numpy as np\n",
    "from sklearn.naive_bayes import GaussianNB       ### Because continuous data\n",
    "from sklearn.model_selection import (\n",
    "    StratifiedKFold, \n",
    "    cross_val_score, \n",
    "    train_test_split\n",
    ")\n",
    "from sklearn.preprocessing import StandardScaler"
   ],
   "metadata": {
    "collapsed": false,
    "ExecuteTime": {
     "end_time": "2024-05-21T13:24:01.549447Z",
     "start_time": "2024-05-21T13:24:01.527541200Z"
    }
   },
   "id": "1e5ded9221951932",
   "execution_count": 8
  },
  {
   "cell_type": "code",
   "execution_count": 9,
   "id": "initial_id",
   "metadata": {
    "collapsed": true,
    "ExecuteTime": {
     "end_time": "2024-05-21T13:24:01.877116500Z",
     "start_time": "2024-05-21T13:24:01.556877300Z"
    }
   },
   "outputs": [],
   "source": [
    "# Load the dataset from file to avoid run all the pre-processing steps\n",
    "df_encoded = pd.read_csv('preprocessed_encoded.csv')\n",
    "\n",
    "# Load the dataset that is not one-hot encoded to get the target variable\n",
    "# NOTE: The following lines are needed only if all the above code is not run\n",
    "old_df = pd.read_csv('preprocessed.csv')\n",
    "y = old_df['match']"
   ]
  },
  {
   "cell_type": "code",
   "outputs": [],
   "source": [
    "X = df_encoded\n",
    "\n",
    "X = X.drop(['decision_0','decision_1','decision_o_0','decision_o_1'], axis=1)\n",
    "\n",
    "\n",
    "# Split the dataset in training and test set\n",
    "X_train, X_test, y_train, y_test = train_test_split(X, y, test_size=0.3, random_state=42)\n",
    "\n",
    "# Normalization of the data starting from information of just the training set\n",
    "scaler = StandardScaler()\n",
    "X_train = scaler.fit_transform(X_train)\n",
    "\n",
    "# Apply the scaler to the test set\n",
    "X_test = scaler.transform(X_test)"
   ],
   "metadata": {
    "collapsed": false,
    "ExecuteTime": {
     "end_time": "2024-05-21T13:24:02.054473300Z",
     "start_time": "2024-05-21T13:24:01.882536300Z"
    }
   },
   "id": "4f4f1743b34f8dfa",
   "execution_count": 10
  },
  {
   "cell_type": "code",
   "outputs": [
    {
     "data": {
      "text/plain": "0.1976571343843651"
     },
     "execution_count": 11,
     "metadata": {},
     "output_type": "execute_result"
    }
   ],
   "source": [
    "cv = StratifiedKFold(\n",
    "    n_splits = 10, \n",
    ") \n",
    "\n",
    "gnb = GaussianNB()\n",
    "cv_scores = cross_val_score(\n",
    "    gnb,\n",
    "    X = X,\n",
    "    y = y,\n",
    "    cv = cv\n",
    ")\n",
    "np.mean(cv_scores)"
   ],
   "metadata": {
    "collapsed": false,
    "ExecuteTime": {
     "end_time": "2024-05-21T13:24:02.991764200Z",
     "start_time": "2024-05-21T13:24:02.059209800Z"
    }
   },
   "id": "ba2aa1500f56fb81",
   "execution_count": 11
  },
  {
   "cell_type": "code",
   "outputs": [
    {
     "name": "stdout",
     "output_type": "stream",
     "text": [
      "[[ 436 6562]\n",
      " [ 160 1220]]\n",
      "0.19766053950823587\n"
     ]
    }
   ],
   "source": [
    "from sklearn.model_selection import cross_val_predict  \n",
    "from sklearn.metrics import accuracy_score, confusion_matrix\n",
    "\n",
    "predicted = cross_val_predict(\n",
    "    estimator = GaussianNB(), \n",
    "    X = X,\n",
    "    y = y,  \n",
    "    cv = cv\n",
    ")  \n",
    "\n",
    "print(confusion_matrix(y, predicted))  # Confusion matrix\n",
    "print(accuracy_score(y, predicted))    # Accuracy compute using both, true value and prediction"
   ],
   "metadata": {
    "collapsed": false,
    "ExecuteTime": {
     "end_time": "2024-05-21T13:24:03.945417400Z",
     "start_time": "2024-05-21T13:24:02.987048700Z"
    }
   },
   "id": "1ab9917e8914a97",
   "execution_count": 12
  },
  {
   "cell_type": "code",
   "outputs": [
    {
     "name": "stdout",
     "output_type": "stream",
     "text": [
      "              precision    recall  f1-score   support\n",
      "\n",
      "           0       0.73      0.06      0.11      6998\n",
      "           1       0.16      0.88      0.27      1380\n",
      "\n",
      "    accuracy                           0.20      8378\n",
      "   macro avg       0.44      0.47      0.19      8378\n",
      "weighted avg       0.64      0.20      0.14      8378\n"
     ]
    }
   ],
   "source": [
    "from sklearn.metrics import classification_report\n",
    "\n",
    "print(classification_report(y, predicted))"
   ],
   "metadata": {
    "collapsed": false,
    "ExecuteTime": {
     "end_time": "2024-05-21T13:24:03.982644500Z",
     "start_time": "2024-05-21T13:24:03.949048700Z"
    }
   },
   "id": "7e851061f38a708d",
   "execution_count": 13
  },
  {
   "cell_type": "code",
   "outputs": [
    {
     "name": "stdout",
     "output_type": "stream",
     "text": [
      "Mean CV score: 0.2776252827182818\n"
     ]
    }
   ],
   "source": [
    "from sklearn.naive_bayes import GaussianNB\n",
    "from sklearn.model_selection import StratifiedKFold, cross_val_score\n",
    "\n",
    "# Initialize Gaussian Naive Bayes\n",
    "gnb = GaussianNB()\n",
    "\n",
    "# Perform cross-validation\n",
    "cv = StratifiedKFold(n_splits=10)\n",
    "cv_scores = cross_val_score(gnb, X_train, y_train, cv=cv)\n",
    "mean_cv_score = np.mean(cv_scores)\n",
    "print(f\"Mean CV score: {mean_cv_score}\")\n"
   ],
   "metadata": {
    "collapsed": false,
    "ExecuteTime": {
     "end_time": "2024-05-21T13:24:04.455584400Z",
     "start_time": "2024-05-21T13:24:03.980160500Z"
    }
   },
   "id": "233dfd8726557669",
   "execution_count": 14
  },
  {
   "cell_type": "code",
   "outputs": [],
   "source": [],
   "metadata": {
    "collapsed": false,
    "ExecuteTime": {
     "end_time": "2024-05-21T13:24:04.500385800Z",
     "start_time": "2024-05-21T13:24:04.457879700Z"
    }
   },
   "id": "4aa80bbd47016bc",
   "execution_count": 14
  }
 ],
 "metadata": {
  "kernelspec": {
   "display_name": "Python 3",
   "language": "python",
   "name": "python3"
  },
  "language_info": {
   "codemirror_mode": {
    "name": "ipython",
    "version": 2
   },
   "file_extension": ".py",
   "mimetype": "text/x-python",
   "name": "python",
   "nbconvert_exporter": "python",
   "pygments_lexer": "ipython2",
   "version": "2.7.6"
  }
 },
 "nbformat": 4,
 "nbformat_minor": 5
}
